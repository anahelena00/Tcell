{
 "cells": [
  {
   "cell_type": "code",
   "execution_count": 1,
   "metadata": {},
   "outputs": [],
   "source": [
    "import numpy as np\n",
    "import random\n",
    "import matplotlib.pyplot as plt\n",
    "import numba\n",
    "import pandas as pd\n",
    "import timeit\n",
    "import os\n",
    "from datetime import datetime\n",
    "import csv"
   ]
  },
  {
   "cell_type": "code",
   "execution_count": 3,
   "metadata": {},
   "outputs": [],
   "source": [
    "# Creating lattice in specified size by size and ratio of 1's\n",
    "# We will start without any bacteria since that at high T it changes quickly with mu\n",
    "\n",
    "def create_lattice(size, number_of_T):   \n",
    "    num_ones = int(number_of_T)\n",
    "    num_zeros = size * size - num_ones\n",
    "    number_of_particles = num_ones\n",
    "\n",
    "    lattice = np.concatenate((np.ones(num_ones, dtype=int), np.zeros(num_zeros, dtype=int)),axis=0)\n",
    "\n",
    "    # Shuffle the array to distribute 1s and 0s randomly\n",
    "    np.random.shuffle(lattice)\n",
    "\n",
    "    # Reshape the 1D array into a 2D lattice\n",
    "    lattice = lattice.reshape(size, size)\n",
    "    \n",
    "    pos1 = np.where(lattice == 1)\n",
    "    pos1 = np.array(pos1)           # coordinates of 1's\n",
    "\n",
    "    pos0 = np.where(lattice == 0)   \n",
    "    pos0 = np.array(pos0)           # coordinates of 0's\n",
    "    \n",
    "    density = number_of_particles/size**2\n",
    "\n",
    "    return lattice, pos1, pos0, density"
   ]
  },
  {
   "cell_type": "code",
   "execution_count": 4,
   "metadata": {},
   "outputs": [],
   "source": [
    "def position_random(pos):\n",
    "    col = np.random.choice(pos[0,:],1)\n",
    "    #j = np.random.choice(pos[1,:],1)\n",
    "    p = pos[:,col]\n",
    "    return p,col "
   ]
  },
  {
   "cell_type": "code",
   "execution_count": 6,
   "metadata": {},
   "outputs": [],
   "source": [
    "# Make interaction matrix\n",
    "def matrix(particle1, particle2):\n",
    "    \n",
    "    if particle1*particle2 == 1:\n",
    "        interaction = -1\n",
    "    if particle1*particle2 == 4:\n",
    "        interaction = 10\n",
    "    if particle1*particle2 == 2:\n",
    "        interaction = 3\n",
    "        \n",
    "    return interaction"
   ]
  },
  {
   "cell_type": "code",
   "execution_count": 7,
   "metadata": {},
   "outputs": [],
   "source": [
    "# find energy a particle has or would have at specified position\n",
    "\n",
    "def energy(lattice,p,eps):\n",
    "    s = lattice.shape[0]-1\n",
    "    i = p[0]\n",
    "    j = p[1]\n",
    "    \n",
    "    if i==0:\n",
    "        up = lattice[s,j]   \n",
    "    else:    \n",
    "        up = lattice[i-1,j]\n",
    "\n",
    "    if i == s:\n",
    "        down = lattice[0,j]      \n",
    "    else:\n",
    "        down = lattice[i+1,j]\n",
    "\n",
    "    if j == 0:\n",
    "        left = lattice[i,s]        \n",
    "    else:\n",
    "        left = lattice[i,j-1]     \n",
    "\n",
    "    if j == s:\n",
    "        right = lattice[i,0]       \n",
    "    else:\n",
    "        right = lattice[i,j+1]\n",
    "        \n",
    "    E = -eps * 1 *(up+down+left+right) # 1 added because their /is/ or /hypothetically is/ a particle\n",
    "    return E"
   ]
  },
  {
   "cell_type": "code",
   "execution_count": null,
   "metadata": {},
   "outputs": [],
   "source": [
    "def evaluate_particle_add(w):\n",
    "    return 0"
   ]
  }
 ],
 "metadata": {
  "kernelspec": {
   "display_name": "Python 3",
   "language": "python",
   "name": "python3"
  },
  "language_info": {
   "codemirror_mode": {
    "name": "ipython",
    "version": 3
   },
   "file_extension": ".py",
   "mimetype": "text/x-python",
   "name": "python",
   "nbconvert_exporter": "python",
   "pygments_lexer": "ipython3",
   "version": "3.11.6"
  }
 },
 "nbformat": 4,
 "nbformat_minor": 2
}
