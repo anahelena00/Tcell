{
 "cells": [
  {
   "cell_type": "code",
   "execution_count": 681,
   "id": "37b72c85",
   "metadata": {},
   "outputs": [],
   "source": [
    "import numpy as np\n",
    "import random\n",
    "import matplotlib.pyplot as plt\n",
    "import numba\n",
    "import time\n",
    "import os\n",
    "from datetime import datetime\n"
   ]
  },
  {
   "cell_type": "code",
   "execution_count": 682,
   "id": "841ae704",
   "metadata": {},
   "outputs": [],
   "source": [
    "def create_lattice(lattice_length, T_num, B_num):\n",
    "    lattice = np.zeros([lattice_length, lattice_length])\n",
    "    \n",
    "    # Place T's randomly\n",
    "    t_coords = np.empty((2, 0), dtype=int)  # Initialize as an empty array\n",
    "    while t_coords.shape[1] < T_num:  # Check the number of columns\n",
    "        t = np.array([[np.random.randint(lattice_length)], [np.random.randint(lattice_length)]])\n",
    "        if not np.any(np.all(t == t_coords, axis=0)):\n",
    "            t_coords = np.hstack((t_coords, t))\n",
    "            lattice[t[0, 0], t[1, 0]] = 1\n",
    "    \n",
    "    # Place B's randomly\n",
    "    b_coords = np.empty((2, 0), dtype=int)  # Initialize as an empty array\n",
    "    while b_coords.shape[1] < B_num:  # Check the number of columns\n",
    "        b = np.array([[np.random.randint(lattice_length)], [np.random.randint(lattice_length)]])\n",
    "        if not np.any(np.all(b == b_coords, axis=0)) and not np.any(np.all(b == t_coords, axis=0)):\n",
    "            b_coords = np.hstack((b_coords, b))\n",
    "            lattice[b[0, 0], b[1, 0]] = 2\n",
    "    \n",
    "    empty_coords = np.argwhere(lattice == 0).T\n",
    "    \n",
    "    return lattice, t_coords, b_coords, empty_coords"
   ]
  },
  {
   "cell_type": "code",
   "execution_count": 683,
   "id": "a4b3c31a",
   "metadata": {},
   "outputs": [],
   "source": [
    "# showing lattices as they evolve \n",
    "\n",
    "def lattice_plots(lattice_history, selected_indices):\n",
    "\n",
    "    cmap = plt.cm.colors.ListedColormap(['white', 'blue', 'red'])\n",
    "\n",
    "    for i in range(len(selected_indices)):\n",
    "\n",
    "        # Create a plot\n",
    "        plt.imshow(lattice_history[i], cmap=cmap, extent=[0, size, 0, size])\n",
    "        plt.colorbar(ticks=[0, 1, 2], label=\"Legend\")\n",
    "        plt.title(\"Lattice with T's (Blue) and B's (Red)\")\n",
    "\n",
    "  \n",
    "\n",
    "        #plt.title(f\"Lattice at Iteration {selected_indices[i]}\")  # Add a title with the iteration number\n",
    "\n",
    "        #fig_name = f\"Plot\\Lattice_iter{selected_indices[i]}\"\n",
    "        # plt.savefig(fig_name)\n",
    "        plt.show()\n",
    "        "
   ]
  },
  {
   "cell_type": "code",
   "execution_count": 684,
   "id": "b830287b",
   "metadata": {},
   "outputs": [],
   "source": [
    "def position_random(pos): ###Problem\n",
    "    col = np.random.randint(pos.shape[1]) ###REVIEW\n",
    "    p = pos[:,col]\n",
    "    #print(\"random\",col,pos.shape[1]-1 )\n",
    "    return p, col"
   ]
  },
  {
   "cell_type": "code",
   "execution_count": 685,
   "id": "f5138946",
   "metadata": {},
   "outputs": [],
   "source": [
    "\n",
    "def energy(lattice, ID_in, pos_hypo, interaction_matrix):\n",
    "    s = lattice.shape[0]-1\n",
    "    i = pos_hypo[0] # x coordinate\n",
    "    j = pos_hypo[1] # y coordinate\n",
    "    \n",
    "    if i==0:\n",
    "        up = lattice[s,j]   \n",
    "    else:    \n",
    "        up = lattice[i-1,j]\n",
    "    up = int(up)\n",
    "\n",
    "    if i == s:\n",
    "        down = lattice[0,j]      \n",
    "    else:\n",
    "        down = lattice[i+1,j]\n",
    "    down = int(down)\n",
    "\n",
    "    if j == 0:\n",
    "        left = lattice[i,s]        \n",
    "    else:\n",
    "        left = lattice[i,j-1]    \n",
    "    left = int(left)\n",
    "\n",
    "    if j == s:\n",
    "        right = lattice[i,0]       \n",
    "    else:\n",
    "        right = lattice[i,j+1]\n",
    "    right = int(right)\n",
    "    \n",
    "    \n",
    "    E = -(interaction_matrix[ID_in, up] + interaction_matrix[ID_in, down] + interaction_matrix[ID_in, left] + \n",
    "          interaction_matrix[ID_in, right])\n",
    "    return E"
   ]
  },
  {
   "cell_type": "code",
   "execution_count": 686,
   "id": "78907e38",
   "metadata": {},
   "outputs": [],
   "source": [
    "# total energy of lattice\n",
    "def lattice_energy(lattice, eps):\n",
    "    \n",
    "    E_total = 0\n",
    "    rows, cols = lattice.shape\n",
    "\n",
    "    for i in range(rows):\n",
    "        for j in range(cols):\n",
    "            val = int(lattice[i, j])\n",
    "            E_total += energy(lattice, val, (i, j), eps)\n",
    "\n",
    "    E_total = E_total / 2\n",
    "    \n",
    "    return E_total\n"
   ]
  },
  {
   "cell_type": "code",
   "execution_count": 687,
   "metadata": {},
   "outputs": [],
   "source": [
    "\n",
    "def evaluate_particle_addB(lattice, pos2, pos0, T, E_total, eps):\n",
    "    #print(\"pos1before\",pos1.shape)\n",
    "    pb, colb = position_random(pos0) #pick a hole to put bacteria\n",
    "    \n",
    "    #ID_in= lattice[pb[0], pb[1]] #change it in the lattice\n",
    "    ID_in = 2\n",
    "    Efin = energy(lattice, ID_in, pb, eps) #evaluate neighbouring energy\n",
    "    #ID_in = lattice[pb[0], pb[1]]\n",
    "    ID_in = 0\n",
    "    Ein = energy(lattice,ID_in, pb, eps) #evaluate neighbouring energy before\n",
    "    \n",
    "    #print(\"Efin , Ein\", Efin, Ein)\n",
    "    Ediff = Efin - Ein\n",
    "    #print(\"Ediff \", Ediff)\n",
    "\n",
    "    if Ediff < 0 :\n",
    "        add = True\n",
    "    \n",
    "    else:\n",
    "        probability = np.exp(-Ediff/T)\n",
    "        if random.random() < probability: # random.random gives between 0 and 1. Hence higher prob -> more move\n",
    "            add = True \n",
    "        else:\n",
    "            add = False\n",
    "        \n",
    "    if add: \n",
    "        lattice[pb[0], pb[1]] = 2\n",
    "        #print(\"before\",pos2, pb)\n",
    "        pos2 = np.hstack((pos2, np.array([pb]).reshape(-1, 1)))\n",
    "        #print(\"after\",pos2)\n",
    "        E_total = E_total + Ediff\n",
    "        E_total = float(E_total)\n",
    "        #print(\"Ediff:\", Ediff)\n",
    "        \n",
    "    else:\n",
    "        lattice[pb[0], pb[1]] = 0\n",
    "    #print(E_total, Ediff)\n",
    "    return lattice, pos2, pos0, E_total"
   ]
  },
  {
   "cell_type": "code",
   "execution_count": 688,
   "id": "03286e12",
   "metadata": {},
   "outputs": [],
   "source": [
    "# check if object moves. pos1 is the coordinates of all objects where one is to be moved. \n",
    "# most likely a Tcell\n",
    "# pos0 are coordinates of holes in the lattice \n",
    "\n",
    "def evaluate_particle_moveT(lattice, pos1, pos0, T, E_total, eps):\n",
    "    #print(\"pos1before\",pos1.shape)\n",
    "    p1, col1 = position_random(pos1)\n",
    "    \n",
    "    ID_in = lattice[p1[0], p1[1]]\n",
    "    ID_in = int(ID_in)\n",
    "    Ein = energy(lattice,ID_in, p1, eps)\n",
    "    \n",
    "    p0, col0 = position_random(pos0)\n",
    "    # seeing what energy would be for particle if it moved the the chosen empty location\n",
    "    lattice[p1[0], p1[1]] = 0 # temporarily moving object so not to be seen as neighbor by itself\n",
    "    Efin = energy(lattice, ID_in, p0, eps)\n",
    "    #print(\"Efin , Ein\", Efin, Ein)\n",
    "    Ediff = Efin - Ein\n",
    "\n",
    "\n",
    "    if Ediff < 0 :\n",
    "        move = True\n",
    "    \n",
    "    else:\n",
    "        probability = np.exp(-Ediff/T)\n",
    "        if random.random() < probability: # random.random gives between 0 and 1. Hence higher prob -> more move\n",
    "            move = True \n",
    "        else:\n",
    "            move = False\n",
    "        \n",
    "    if move: \n",
    "        lattice[p0[0], p0[1]] = 1\n",
    "        # update arrays containing coordinates of 0's and 1's\n",
    "        pos1[:,col1] = [p0[0], p0[1]]\n",
    "        pos0[:,col0] = [p1[0], p1[1]]\n",
    "        #print(pos1)\n",
    "        E_total = E_total + Ediff\n",
    "        E_total = float(E_total)\n",
    "        #print(\"Ediff:\", Ediff)\n",
    "        \n",
    "    else:\n",
    "        lattice[p0[0], p0[1]] = 0\n",
    "        lattice[p1[0], p1[1]] = 1\n",
    "    #print(E_total, Ediff)\n",
    "    return lattice, pos1, pos0, E_total"
   ]
  },
  {
   "cell_type": "code",
   "execution_count": 689,
   "metadata": {},
   "outputs": [],
   "source": [
    "def gridprint(lattice,lattice_length):\n",
    "    cmap = plt.cm.colors.ListedColormap(['white', 'blue', 'red'])\n",
    "    plt.imshow(lattice, cmap=cmap, extent=[0, lattice_length, 0, lattice_length])\n",
    "    plt.colorbar(ticks=[0, 1, 2], label=\"Legend\")\n",
    "    plt.title(\"Lattice with T's (Blue) and B's (Red)\")\n",
    "    #plt.grid(True, linewidth=0.5, color='black')\n",
    "    plt.show()\n",
    "  \n",
    "    return 0"
   ]
  },
  {
   "cell_type": "code",
   "execution_count": 690,
   "id": "18514d65",
   "metadata": {},
   "outputs": [],
   "source": [
    "\n",
    "def monte_carlo(Temp, eps, lattice_length, T_num, B_num, num_runs, num_lattices_to_store=None):\n",
    "    lattice, pos1, pos2, pos0 = create_lattice(lattice_length, T_num, B_num)\n",
    "    E_lattice = lattice_energy(lattice, eps)\n",
    "\n",
    "    E_history = {}\n",
    "    \n",
    "    for ind, t in enumerate(Temp):\n",
    "        #lattice_history = []\n",
    "        E_history_for_Temp = []\n",
    "        #for temperature in T:\n",
    "        for i in range(0,num_runs): # change to from one and append initial E and lattice to outisde\n",
    "            E_history_for_Temp.append(E_lattice)\n",
    "            \n",
    "            lattice, pos1, pos0, E_lattice = evaluate_particle_moveT(lattice, pos1, pos0, t, E_lattice, eps)\n",
    "            \n",
    "            lattice, pos2, pos0, E_lattice = evaluate_particle_addB(lattice, pos2, pos0, t, E_lattice, eps)\n",
    "            #gridprint(lattice,lattice_length)\n",
    "        E_history[t] = E_history_for_Temp.copy()\n",
    "\n",
    "    #SAVE ON FILE\n",
    "    current_datetime = datetime.now()\n",
    "    datetime_str = current_datetime.strftime('%Y%m%d-%H-%M')    \n",
    "    run_name = f'{datetime_str}'\n",
    "    \n",
    "    return lattice, E_history, T_num, B_num\n",
    "    #return lattice"
   ]
  },
  {
   "cell_type": "code",
   "execution_count": 691,
   "id": "c4d25c1b",
   "metadata": {},
   "outputs": [
    {
     "name": "stdout",
     "output_type": "stream",
     "text": [
      "E: {5.0: [-11.0, -11.0, -20.0, -30.0, -35.0], 4.9: [-44.0, -48.0, -48.0, -60.0, -65.0], 4.800000000000001: [-76.0, -77.0, -83.0, -84.0, -89.0], 4.700000000000001: [-95.0, -101.0, -103.0, -108.0, -111.0], 4.600000000000001: [-116.0, -120.0, -121.0, -122.0, -128.0], 4.500000000000002: [-136.0, -138.0, -140.0, -143.0, -148.0], 4.400000000000002: [-153.0, -159.0, -161.0, -166.0, -176.0], 4.3000000000000025: [-180.0, -182.0, -188.0, -190.0, -192.0], 4.200000000000003: [-189.0, -199.0, -200.0, -201.0, -209.0], 4.100000000000003: [-210.0, -212.0, -216.0, -221.0, -231.0], 4.0000000000000036: [-234.0, -235.0, -235.0, -248.0, -253.0], 3.900000000000004: [-258.0, -262.0, -255.0, -257.0, -260.0], 3.8000000000000043: [-257.0, -261.0, -268.0, -273.0, -280.0], 3.7000000000000046: [-284.0, -285.0, -290.0, -295.0, -300.0], 3.600000000000005: [-309.0, -311.0, -317.0, -327.0, -327.0], 3.5000000000000053: [-338.0, -343.0, -349.0, -353.0, -358.0], 3.4000000000000057: [-367.0, -368.0, -376.0, -382.0, -389.0], 3.300000000000006: [-395.0, -400.0, -406.0, -413.0, -421.0], 3.2000000000000064: [-417.0, -419.0, -424.0, -430.0, -435.0], 3.1000000000000068: [-440.0, -454.0, -456.0, -461.0, -464.0], 3.000000000000007: [-469.0, -471.0, -474.0, -479.0, -486.0], 2.9000000000000075: [-492.0, -496.0, -502.0, -506.0, -511.0], 2.800000000000008: [-524.0, -526.0, -527.0, -533.0, -530.0], 2.700000000000008: [-537.0, -542.0, -547.0, -553.0, -561.0], 2.6000000000000085: [-572.0, -571.0, -577.0, -584.0, -592.0], 2.500000000000009: [-597.0, -603.0, -607.0, -611.0, -617.0], 2.4000000000000092: [-622.0, -630.0, -631.0, -641.0, -647.0], 2.3000000000000096: [-657.0, -664.0, -668.0, -670.0, -673.0], 2.20000000000001: [-674.0, -677.0, -678.0, -681.0, -686.0], 2.1000000000000103: [-688.0, -690.0, -687.0, -688.0, -696.0], 2.0000000000000107: [-701.0, -704.0, -708.0, -710.0, -722.0], 1.900000000000011: [-724.0, -726.0, -732.0, -734.0, -741.0], 1.8000000000000114: [-751.0, -762.0, -764.0, -771.0, -774.0], 1.7000000000000117: [-776.0, -782.0, -790.0, -790.0, -795.0], 1.600000000000012: [-797.0, -799.0, -802.0, -802.0, -802.0], 1.5000000000000124: [-803.0, -805.0, -805.0, -810.0, -822.0], 1.4000000000000128: [-827.0, -832.0, -833.0, -834.0, -839.0], 1.3000000000000131: [-839.0, -845.0, -854.0, -856.0, -866.0], 1.2000000000000135: [-866.0, -869.0, -872.0, -874.0, -885.0], 1.1000000000000139: [-886.0, -888.0, -890.0, -899.0, -904.0], 1.0000000000000142: [-910.0, -910.0, -912.0, -917.0, -923.0], 0.9000000000000146: [-927.0, -928.0, -939.0, -941.0, -948.0], 0.8000000000000149: [-949.0, -954.0, -956.0, -969.0, -975.0], 0.7000000000000153: [-976.0, -982.0, -991.0, -997.0, -1006.0], 0.6000000000000156: [-1015.0, -1028.0, -1033.0, -1035.0, -1042.0], 0.500000000000016: [-1048.0, -1051.0, -1052.0, -1057.0, -1063.0], 0.40000000000001634: [-1065.0, -1066.0, -1068.0, -1070.0, -1072.0], 0.3000000000000167: [-1077.0, -1079.0, -1085.0, -1091.0, -1096.0], 0.20000000000001705: [-1101.0, -1104.0, -1105.0, -1107.0, -1109.0], 0.10000000000001741: [-1115.0, -1124.0, -1125.0, -1127.0, -1129.0]}\n"
     ]
    }
   ],
   "source": [
    "# the interaction matrix can be used to decide how many bacteria are able to multiply. \n",
    "# if surrounded by T cells -> no division\n",
    "# the body is modelled by an N by N lattice\n",
    "\n",
    "num_runs = 5\n",
    "#Temp = 0.2\n",
    "T = np.arange(5,0.01,-0.1)\n",
    "Test = np.arange(.1,.01,-0.1)\n",
    "size = 5\n",
    "\n",
    "T_num_in = 6    # number of initial T-cells\n",
    "B_num_in = 4\n",
    "\n",
    "BB_int = 1      # interaction energy between bacterias\n",
    "TT_int = -1      # interaction energy between T-cells\n",
    "BT_int = 4     # interaction energy between bacteria and T-cells\n",
    "interaction_matrix = np.array([\n",
    "    [0, 0, 0],\n",
    "    [0, TT_int, BT_int],\n",
    "    [0, BT_int, BB_int]\n",
    "])\n",
    "\n",
    "lattice, E_history, T_num, B_num = monte_carlo(T, interaction_matrix, size, T_num_in, B_num_in, num_runs, num_lattices_to_store=None)\n",
    "print(\"E:\", E_history)"
   ]
  },
  {
   "cell_type": "code",
   "execution_count": 692,
   "metadata": {},
   "outputs": [],
   "source": [
    "\n",
    "def mean_energyWITHDENSITY(T, density, E_history, ind_equilibrium):\n",
    "\n",
    "    E_mean = np.zeros([len(T),len(density)])\n",
    "    E_variance = np.zeros([len(T),len(density)])\n",
    "\n",
    "    for j in density:\n",
    "        E = E_history[j]\n",
    "        for i in T:\n",
    "            E_mean[i][j] = np.mean(E[i][ind_equilibrium:-1])\n",
    "            E_variance[i][j] = np.var(E[i][ind_equilibrium:-1])\n",
    "\n",
    "    return E_mean, E_variance"
   ]
  },
  {
   "cell_type": "code",
   "execution_count": 693,
   "metadata": {},
   "outputs": [
    {
     "data": {
      "text/plain": [
       "array([  -30.,   -60.,   -84.,  -108.,  -122.,  -143.,  -166.,  -190.,\n",
       "        -201.,  -221.,  -248.,  -257.,  -273.,  -295.,  -327.,  -353.,\n",
       "        -382.,  -413.,  -430.,  -461.,  -479.,  -506.,  -533.,  -553.,\n",
       "        -584.,  -611.,  -641.,  -670.,  -681.,  -688.,  -710.,  -734.,\n",
       "        -771.,  -790.,  -802.,  -810.,  -834.,  -856.,  -874.,  -899.,\n",
       "        -917.,  -941.,  -969.,  -997., -1035., -1057., -1070., -1091.,\n",
       "       -1107., -1127.])"
      ]
     },
     "execution_count": 693,
     "metadata": {},
     "output_type": "execute_result"
    }
   ],
   "source": [
    "def mean_energy(T, E_history, ind_equilibrium):\n",
    "    \n",
    "    E = E_history\n",
    "    E_mean = np.zeros([len(T)])\n",
    "    E_variance = np.zeros([len(T)])\n",
    "\n",
    "    for ind,t in enumerate(T):\n",
    "        E_mean[ind] = np.mean(E[t][ind_equilibrium:-1])\n",
    "        E_variance[ind] = np.var(E[t][ind_equilibrium:-1])\n",
    "\n",
    "    return E_mean, E_variance\n",
    "\n",
    "ind_equi = int(2/3*num_runs) # index where equilibrium is assumed. \n",
    "E_mean, E_var = mean_energy(T, E_history, ind_equi)\n",
    "\n",
    "E_mean"
   ]
  },
  {
   "cell_type": "code",
   "execution_count": 695,
   "id": "b3942c82",
   "metadata": {
    "scrolled": false
   },
   "outputs": [
    {
     "data": {
      "image/png": "[encoded data removed]",
      "text/plain": [
       "<Figure size 640x480 with 1 Axes>"
      ]
     },
     "metadata": {},
     "output_type": "display_data"
    }
   ],
   "source": [
    "plt.figure()\n",
    "plt.plot(T,E_mean)\n",
    "plt.xlabel('T')\n",
    "plt.ylabel('U')\n",
    "plt.show()\n",
    "#lattice_plots(lattice, np.arange(0,100,5))"
   ]
  }
 ],
 "metadata": {
  "kernelspec": {
   "display_name": "Python 3 (ipykernel)",
   "language": "python",
   "name": "python3"
  },
  "language_info": {
   "codemirror_mode": {
    "name": "ipython",
    "version": 3
   },
   "file_extension": ".py",
   "mimetype": "text/x-python",
   "name": "python",
   "nbconvert_exporter": "python",
   "pygments_lexer": "ipython3",
   "version": "3.11.6"
  }
 },
 "nbformat": 4,
 "nbformat_minor": 5
}
