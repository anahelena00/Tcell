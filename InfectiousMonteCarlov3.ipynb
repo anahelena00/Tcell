{
 "cells": [
  {
   "cell_type": "code",
   "execution_count": 114,
   "id": "37b72c85",
   "metadata": {},
   "outputs": [],
   "source": [
    "import numpy as np\n",
    "import random\n",
    "import matplotlib.pyplot as plt\n",
    "import numba\n",
    "import time\n",
    "import os\n",
    "from datetime import datetime\n"
   ]
  },
  {
   "cell_type": "code",
   "execution_count": 115,
   "id": "841ae704",
   "metadata": {},
   "outputs": [],
   "source": [
    "def create_lattice(lattice_length, T_num, B_num):\n",
    "    lattice = np.zeros([lattice_length, lattice_length])\n",
    "    \n",
    "    # Place T's randomly\n",
    "    t_coords = np.empty((2, 0), dtype=int)  # Initialize as an empty array\n",
    "    while t_coords.shape[1] < T_num:  # Check the number of columns\n",
    "        t = np.array([[np.random.randint(lattice_length)], [np.random.randint(lattice_length)]])\n",
    "        if not np.any(np.all(t == t_coords, axis=0)):\n",
    "            t_coords = np.hstack((t_coords, t))\n",
    "            lattice[t[0, 0], t[1, 0]] = 1\n",
    "    \n",
    "    # Place B's randomly\n",
    "    b_coords = np.empty((2, 0), dtype=int)  # Initialize as an empty array\n",
    "    while b_coords.shape[1] < B_num:  # Check the number of columns\n",
    "        b = np.array([[np.random.randint(lattice_length)], [np.random.randint(lattice_length)]])\n",
    "        if not np.any(np.all(b == b_coords, axis=0)) and not np.any(np.all(b == t_coords, axis=0)):\n",
    "            b_coords = np.hstack((b_coords, b))\n",
    "            lattice[b[0, 0], b[1, 0]] = 2\n",
    "    \n",
    "    empty_coords = np.argwhere(lattice == 0).T\n",
    "    \n",
    "    return lattice, t_coords, b_coords, empty_coords"
   ]
  },
  {
   "cell_type": "code",
   "execution_count": 116,
   "id": "a4b3c31a",
   "metadata": {},
   "outputs": [],
   "source": [
    "# showing lattices as they evolve \n",
    "\n",
    "def lattice_plots(lattice_history, selected_indices):\n",
    "\n",
    "    cmap = plt.cm.colors.ListedColormap(['white', 'blue', 'red'])\n",
    "\n",
    "    for i in range(len(selected_indices)):\n",
    "\n",
    "        # Create a plot\n",
    "        plt.imshow(lattice_history[i], cmap=cmap, extent=[0, size, 0, size])\n",
    "        plt.colorbar(ticks=[0, 1, 2], label=\"Legend\")\n",
    "        plt.title(\"Lattice with T's (Blue) and B's (Red)\")\n",
    "\n",
    "  \n",
    "\n",
    "        #plt.title(f\"Lattice at Iteration {selected_indices[i]}\")  # Add a title with the iteration number\n",
    "\n",
    "        #fig_name = f\"Plot\\Lattice_iter{selected_indices[i]}\"\n",
    "        # plt.savefig(fig_name)\n",
    "        plt.show()\n",
    "        "
   ]
  },
  {
   "cell_type": "code",
   "execution_count": 117,
   "id": "b830287b",
   "metadata": {},
   "outputs": [],
   "source": [
    "def position_random(pos): ###Problem\n",
    "    col = np.random.randint(pos.shape[1]) ###REVIEW\n",
    "    p = pos[:,col]\n",
    "    #print(\"random\",col,pos.shape[1]-1 )\n",
    "    return p, col"
   ]
  },
  {
   "cell_type": "code",
   "execution_count": 118,
   "id": "f5138946",
   "metadata": {},
   "outputs": [],
   "source": [
    "\n",
    "def energy(lattice, ID_in, pos_hypo, interaction_matrix):\n",
    "    s = lattice.shape[0]-1\n",
    "    i = pos_hypo[0] # x coordinate\n",
    "    j = pos_hypo[1] # y coordinate\n",
    "    \n",
    "    if i==0:\n",
    "        up = lattice[s,j]   \n",
    "    else:    \n",
    "        up = lattice[i-1,j]\n",
    "    up = int(up)\n",
    "\n",
    "    if i == s:\n",
    "        down = lattice[0,j]      \n",
    "    else:\n",
    "        down = lattice[i+1,j]\n",
    "    down = int(down)\n",
    "\n",
    "    if j == 0:\n",
    "        left = lattice[i,s]        \n",
    "    else:\n",
    "        left = lattice[i,j-1]    \n",
    "    left = int(left)\n",
    "\n",
    "    if j == s:\n",
    "        right = lattice[i,0]       \n",
    "    else:\n",
    "        right = lattice[i,j+1]\n",
    "    right = int(right)\n",
    "    \n",
    "    \n",
    "    E = -(interaction_matrix[ID_in, up] + interaction_matrix[ID_in, down] + interaction_matrix[ID_in, left] + \n",
    "          interaction_matrix[ID_in, right])\n",
    "    return E"
   ]
  },
  {
   "cell_type": "code",
   "execution_count": 119,
   "id": "78907e38",
   "metadata": {},
   "outputs": [],
   "source": [
    "# total energy of lattice\n",
    "def lattice_energy(lattice, eps):\n",
    "    \n",
    "    E_total = 0\n",
    "    rows, cols = lattice.shape\n",
    "\n",
    "    for i in range(rows):\n",
    "        for j in range(cols):\n",
    "            val = int(lattice[i, j])\n",
    "            E_total += energy(lattice, val, (i, j), eps)\n",
    "\n",
    "    E_total = E_total / 2\n",
    "    \n",
    "    return E_total\n"
   ]
  },
  {
   "cell_type": "code",
   "execution_count": 120,
   "metadata": {},
   "outputs": [],
   "source": [
    "\n",
    "def evaluate_particle_addB(lattice, pos2, pos0, T, E_total, eps):\n",
    "    #print(\"pos1before\",pos1.shape)\n",
    "    pb, colb = position_random(pos0) #pick a hole to put bacteria\n",
    "    \n",
    "    ID_in= lattice[pb[0], pb[1]] #change it in the lattice\n",
    "    ID_in = 2\n",
    "    Efin = energy(lattice, ID_in, pb, eps) #evaluate neighbouring energy\n",
    "    #ID_in = lattice[pb[0], pb[1]]\n",
    "    ID_in = 0\n",
    "    Ein = energy(lattice,ID_in, pb, eps) #evaluate neighbouring energy before\n",
    "    \n",
    "    #print(\"Efin , Ein\", Efin, Ein)\n",
    "    Ediff = Efin - Ein\n",
    "\n",
    "\n",
    "    if Ediff < 0 :\n",
    "        move = True\n",
    "    \n",
    "    else:\n",
    "        probability = np.exp(-Ediff/T)\n",
    "        if random.random() < probability: # random.random gives between 0 and 1. Hence higher prob -> more move\n",
    "            move = True \n",
    "        else:\n",
    "            move = False\n",
    "        \n",
    "    if move: \n",
    "        lattice[pb[0], pb[1]] = 2\n",
    "        # update arrays containing coordinates of 0's and 1's\n",
    "        pos2 = np.column_stack((pos2, [pb[0], pb[1]]))\n",
    "        E_total = E_total + Ediff\n",
    "        E_total = float(E_total)\n",
    "        #print(\"Ediff:\", Ediff)\n",
    "        \n",
    "    else:\n",
    "        lattice[pb[0], pb[1]] = 0\n",
    "    #print(E_total, Ediff)\n",
    "    return lattice, pos2, pos0, E_total"
   ]
  },
  {
   "cell_type": "code",
   "execution_count": 121,
   "id": "03286e12",
   "metadata": {},
   "outputs": [],
   "source": [
    "# check if object moves. pos1 is the coordinates of all objects where one is to be moved. \n",
    "# most likely a Tcell\n",
    "# pos0 are coordinates of holes in the lattice \n",
    "\n",
    "def evaluate_particle_moveT(lattice, pos1, pos0, T, E_total, eps):\n",
    "    #print(\"pos1before\",pos1.shape)\n",
    "    p1, col1 = position_random(pos1)\n",
    "    \n",
    "    ID_in = lattice[p1[0], p1[1]]\n",
    "    ID_in = int(ID_in)\n",
    "    Ein = energy(lattice,ID_in, p1, eps)\n",
    "    \n",
    "    p0, col0 = position_random(pos0)\n",
    "    # seeing what energy would be for particle if it moved the the chosen empty location\n",
    "    lattice[p1[0], p1[1]] = 0 # temporarily moving object so not to be seen as neighbor by itself\n",
    "    Efin = energy(lattice, ID_in, p0, eps)\n",
    "    #print(\"Efin , Ein\", Efin, Ein)\n",
    "    Ediff = Efin - Ein\n",
    "\n",
    "\n",
    "    if Ediff < 0 :\n",
    "        move = True\n",
    "    \n",
    "    else:\n",
    "        probability = np.exp(-Ediff/T)\n",
    "        if random.random() < probability: # random.random gives between 0 and 1. Hence higher prob -> more move\n",
    "            move = True \n",
    "        else:\n",
    "            move = False\n",
    "        \n",
    "    if move: \n",
    "        lattice[p0[0], p0[1]] = 1\n",
    "        # update arrays containing coordinates of 0's and 1's\n",
    "        pos1[:,col1] = [p0[0], p0[1]]\n",
    "        pos0[:,col0] = [p1[0], p1[1]]\n",
    "        E_total = E_total + Ediff\n",
    "        E_total = float(E_total)\n",
    "        #print(\"Ediff:\", Ediff)\n",
    "        \n",
    "    else:\n",
    "        lattice[p0[0], p0[1]] = 0\n",
    "        lattice[p1[0], p1[1]] = 1\n",
    "    #print(E_total, Ediff)\n",
    "    return lattice, pos1, pos0, E_total"
   ]
  },
  {
   "cell_type": "code",
   "execution_count": 122,
   "metadata": {},
   "outputs": [],
   "source": [
    "def gridprint(lattice,lattice_length):\n",
    "    cmap = plt.cm.colors.ListedColormap(['white', 'blue', 'red'])\n",
    "    plt.imshow(lattice, cmap=cmap, extent=[0, lattice_length, 0, lattice_length])\n",
    "    plt.colorbar(ticks=[0, 1, 2], label=\"Legend\")\n",
    "    plt.title(\"Lattice with T's (Blue) and B's (Red)\")\n",
    "    #plt.grid(True, linewidth=0.5, color='black')\n",
    "    plt.show()\n",
    "    return 0"
   ]
  },
  {
   "cell_type": "code",
   "execution_count": 123,
   "id": "18514d65",
   "metadata": {},
   "outputs": [],
   "source": [
    "\n",
    "def monte_carlo(T, eps, lattice_length, T_num, B_num, num_runs, num_lattices_to_store=None):\n",
    "    lattice, pos1, pos2, pos0 = create_lattice(lattice_length, T_num, B_num)\n",
    "    E_lattice = lattice_energy(lattice, eps)\n",
    "    #print('E_in',E_lattice)\n",
    "    # Create a colormap for red (B) and blue (T)\n",
    "    #gridprint(lattice,lattice_length)\n",
    "    lattice_history = []\n",
    "    E_history = []\n",
    "    #for temperature in T:\n",
    "    \n",
    "    \n",
    "    for i in range(0,num_runs): # change to from one and append initial E and lattice to outisde\n",
    "        \n",
    "        lattice, pos1, pos0, E_lattice = evaluate_particle_moveT(\n",
    "                                         lattice, pos1, pos0, T, E_lattice, eps)\n",
    "        E_history.append(E_lattice)\n",
    "        ###MAKE EVALUATE FOR PATHOGENS!!!\n",
    "        lattice, pos2, pos0, E_lattice = evaluate_particle_addB(\n",
    "                                         lattice, pos2, pos0, T, E_lattice, eps)\n",
    "        E_history.append(E_lattice)\n",
    "        #lattice_history.append(lattice.copy())\n",
    "        #E_history.append(E_lattice.copy())\n",
    "        #print(pos1, pos0)\n",
    "        #print('E_after',E_lattice)\n",
    "        #gridprint(lattice,lattice_length)\n",
    "    return lattice_history, E_history, T_num, B_num\n",
    "    #return lattice"
   ]
  },
  {
   "cell_type": "code",
   "execution_count": 124,
   "id": "c4d25c1b",
   "metadata": {},
   "outputs": [
    {
     "name": "stdout",
     "output_type": "stream",
     "text": [
      "[-1.0, -2.0, -2.0, -4.0, -4.0, -4.0, -4.0, -5.0, -5.0, -6.0, -6.0, -6.0, -6.0, -6.0, -6.0, -7.0, -7.0, -7.0, -8.0, -9.0]\n"
     ]
    }
   ],
   "source": [
    "# the interaction matrix can be used to decide how many bacteria are able to multiply. \n",
    "# if surrounded by T cells -> no division\n",
    "# the body is modelled by an N by N lattice\n",
    "\n",
    "num_runs = 10\n",
    "Temp = 0.2\n",
    "\n",
    "size = 5\n",
    "\n",
    "T_num_in = 4    # number of initial T-cells\n",
    "B_num_in = 2\n",
    "\n",
    "BB_int = 0      # interaction energy between bacterias\n",
    "TT_int = 0      # interaction energy between T-cells\n",
    "BT_int = 1     # interaction energy between bacteria and T-cells\n",
    "interaction_matrix = np.array([\n",
    "    [0, 0, 0],\n",
    "    [0, TT_int, BT_int],\n",
    "    [0, BT_int, BB_int]\n",
    "])\n",
    "\n",
    "lattice, E_lattice, T_num, B_num = monte_carlo(\n",
    "    Temp, interaction_matrix, size, T_num_in, B_num_in, num_runs, num_lattices_to_store=None)\n",
    "\n",
    "print(E_lattice)\n",
    "#E_lattice"
   ]
  },
  {
   "cell_type": "code",
   "execution_count": 125,
   "id": "ecf70f81",
   "metadata": {},
   "outputs": [
    {
     "data": {
      "image/png": "[encoded data removed]",
      "text/plain": [
       "<Figure size 640x480 with 1 Axes>"
      ]
     },
     "metadata": {},
     "output_type": "display_data"
    }
   ],
   "source": [
    "plt.figure()\n",
    "plt.plot(E_lattice)\n",
    "plt.show()"
   ]
  },
  {
   "cell_type": "code",
   "execution_count": 126,
   "id": "b3942c82",
   "metadata": {
    "scrolled": false
   },
   "outputs": [
    {
     "ename": "IndexError",
     "evalue": "list index out of range",
     "output_type": "error",
     "traceback": [
      "\u001b[1;31m---------------------------------------------------------------------------\u001b[0m",
      "\u001b[1;31mIndexError\u001b[0m                                Traceback (most recent call last)",
      "\u001b[1;32mc:\\Users\\35196\\OneDrive - Universidade de Lisboa\\Documentos\\Master\\Scientific Programming\\Code3\\InfectiousMonteCarlov3.ipynb Cell 13\u001b[0m line \u001b[0;36m1\n\u001b[1;32m----> <a href='vscode-notebook-cell:/c%3A/Users/35196/OneDrive%20-%20Universidade%20de%20Lisboa/Documentos/Master/Scientific%20Programming/Code3/InfectiousMonteCarlov3.ipynb#X14sZmlsZQ%3D%3D?line=0'>1</a>\u001b[0m lattice_plots(lattice, np\u001b[39m.\u001b[39;49marange(\u001b[39m0\u001b[39;49m,\u001b[39m100\u001b[39;49m,\u001b[39m5\u001b[39;49m))\n",
      "\u001b[1;32mc:\\Users\\35196\\OneDrive - Universidade de Lisboa\\Documentos\\Master\\Scientific Programming\\Code3\\InfectiousMonteCarlov3.ipynb Cell 13\u001b[0m line \u001b[0;36m1\n\u001b[0;32m      <a href='vscode-notebook-cell:/c%3A/Users/35196/OneDrive%20-%20Universidade%20de%20Lisboa/Documentos/Master/Scientific%20Programming/Code3/InfectiousMonteCarlov3.ipynb#X14sZmlsZQ%3D%3D?line=4'>5</a>\u001b[0m cmap \u001b[39m=\u001b[39m plt\u001b[39m.\u001b[39mcm\u001b[39m.\u001b[39mcolors\u001b[39m.\u001b[39mListedColormap([\u001b[39m'\u001b[39m\u001b[39mwhite\u001b[39m\u001b[39m'\u001b[39m, \u001b[39m'\u001b[39m\u001b[39mblue\u001b[39m\u001b[39m'\u001b[39m, \u001b[39m'\u001b[39m\u001b[39mred\u001b[39m\u001b[39m'\u001b[39m])\n\u001b[0;32m      <a href='vscode-notebook-cell:/c%3A/Users/35196/OneDrive%20-%20Universidade%20de%20Lisboa/Documentos/Master/Scientific%20Programming/Code3/InfectiousMonteCarlov3.ipynb#X14sZmlsZQ%3D%3D?line=6'>7</a>\u001b[0m \u001b[39mfor\u001b[39;00m i \u001b[39min\u001b[39;00m \u001b[39mrange\u001b[39m(\u001b[39mlen\u001b[39m(selected_indices)):\n\u001b[0;32m      <a href='vscode-notebook-cell:/c%3A/Users/35196/OneDrive%20-%20Universidade%20de%20Lisboa/Documentos/Master/Scientific%20Programming/Code3/InfectiousMonteCarlov3.ipynb#X14sZmlsZQ%3D%3D?line=7'>8</a>\u001b[0m \n\u001b[0;32m      <a href='vscode-notebook-cell:/c%3A/Users/35196/OneDrive%20-%20Universidade%20de%20Lisboa/Documentos/Master/Scientific%20Programming/Code3/InfectiousMonteCarlov3.ipynb#X14sZmlsZQ%3D%3D?line=8'>9</a>\u001b[0m     \u001b[39m# Create a plot\u001b[39;00m\n\u001b[1;32m---> <a href='vscode-notebook-cell:/c%3A/Users/35196/OneDrive%20-%20Universidade%20de%20Lisboa/Documentos/Master/Scientific%20Programming/Code3/InfectiousMonteCarlov3.ipynb#X14sZmlsZQ%3D%3D?line=9'>10</a>\u001b[0m     plt\u001b[39m.\u001b[39mimshow(lattice_history[i], cmap\u001b[39m=\u001b[39mcmap, extent\u001b[39m=\u001b[39m[\u001b[39m0\u001b[39m, size, \u001b[39m0\u001b[39m, size])\n\u001b[0;32m     <a href='vscode-notebook-cell:/c%3A/Users/35196/OneDrive%20-%20Universidade%20de%20Lisboa/Documentos/Master/Scientific%20Programming/Code3/InfectiousMonteCarlov3.ipynb#X14sZmlsZQ%3D%3D?line=10'>11</a>\u001b[0m     plt\u001b[39m.\u001b[39mcolorbar(ticks\u001b[39m=\u001b[39m[\u001b[39m0\u001b[39m, \u001b[39m1\u001b[39m, \u001b[39m2\u001b[39m], label\u001b[39m=\u001b[39m\u001b[39m\"\u001b[39m\u001b[39mLegend\u001b[39m\u001b[39m\"\u001b[39m)\n\u001b[0;32m     <a href='vscode-notebook-cell:/c%3A/Users/35196/OneDrive%20-%20Universidade%20de%20Lisboa/Documentos/Master/Scientific%20Programming/Code3/InfectiousMonteCarlov3.ipynb#X14sZmlsZQ%3D%3D?line=11'>12</a>\u001b[0m     plt\u001b[39m.\u001b[39mtitle(\u001b[39m\"\u001b[39m\u001b[39mLattice with T\u001b[39m\u001b[39m'\u001b[39m\u001b[39ms (Blue) and B\u001b[39m\u001b[39m'\u001b[39m\u001b[39ms (Red)\u001b[39m\u001b[39m\"\u001b[39m)\n",
      "\u001b[1;31mIndexError\u001b[0m: list index out of range"
     ]
    }
   ],
   "source": [
    "lattice_plots(lattice, np.arange(0,100,5))"
   ]
  },
  {
   "cell_type": "code",
   "execution_count": null,
   "id": "0fd1f8a1",
   "metadata": {},
   "outputs": [
    {
     "ename": "TypeError",
     "evalue": "Invalid shape (0,) for image data",
     "output_type": "error",
     "traceback": [
      "\u001b[1;31m---------------------------------------------------------------------------\u001b[0m",
      "\u001b[1;31mTypeError\u001b[0m                                 Traceback (most recent call last)",
      "\u001b[1;32mc:\\Users\\35196\\OneDrive - Universidade de Lisboa\\Documentos\\Master\\Scientific Programming\\Code3\\InfectiousMonteCarlov3.ipynb Cell 13\u001b[0m line \u001b[0;36m5\n\u001b[0;32m      <a href='vscode-notebook-cell:/c%3A/Users/35196/OneDrive%20-%20Universidade%20de%20Lisboa/Documentos/Master/Scientific%20Programming/Code3/InfectiousMonteCarlov3.ipynb#X15sZmlsZQ%3D%3D?line=1'>2</a>\u001b[0m cmap \u001b[39m=\u001b[39m plt\u001b[39m.\u001b[39mcm\u001b[39m.\u001b[39mcolors\u001b[39m.\u001b[39mListedColormap([\u001b[39m'\u001b[39m\u001b[39mwhite\u001b[39m\u001b[39m'\u001b[39m, \u001b[39m'\u001b[39m\u001b[39mblue\u001b[39m\u001b[39m'\u001b[39m, \u001b[39m'\u001b[39m\u001b[39mred\u001b[39m\u001b[39m'\u001b[39m])\n\u001b[0;32m      <a href='vscode-notebook-cell:/c%3A/Users/35196/OneDrive%20-%20Universidade%20de%20Lisboa/Documentos/Master/Scientific%20Programming/Code3/InfectiousMonteCarlov3.ipynb#X15sZmlsZQ%3D%3D?line=3'>4</a>\u001b[0m \u001b[39m# Plot the lattice\u001b[39;00m\n\u001b[1;32m----> <a href='vscode-notebook-cell:/c%3A/Users/35196/OneDrive%20-%20Universidade%20de%20Lisboa/Documentos/Master/Scientific%20Programming/Code3/InfectiousMonteCarlov3.ipynb#X15sZmlsZQ%3D%3D?line=4'>5</a>\u001b[0m plt\u001b[39m.\u001b[39;49mimshow(lattice, cmap\u001b[39m=\u001b[39;49mcmap, extent\u001b[39m=\u001b[39;49m[\u001b[39m0\u001b[39;49m, size, \u001b[39m0\u001b[39;49m, size])\n\u001b[0;32m      <a href='vscode-notebook-cell:/c%3A/Users/35196/OneDrive%20-%20Universidade%20de%20Lisboa/Documentos/Master/Scientific%20Programming/Code3/InfectiousMonteCarlov3.ipynb#X15sZmlsZQ%3D%3D?line=5'>6</a>\u001b[0m plt\u001b[39m.\u001b[39mcolorbar(ticks\u001b[39m=\u001b[39m[\u001b[39m0\u001b[39m, \u001b[39m1\u001b[39m, \u001b[39m2\u001b[39m], label\u001b[39m=\u001b[39m\u001b[39m\"\u001b[39m\u001b[39mLegend\u001b[39m\u001b[39m\"\u001b[39m)\n\u001b[0;32m      <a href='vscode-notebook-cell:/c%3A/Users/35196/OneDrive%20-%20Universidade%20de%20Lisboa/Documentos/Master/Scientific%20Programming/Code3/InfectiousMonteCarlov3.ipynb#X15sZmlsZQ%3D%3D?line=6'>7</a>\u001b[0m plt\u001b[39m.\u001b[39mtitle(\u001b[39m\"\u001b[39m\u001b[39mLattice with T\u001b[39m\u001b[39m'\u001b[39m\u001b[39ms (Blue) and B\u001b[39m\u001b[39m'\u001b[39m\u001b[39ms (Red)\u001b[39m\u001b[39m\"\u001b[39m)\n",
      "File \u001b[1;32m~\\AppData\\Local\\Packages\\PythonSoftwareFoundation.Python.3.11_qbz5n2kfra8p0\\LocalCache\\local-packages\\Python311\\site-packages\\matplotlib\\pyplot.py:2695\u001b[0m, in \u001b[0;36mimshow\u001b[1;34m(X, cmap, norm, aspect, interpolation, alpha, vmin, vmax, origin, extent, interpolation_stage, filternorm, filterrad, resample, url, data, **kwargs)\u001b[0m\n\u001b[0;32m   2689\u001b[0m \u001b[39m@_copy_docstring_and_deprecators\u001b[39m(Axes\u001b[39m.\u001b[39mimshow)\n\u001b[0;32m   2690\u001b[0m \u001b[39mdef\u001b[39;00m \u001b[39mimshow\u001b[39m(\n\u001b[0;32m   2691\u001b[0m         X, cmap\u001b[39m=\u001b[39m\u001b[39mNone\u001b[39;00m, norm\u001b[39m=\u001b[39m\u001b[39mNone\u001b[39;00m, \u001b[39m*\u001b[39m, aspect\u001b[39m=\u001b[39m\u001b[39mNone\u001b[39;00m, interpolation\u001b[39m=\u001b[39m\u001b[39mNone\u001b[39;00m,\n\u001b[0;32m   2692\u001b[0m         alpha\u001b[39m=\u001b[39m\u001b[39mNone\u001b[39;00m, vmin\u001b[39m=\u001b[39m\u001b[39mNone\u001b[39;00m, vmax\u001b[39m=\u001b[39m\u001b[39mNone\u001b[39;00m, origin\u001b[39m=\u001b[39m\u001b[39mNone\u001b[39;00m, extent\u001b[39m=\u001b[39m\u001b[39mNone\u001b[39;00m,\n\u001b[0;32m   2693\u001b[0m         interpolation_stage\u001b[39m=\u001b[39m\u001b[39mNone\u001b[39;00m, filternorm\u001b[39m=\u001b[39m\u001b[39mTrue\u001b[39;00m, filterrad\u001b[39m=\u001b[39m\u001b[39m4.0\u001b[39m,\n\u001b[0;32m   2694\u001b[0m         resample\u001b[39m=\u001b[39m\u001b[39mNone\u001b[39;00m, url\u001b[39m=\u001b[39m\u001b[39mNone\u001b[39;00m, data\u001b[39m=\u001b[39m\u001b[39mNone\u001b[39;00m, \u001b[39m*\u001b[39m\u001b[39m*\u001b[39mkwargs):\n\u001b[1;32m-> 2695\u001b[0m     __ret \u001b[39m=\u001b[39m gca()\u001b[39m.\u001b[39;49mimshow(\n\u001b[0;32m   2696\u001b[0m         X, cmap\u001b[39m=\u001b[39;49mcmap, norm\u001b[39m=\u001b[39;49mnorm, aspect\u001b[39m=\u001b[39;49maspect,\n\u001b[0;32m   2697\u001b[0m         interpolation\u001b[39m=\u001b[39;49minterpolation, alpha\u001b[39m=\u001b[39;49malpha, vmin\u001b[39m=\u001b[39;49mvmin,\n\u001b[0;32m   2698\u001b[0m         vmax\u001b[39m=\u001b[39;49mvmax, origin\u001b[39m=\u001b[39;49morigin, extent\u001b[39m=\u001b[39;49mextent,\n\u001b[0;32m   2699\u001b[0m         interpolation_stage\u001b[39m=\u001b[39;49minterpolation_stage,\n\u001b[0;32m   2700\u001b[0m         filternorm\u001b[39m=\u001b[39;49mfilternorm, filterrad\u001b[39m=\u001b[39;49mfilterrad, resample\u001b[39m=\u001b[39;49mresample,\n\u001b[0;32m   2701\u001b[0m         url\u001b[39m=\u001b[39;49murl, \u001b[39m*\u001b[39;49m\u001b[39m*\u001b[39;49m({\u001b[39m\"\u001b[39;49m\u001b[39mdata\u001b[39;49m\u001b[39m\"\u001b[39;49m: data} \u001b[39mif\u001b[39;49;00m data \u001b[39mis\u001b[39;49;00m \u001b[39mnot\u001b[39;49;00m \u001b[39mNone\u001b[39;49;00m \u001b[39melse\u001b[39;49;00m {}),\n\u001b[0;32m   2702\u001b[0m         \u001b[39m*\u001b[39;49m\u001b[39m*\u001b[39;49mkwargs)\n\u001b[0;32m   2703\u001b[0m     sci(__ret)\n\u001b[0;32m   2704\u001b[0m     \u001b[39mreturn\u001b[39;00m __ret\n",
      "File \u001b[1;32m~\\AppData\\Local\\Packages\\PythonSoftwareFoundation.Python.3.11_qbz5n2kfra8p0\\LocalCache\\local-packages\\Python311\\site-packages\\matplotlib\\__init__.py:1461\u001b[0m, in \u001b[0;36m_preprocess_data.<locals>.inner\u001b[1;34m(ax, data, *args, **kwargs)\u001b[0m\n\u001b[0;32m   1458\u001b[0m \u001b[39m@functools\u001b[39m\u001b[39m.\u001b[39mwraps(func)\n\u001b[0;32m   1459\u001b[0m \u001b[39mdef\u001b[39;00m \u001b[39minner\u001b[39m(ax, \u001b[39m*\u001b[39margs, data\u001b[39m=\u001b[39m\u001b[39mNone\u001b[39;00m, \u001b[39m*\u001b[39m\u001b[39m*\u001b[39mkwargs):\n\u001b[0;32m   1460\u001b[0m     \u001b[39mif\u001b[39;00m data \u001b[39mis\u001b[39;00m \u001b[39mNone\u001b[39;00m:\n\u001b[1;32m-> 1461\u001b[0m         \u001b[39mreturn\u001b[39;00m func(ax, \u001b[39m*\u001b[39;49m\u001b[39mmap\u001b[39;49m(sanitize_sequence, args), \u001b[39m*\u001b[39;49m\u001b[39m*\u001b[39;49mkwargs)\n\u001b[0;32m   1463\u001b[0m     bound \u001b[39m=\u001b[39m new_sig\u001b[39m.\u001b[39mbind(ax, \u001b[39m*\u001b[39margs, \u001b[39m*\u001b[39m\u001b[39m*\u001b[39mkwargs)\n\u001b[0;32m   1464\u001b[0m     auto_label \u001b[39m=\u001b[39m (bound\u001b[39m.\u001b[39marguments\u001b[39m.\u001b[39mget(label_namer)\n\u001b[0;32m   1465\u001b[0m                   \u001b[39mor\u001b[39;00m bound\u001b[39m.\u001b[39mkwargs\u001b[39m.\u001b[39mget(label_namer))\n",
      "File \u001b[1;32m~\\AppData\\Local\\Packages\\PythonSoftwareFoundation.Python.3.11_qbz5n2kfra8p0\\LocalCache\\local-packages\\Python311\\site-packages\\matplotlib\\axes\\_axes.py:5663\u001b[0m, in \u001b[0;36mAxes.imshow\u001b[1;34m(self, X, cmap, norm, aspect, interpolation, alpha, vmin, vmax, origin, extent, interpolation_stage, filternorm, filterrad, resample, url, **kwargs)\u001b[0m\n\u001b[0;32m   5655\u001b[0m \u001b[39mself\u001b[39m\u001b[39m.\u001b[39mset_aspect(aspect)\n\u001b[0;32m   5656\u001b[0m im \u001b[39m=\u001b[39m mimage\u001b[39m.\u001b[39mAxesImage(\u001b[39mself\u001b[39m, cmap\u001b[39m=\u001b[39mcmap, norm\u001b[39m=\u001b[39mnorm,\n\u001b[0;32m   5657\u001b[0m                       interpolation\u001b[39m=\u001b[39minterpolation, origin\u001b[39m=\u001b[39morigin,\n\u001b[0;32m   5658\u001b[0m                       extent\u001b[39m=\u001b[39mextent, filternorm\u001b[39m=\u001b[39mfilternorm,\n\u001b[0;32m   5659\u001b[0m                       filterrad\u001b[39m=\u001b[39mfilterrad, resample\u001b[39m=\u001b[39mresample,\n\u001b[0;32m   5660\u001b[0m                       interpolation_stage\u001b[39m=\u001b[39minterpolation_stage,\n\u001b[0;32m   5661\u001b[0m                       \u001b[39m*\u001b[39m\u001b[39m*\u001b[39mkwargs)\n\u001b[1;32m-> 5663\u001b[0m im\u001b[39m.\u001b[39;49mset_data(X)\n\u001b[0;32m   5664\u001b[0m im\u001b[39m.\u001b[39mset_alpha(alpha)\n\u001b[0;32m   5665\u001b[0m \u001b[39mif\u001b[39;00m im\u001b[39m.\u001b[39mget_clip_path() \u001b[39mis\u001b[39;00m \u001b[39mNone\u001b[39;00m:\n\u001b[0;32m   5666\u001b[0m     \u001b[39m# image does not already have clipping set, clip to axes patch\u001b[39;00m\n",
      "File \u001b[1;32m~\\AppData\\Local\\Packages\\PythonSoftwareFoundation.Python.3.11_qbz5n2kfra8p0\\LocalCache\\local-packages\\Python311\\site-packages\\matplotlib\\image.py:710\u001b[0m, in \u001b[0;36m_ImageBase.set_data\u001b[1;34m(self, A)\u001b[0m\n\u001b[0;32m    706\u001b[0m     \u001b[39mself\u001b[39m\u001b[39m.\u001b[39m_A \u001b[39m=\u001b[39m \u001b[39mself\u001b[39m\u001b[39m.\u001b[39m_A[:, :, \u001b[39m0\u001b[39m]\n\u001b[0;32m    708\u001b[0m \u001b[39mif\u001b[39;00m \u001b[39mnot\u001b[39;00m (\u001b[39mself\u001b[39m\u001b[39m.\u001b[39m_A\u001b[39m.\u001b[39mndim \u001b[39m==\u001b[39m \u001b[39m2\u001b[39m\n\u001b[0;32m    709\u001b[0m         \u001b[39mor\u001b[39;00m \u001b[39mself\u001b[39m\u001b[39m.\u001b[39m_A\u001b[39m.\u001b[39mndim \u001b[39m==\u001b[39m \u001b[39m3\u001b[39m \u001b[39mand\u001b[39;00m \u001b[39mself\u001b[39m\u001b[39m.\u001b[39m_A\u001b[39m.\u001b[39mshape[\u001b[39m-\u001b[39m\u001b[39m1\u001b[39m] \u001b[39min\u001b[39;00m [\u001b[39m3\u001b[39m, \u001b[39m4\u001b[39m]):\n\u001b[1;32m--> 710\u001b[0m     \u001b[39mraise\u001b[39;00m \u001b[39mTypeError\u001b[39;00m(\u001b[39m\"\u001b[39m\u001b[39mInvalid shape \u001b[39m\u001b[39m{}\u001b[39;00m\u001b[39m for image data\u001b[39m\u001b[39m\"\u001b[39m\n\u001b[0;32m    711\u001b[0m                     \u001b[39m.\u001b[39mformat(\u001b[39mself\u001b[39m\u001b[39m.\u001b[39m_A\u001b[39m.\u001b[39mshape))\n\u001b[0;32m    713\u001b[0m \u001b[39mif\u001b[39;00m \u001b[39mself\u001b[39m\u001b[39m.\u001b[39m_A\u001b[39m.\u001b[39mndim \u001b[39m==\u001b[39m \u001b[39m3\u001b[39m:\n\u001b[0;32m    714\u001b[0m     \u001b[39m# If the input data has values outside the valid range (after\u001b[39;00m\n\u001b[0;32m    715\u001b[0m     \u001b[39m# normalisation), we issue a warning and then clip X to the bounds\u001b[39;00m\n\u001b[0;32m    716\u001b[0m     \u001b[39m# - otherwise casting wraps extreme values, hiding outliers and\u001b[39;00m\n\u001b[0;32m    717\u001b[0m     \u001b[39m# making reliable interpretation impossible.\u001b[39;00m\n\u001b[0;32m    718\u001b[0m     high \u001b[39m=\u001b[39m \u001b[39m255\u001b[39m \u001b[39mif\u001b[39;00m np\u001b[39m.\u001b[39missubdtype(\u001b[39mself\u001b[39m\u001b[39m.\u001b[39m_A\u001b[39m.\u001b[39mdtype, np\u001b[39m.\u001b[39minteger) \u001b[39melse\u001b[39;00m \u001b[39m1\u001b[39m\n",
      "\u001b[1;31mTypeError\u001b[0m: Invalid shape (0,) for image data"
     ]
    },
    {
     "data": {
      "image/png": "[encoded data removed]",
      "text/plain": [
       "<Figure size 640x480 with 1 Axes>"
      ]
     },
     "metadata": {},
     "output_type": "display_data"
    }
   ],
   "source": [
    "# Create a colormap for red (B) and blue (T)\n",
    "cmap = plt.cm.colors.ListedColormap(['white', 'blue', 'red'])\n",
    "\n",
    "# Plot the lattice\n",
    "plt.imshow(lattice, cmap=cmap, extent=[0, size, 0, size])\n",
    "plt.colorbar(ticks=[0, 1, 2], label=\"Legend\")\n",
    "plt.title(\"Lattice with T's (Blue) and B's (Red)\")\n",
    "#plt.grid(True, linewidth=0.5, color='black')\n",
    "plt.show()"
   ]
  }
 ],
 "metadata": {
  "kernelspec": {
   "display_name": "Python 3 (ipykernel)",
   "language": "python",
   "name": "python3"
  },
  "language_info": {
   "codemirror_mode": {
    "name": "ipython",
    "version": 3
   },
   "file_extension": ".py",
   "mimetype": "text/x-python",
   "name": "python",
   "nbconvert_exporter": "python",
   "pygments_lexer": "ipython3",
   "version": "3.11.6"
  }
 },
 "nbformat": 4,
 "nbformat_minor": 5
}
