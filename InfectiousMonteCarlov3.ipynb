{
 "cells": [
  {
   "cell_type": "code",
<<<<<<< HEAD
   "execution_count": 1135,
=======
   "execution_count": 92,
>>>>>>> ac90303892bc6fc29008c8a3b3b2835d9252ef90
   "id": "37b72c85",
   "metadata": {},
   "outputs": [],
   "source": [
    "import numpy as np\n",
    "import random\n",
    "import matplotlib.pyplot as plt\n",
    "import numba\n",
    "import time\n",
    "import os\n",
    "from datetime import datetime\n"
   ]
  },
  {
   "cell_type": "code",
<<<<<<< HEAD
   "execution_count": 1136,
=======
   "execution_count": 93,
>>>>>>> ac90303892bc6fc29008c8a3b3b2835d9252ef90
   "id": "841ae704",
   "metadata": {},
   "outputs": [],
   "source": [
    "def create_lattice(lattice_length, T_num, B_num):\n",
    "    lattice = np.zeros([lattice_length, lattice_length])\n",
    "    \n",
    "    # Place T's randomly\n",
    "    t_coords = np.empty((2, 0), dtype=int)  # Initialize as an empty array\n",
    "    while t_coords.shape[1] < T_num:  # Check the number of columns\n",
    "        t = np.array([[np.random.randint(lattice_length)], [np.random.randint(lattice_length)]])\n",
    "        if not np.any(np.all(t == t_coords, axis=0)):\n",
    "            t_coords = np.hstack((t_coords, t))\n",
    "            lattice[t[0, 0], t[1, 0]] = 1\n",
    "    \n",
    "    # Place B's randomly\n",
    "    b_coords = np.empty((2, 0), dtype=int)  # Initialize as an empty array\n",
    "    while b_coords.shape[1] < B_num:  # Check the number of columns\n",
    "        b = np.array([[np.random.randint(lattice_length)], [np.random.randint(lattice_length)]])\n",
    "        if not np.any(np.all(b == b_coords, axis=0)) and not np.any(np.all(b == t_coords, axis=0)):\n",
    "            b_coords = np.hstack((b_coords, b))\n",
    "            lattice[b[0, 0], b[1, 0]] = 2\n",
    "    \n",
    "    empty_coords = np.argwhere(lattice == 0).T\n",
    "    \n",
    "    return lattice, t_coords, b_coords, empty_coords"
   ]
  },
  {
   "cell_type": "code",
<<<<<<< HEAD
   "execution_count": 1137,
=======
   "execution_count": 94,
>>>>>>> ac90303892bc6fc29008c8a3b3b2835d9252ef90
   "id": "a4b3c31a",
   "metadata": {},
   "outputs": [],
   "source": [
    "# showing lattices as they evolve \n",
    "\n",
    "def lattice_plots(lattice_history, selected_indices):\n",
    "\n",
    "    cmap = plt.cm.colors.ListedColormap(['white', 'blue', 'red'])\n",
    "\n",
    "    for i in range(len(selected_indices)):\n",
    "\n",
    "        # Create a plot\n",
    "        plt.imshow(lattice_history[i], cmap=cmap, extent=[0, size, 0, size])\n",
    "        plt.colorbar(ticks=[0, 1, 2], label=\"Legend\")\n",
    "        plt.title(\"Lattice with T's (Blue) and B's (Red)\")\n",
    "\n",
    "  \n",
    "\n",
    "        #plt.title(f\"Lattice at Iteration {selected_indices[i]}\")  # Add a title with the iteration number\n",
    "\n",
    "        #fig_name = f\"Plot\\Lattice_iter{selected_indices[i]}\"\n",
    "        # plt.savefig(fig_name)\n",
    "        plt.show()\n",
    "        "
   ]
  },
  {
   "cell_type": "code",
<<<<<<< HEAD
   "execution_count": 1138,
=======
   "execution_count": 95,
>>>>>>> ac90303892bc6fc29008c8a3b3b2835d9252ef90
   "id": "b830287b",
   "metadata": {},
   "outputs": [],
   "source": [
    "def position_random(pos): ###Problem\n",
    "    col = np.random.randint(pos.shape[1]) ###REVIEW\n",
    "    p = pos[:,col]\n",
    "    #print(\"random\",col,pos.shape[1]-1 )\n",
    "    return p, col"
   ]
  },
  {
   "cell_type": "code",
<<<<<<< HEAD
   "execution_count": 1139,
=======
   "execution_count": 209,
>>>>>>> ac90303892bc6fc29008c8a3b3b2835d9252ef90
   "id": "f5138946",
   "metadata": {},
   "outputs": [],
   "source": [
    "\n",
    "def energy(lattice, ID_in, pos_hypo, interaction_matrix):\n",
    "    s = lattice.shape[0]-1\n",
    "    i = pos_hypo[0] # x coordinate\n",
    "    j = pos_hypo[1] # y coordinate\n",
    "    \n",
    "    if i==0:\n",
    "        up = lattice[s,j]   \n",
    "    else:    \n",
    "        up = lattice[i-1,j]\n",
    "    up = int(up)\n",
    "\n",
    "    if i == s:\n",
    "        down = lattice[0,j]      \n",
    "    else:\n",
    "        down = lattice[i+1,j]\n",
    "    down = int(down)\n",
    "\n",
    "    if j == 0:\n",
    "        left = lattice[i,s]        \n",
    "    else:\n",
    "        left = lattice[i,j-1]    \n",
    "    left = int(left)\n",
    "\n",
    "    if j == s:\n",
    "        right = lattice[i,0]       \n",
    "    else:\n",
    "        right = lattice[i,j+1]\n",
    "    right = int(right)\n",
    "    \n",
    "    \n",
    "    E = -(interaction_matrix[ID_in, up] + interaction_matrix[ID_in, down] + interaction_matrix[ID_in, left] + \n",
    "          interaction_matrix[ID_in, right])\n",
    "    return E"
   ]
  },
  {
   "cell_type": "code",
<<<<<<< HEAD
   "execution_count": 1140,
=======
   "execution_count": 210,
>>>>>>> ac90303892bc6fc29008c8a3b3b2835d9252ef90
   "id": "78907e38",
   "metadata": {},
   "outputs": [],
   "source": [
    "# total energy of lattice\n",
    "def lattice_energy(lattice, eps):\n",
    "    \n",
    "    E_total = 0\n",
    "    rows, cols = lattice.shape\n",
    "\n",
    "    for i in range(rows):\n",
    "        for j in range(cols):\n",
    "            val = int(lattice[i, j])\n",
    "            E_total += energy(lattice, val, (i, j), eps)\n",
    "\n",
    "    E_total = E_total / 2\n",
    "    \n",
    "    return E_total\n"
   ]
  },
  {
   "cell_type": "code",
<<<<<<< HEAD
   "execution_count": 1141,
=======
   "execution_count": 223,
>>>>>>> ac90303892bc6fc29008c8a3b3b2835d9252ef90
   "id": "19d8373c",
   "metadata": {},
   "outputs": [],
   "source": [
    "\n",
    "def evaluate_particle_addB(lattice, pos2, pos1, pos0, T, E_total, eps):\n",
    "    #print(\"pos1before\",pos1.shape)\n",
    "    pb, colb = position_random(pos0) #pick a hole to put bacteria\n",
    "    \n",
    "    #ID_in= lattice[pb[0], pb[1]] #change it in the lattice\n",
    "    ID_in = 2\n",
    "    Efin = energy(lattice, ID_in, pb, eps) #evaluate neighbouring energy\n",
    "    #ID_in = lattice[pb[0], pb[1]]\n",
    "    ID_in = 0\n",
    "    Ein = energy(lattice,ID_in, pb, eps) #evaluate neighbouring energy before\n",
    "    \n",
    "    muT, muB = 1, 1\n",
    "    \n",
    "    #print(\"Efin , Ein\", Efin, Ein)\n",
    "    Ediff = Efin - Ein\n",
    "    #print(\"Ediff \", Ediff)\n",
    "\n",
    "    if Ediff < 0 :\n",
    "        add = True\n",
    "    \n",
    "    else:\n",
    "        probability = np.exp(-(Ediff -muT* pos1.shape[1] - muB* pos2.shape[1])/T)\n",
    "        if random.random() < probability: # random.random gives between 0 and 1. Hence higher prob -> more move\n",
    "            add = True \n",
    "        else:\n",
    "            add = False\n",
    "        \n",
    "    if add: \n",
    "        lattice[pb[0], pb[1]] = 2\n",
    "        #print(\"before\",pos2, pb)\n",
    "        pos0 = np.delete(pos0, colb, axis=1)\n",
    "        pos2 = np.hstack((pos2, np.array([pb]).reshape(-1, 1)))\n",
    "        #print(pos0)\n",
    "        E_total = E_total + Ediff\n",
    "        E_total = float(E_total)\n",
    "        #print(E_total)\n",
    "        #print(\"Ediff:\", Ediff)\n",
    "        \n",
    "    else:\n",
    "        lattice[pb[0], pb[1]] = 0\n",
    "    #print(E_total, Ediff)\n",
    "    return lattice, pos2, pos0, E_total"
   ]
  },
  {
   "cell_type": "code",
<<<<<<< HEAD
   "execution_count": 1142,
=======
   "execution_count": 224,
>>>>>>> ac90303892bc6fc29008c8a3b3b2835d9252ef90
   "id": "03286e12",
   "metadata": {},
   "outputs": [],
   "source": [
    "# check if object moves. pos1 is the coordinates of all objects where one is to be moved. \n",
    "# most likely a Tcell\n",
    "# pos0 are coordinates of holes in the lattice \n",
    "\n",
    "def evaluate_particle_moveT(lattice, pos1, pos0, T, E_total, eps):\n",
    "    #print(\"pos1before\",pos1.shape)\n",
    "    p1, col1 = position_random(pos1)\n",
    "    \n",
    "    ID_in = lattice[p1[0], p1[1]]\n",
    "    ID_in = int(ID_in)\n",
    "    Ein = energy(lattice,ID_in, p1, eps)\n",
    "    \n",
    "    p0, col0 = position_random(pos0)\n",
    "    # seeing what energy would be for particle if it moved the the chosen empty location\n",
    "    lattice[p1[0], p1[1]] = 0 # temporarily moving object so not to be seen as neighbor by itself\n",
    "    Efin = energy(lattice, ID_in, p0, eps)\n",
    "    #print(\"Efin , Ein\", Efin, Ein)\n",
    "    Ediff = Efin - Ein\n",
    "\n",
    "\n",
    "    if Ediff < 0 :\n",
    "        move = True\n",
    "    \n",
    "    else:\n",
    "        probability = np.exp(-Ediff/T)\n",
    "        if random.random() < probability: # random.random gives between 0 and 1. Hence higher prob -> more move\n",
    "            move = True \n",
    "        else:\n",
    "            move = False\n",
    "        \n",
    "    if move: \n",
    "        lattice[p0[0], p0[1]] = 1\n",
    "        # update arrays containing coordinates of 0's and 1's\n",
    "        pos1[:,col1] = [p0[0], p0[1]]\n",
    "        pos0[:,col0] = [p1[0], p1[1]]\n",
    "        #print(pos1)\n",
    "        E_total = E_total + Ediff\n",
    "        E_total = float(E_total)\n",
    "        #print(\"Ediff:\", Ediff)\n",
    "        \n",
    "    else:\n",
    "        lattice[p0[0], p0[1]] = 0\n",
    "        lattice[p1[0], p1[1]] = 1\n",
    "    #print(E_total, Ediff)\n",
    "    return lattice, pos1, pos0, E_total"
   ]
  },
  {
   "cell_type": "code",
<<<<<<< HEAD
   "execution_count": 1143,
=======
   "execution_count": 225,
>>>>>>> ac90303892bc6fc29008c8a3b3b2835d9252ef90
   "id": "1785c771",
   "metadata": {},
   "outputs": [],
   "source": [
    "def gridprint(lattice,lattice_length):\n",
    "    cmap = plt.cm.colors.ListedColormap(['white', 'blue', 'red'])\n",
    "    plt.imshow(lattice, cmap=cmap, extent=[0, lattice_length, 0, lattice_length])\n",
    "    plt.colorbar(ticks=[0, 1, 2], label=\"Legend\")\n",
    "    plt.title(\"Lattice with T's (Blue) and B's (Red)\")\n",
    "    #plt.grid(True, linewidth=0.5, color='black')\n",
    "    plt.show()\n",
    "  \n",
    "    return 0"
   ]
  },
  {
   "cell_type": "code",
<<<<<<< HEAD
   "execution_count": 1144,
=======
   "execution_count": 238,
>>>>>>> ac90303892bc6fc29008c8a3b3b2835d9252ef90
   "id": "18514d65",
   "metadata": {},
   "outputs": [],
   "source": [
    "\n",
    "def monte_carlo(Temp, eps, lattice_length, T_num, B_num, num_runs, num_lattices_to_store=None):\n",
    "    lattice, pos1, pos2, pos0 = create_lattice(lattice_length, T_num, B_num)\n",
    "    E_lattice = lattice_energy(lattice, eps)\n",
    "    \n",
    "    #gridprint(lattice,lattice_length)\n",
    "    #print('p0:',pos0,'T:',pos1,'B:',pos2)\n",
    "\n",
    "    E_history = {}\n",
    "    pos0_hist=[]\n",
    "    pos1_hist=[]\n",
    "    pos2_hist=[]\n",
    "    \n",
    "    for ind, t in enumerate(Temp):\n",
    "        #lattice_history = []\n",
    "        E_history_for_Temp = []\n",
    "        pos0t=[]\n",
    "        pos1t=[]\n",
    "        pos2t=[]\n",
    "        #for temperature in T:\n",
    "        for i in range(0,num_runs): # change to from one and append initial E and lattice to outisde\n",
    "            E_history_for_Temp.append(E_lattice)\n",
    "            \n",
    "            if pos0.size > 0:\n",
    "                lattice, pos1, pos0, E_lattice = evaluate_particle_moveT(lattice, pos1, pos0, t, E_lattice, eps)\n",
    "            #print(pos0)\n",
    "            \n",
    "                lattice, pos2, pos0, E_lattice = evaluate_particle_addB(lattice, pos2, pos1, pos0, t, E_lattice, eps)\n",
    "                \n",
    "                #gridprint(lattice,lattice_length)\n",
    "                #print('p0:',pos0,'T:',pos1,'B:',pos2)\n",
    "                #print('T:',pos1,'B:',pos2)\n",
    "            pos0t.append(pos0)\n",
    "            pos1t.append(pos1)\n",
    "            pos2t.append(pos2)\n",
    "            \n",
    "            #gridprint(lattice,lattice_length)\n",
    "           # print(pos1)\n",
    "        E_history[t] = E_history_for_Temp.copy()\n",
    "        #gridprint(lattice,lattice_length)\n",
    "        #print('p0:',pos0,'T:',pos1,'B:',pos2)\n",
    "        \n",
    "        pos0_hist.append(pos0t)\n",
    "        pos1_hist.append(pos1t)\n",
    "        pos2_hist.append(pos2t)\n",
    "\n",
    "    #SAVE ON FILE\n",
    "    current_datetime = datetime.now()\n",
    "    datetime_str = current_datetime.strftime('%Y%m%d-%H-%M')    \n",
    "    run_name = f'{datetime_str}'\n",
    "    \n",
    "    return lattice, E_history, T_num, B_num, pos0_hist, pos1_hist, pos2_hist\n",
    "    #return lattice"
   ]
  },
  {
   "cell_type": "code",
<<<<<<< HEAD
   "execution_count": 1145,
=======
   "execution_count": 239,
>>>>>>> ac90303892bc6fc29008c8a3b3b2835d9252ef90
   "id": "c4d25c1b",
   "metadata": {
    "scrolled": false
   },
   "outputs": [],
   "source": [
    "# the interaction matrix can be used to decide how many bacteria are able to multiply. \n",
    "# if surrounded by T cells -> no division\n",
    "# the body is modelled by an N by N lattice\n",
    "\n",
    "num_runs = 3\n",
    "#Temp = 0.2\n",
    "T = np.arange(3,0.01,-1)\n",
    "#Test = np.arange(.1,.01,-0.1)\n",
    "size = 20\n",
    "\n",
    "T_num_in = 6    # number of initial T-cells\n",
    "B_num_in = 2\n",
    "\n",
    "BB_int = 1      # interaction energy between bacterias\n",
    "TT_int = -1      # interaction energy between T-cells\n",
    "BT_int = 4     # interaction energy between bacteria and T-cells\n",
    "interaction_matrix = np.array([\n",
    "    [0, 0, 0],\n",
    "    [0, TT_int, BT_int],\n",
    "    [0, BT_int, BB_int]\n",
    "])\n",
    "\n",
    "lattice, E_history, T_num, B_num, pos0, pos1, pos2 = monte_carlo(T, interaction_matrix, size, T_num_in, B_num_in, num_runs, num_lattices_to_store=None)\n",
    "#print(\"E:\", E_history)"
   ]
  },
  {
   "cell_type": "markdown",
   "id": "529df513",
   "metadata": {},
   "source": []
  },
  {
   "cell_type": "code",
<<<<<<< HEAD
   "execution_count": 1146,
=======
   "execution_count": 206,
>>>>>>> ac90303892bc6fc29008c8a3b3b2835d9252ef90
   "id": "0f740c34",
   "metadata": {},
   "outputs": [
    {
     "name": "stderr",
     "output_type": "stream",
     "text": [
      "C:\\Users\\35196\\AppData\\Local\\Packages\\PythonSoftwareFoundation.Python.3.11_qbz5n2kfra8p0\\LocalCache\\local-packages\\Python311\\site-packages\\numpy\\core\\fromnumeric.py:3464: RuntimeWarning: Mean of empty slice.\n",
      "  return _methods._mean(a, axis=axis, dtype=dtype,\n",
      "C:\\Users\\35196\\AppData\\Local\\Packages\\PythonSoftwareFoundation.Python.3.11_qbz5n2kfra8p0\\LocalCache\\local-packages\\Python311\\site-packages\\numpy\\core\\_methods.py:192: RuntimeWarning: invalid value encountered in scalar divide\n",
      "  ret = ret.dtype.type(ret / rcount)\n",
      "C:\\Users\\35196\\AppData\\Local\\Packages\\PythonSoftwareFoundation.Python.3.11_qbz5n2kfra8p0\\LocalCache\\local-packages\\Python311\\site-packages\\numpy\\core\\fromnumeric.py:3747: RuntimeWarning: Degrees of freedom <= 0 for slice\n",
      "  return _methods._var(a, axis=axis, dtype=dtype, out=out, ddof=ddof,\n",
      "C:\\Users\\35196\\AppData\\Local\\Packages\\PythonSoftwareFoundation.Python.3.11_qbz5n2kfra8p0\\LocalCache\\local-packages\\Python311\\site-packages\\numpy\\core\\_methods.py:226: RuntimeWarning: invalid value encountered in divide\n",
      "  arrmean = um.true_divide(arrmean, div, out=arrmean,\n",
      "C:\\Users\\35196\\AppData\\Local\\Packages\\PythonSoftwareFoundation.Python.3.11_qbz5n2kfra8p0\\LocalCache\\local-packages\\Python311\\site-packages\\numpy\\core\\_methods.py:261: RuntimeWarning: invalid value encountered in scalar divide\n",
      "  ret = ret.dtype.type(ret / rcount)\n"
     ]
    },
    {
     "data": {
      "text/plain": [
<<<<<<< HEAD
       "array([nan, nan, nan])"
      ]
     },
     "execution_count": 1146,
=======
       "array([-88., -88., -88.])"
      ]
     },
     "execution_count": 206,
>>>>>>> ac90303892bc6fc29008c8a3b3b2835d9252ef90
     "metadata": {},
     "output_type": "execute_result"
    }
   ],
   "source": [
    "def mean_energy(T, E_history, ind_equilibrium):\n",
    "    \n",
    "    E = E_history\n",
    "    E_mean = np.zeros([len(T)])\n",
    "    E_variance = np.zeros([len(T)])\n",
    "\n",
    "    for ind,t in enumerate(T):\n",
    "        E_mean[ind] = np.mean(E[t][ind_equilibrium:-1])\n",
    "        E_variance[ind] = np.var(E[t][ind_equilibrium:-1])\n",
    "\n",
    "    return E_mean, E_variance\n",
    "\n",
    "ind_equi = int(2/3*num_runs) # index where equilibrium is assumed. \n",
    "E_mean, E_var = mean_energy(T, E_history, ind_equi)\n",
    "\n",
    "E_mean\n",
    "#E_history[2][ind_equi:-1]"
   ]
  },
  {
   "cell_type": "code",
<<<<<<< HEAD
   "execution_count": 1147,
=======
   "execution_count": 207,
>>>>>>> ac90303892bc6fc29008c8a3b3b2835d9252ef90
   "id": "b3942c82",
   "metadata": {},
   "outputs": [
    {
     "data": {
<<<<<<< HEAD
      "image/png": "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",
=======
      "image/png": "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",
>>>>>>> ac90303892bc6fc29008c8a3b3b2835d9252ef90
      "text/plain": [
       "<Figure size 640x480 with 1 Axes>"
      ]
     },
     "metadata": {},
     "output_type": "display_data"
    }
   ],
   "source": [
    "plt.figure()\n",
    "plt.plot(T,E_mean)\n",
    "plt.xlabel('T')\n",
    "plt.ylabel('U')\n",
    "plt.show()\n",
    "#lattice_plots(lattice, np.arange(0,100,5))"
   ]
  },
  {
   "cell_type": "code",
<<<<<<< HEAD
   "execution_count": 1148,
=======
   "execution_count": 194,
>>>>>>> ac90303892bc6fc29008c8a3b3b2835d9252ef90
   "id": "2c5f7c3d",
   "metadata": {},
   "outputs": [
    {
     "ename": "AttributeError",
     "evalue": "'list' object has no attribute 'size'",
     "output_type": "error",
     "traceback": [
<<<<<<< HEAD
      "\u001b[1;31m---------------------------------------------------------------------------\u001b[0m",
      "\u001b[1;31mAttributeError\u001b[0m                            Traceback (most recent call last)",
      "\u001b[1;32mc:\\Users\\35196\\OneDrive - Universidade de Lisboa\\Documentos\\Master\\Scientific Programming\\Code3\\InfectiousMonteCarlov3.ipynb Cell 15\u001b[0m line \u001b[0;36m1\n\u001b[1;32m----> <a href='vscode-notebook-cell:/c%3A/Users/35196/OneDrive%20-%20Universidade%20de%20Lisboa/Documentos/Master/Scientific%20Programming/Code3/InfectiousMonteCarlov3.ipynb#X42sZmlsZQ%3D%3D?line=0'>1</a>\u001b[0m pos0\u001b[39m.\u001b[39;49msize\n",
      "\u001b[1;31mAttributeError\u001b[0m: 'list' object has no attribute 'size'"
=======
      "\u001b[0;31m---------------------------------------------------------------------------\u001b[0m",
      "\u001b[0;31mAttributeError\u001b[0m                            Traceback (most recent call last)",
      "Cell \u001b[0;32mIn[194], line 1\u001b[0m\n\u001b[0;32m----> 1\u001b[0m pos0\u001b[38;5;241m.\u001b[39msize\n",
      "\u001b[0;31mAttributeError\u001b[0m: 'list' object has no attribute 'size'"
>>>>>>> ac90303892bc6fc29008c8a3b3b2835d9252ef90
     ]
    }
   ],
   "source": [
    "pos0.size"
   ]
  },
  {
   "cell_type": "code",
   "execution_count": null,
   "id": "d1496e1d",
   "metadata": {},
   "outputs": [],
   "source": []
  }
 ],
 "metadata": {
  "kernelspec": {
   "display_name": "Python 3 (ipykernel)",
   "language": "python",
   "name": "python3"
  },
  "language_info": {
   "codemirror_mode": {
    "name": "ipython",
    "version": 3
   },
   "file_extension": ".py",
   "mimetype": "text/x-python",
   "name": "python",
   "nbconvert_exporter": "python",
   "pygments_lexer": "ipython3",
   "version": "3.11.4"
  }
 },
 "nbformat": 4,
 "nbformat_minor": 5
}
