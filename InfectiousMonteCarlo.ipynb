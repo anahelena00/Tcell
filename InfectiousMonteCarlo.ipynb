{
 "cells": [
  {
   "cell_type": "code",
   "execution_count": 1,
   "id": "37b72c85",
   "metadata": {},
   "outputs": [],
   "source": [
    "import numpy as np\n",
    "import random\n",
    "import matplotlib.pyplot as plt\n",
    "import numba\n",
    "import time\n",
    "import os\n",
    "from datetime import datetime\n"
   ]
  },
  {
   "cell_type": "code",
   "execution_count": 2,
   "id": "841ae704",
   "metadata": {},
   "outputs": [],
   "source": [
    "def create_lattice(lattice_length, T_num, B_num):\n",
    "    lattice = np.zeros([lattice_length, lattice_length])\n",
    "    \n",
    "    # Place T's randomly\n",
    "    t_coords = np.empty((2, 0), dtype=int)  # Initialize as an empty array\n",
    "    while t_coords.shape[1] < T_num:  # Check the number of columns\n",
    "        t = np.array([[np.random.randint(lattice_length)], [np.random.randint(lattice_length)]])\n",
    "        if not np.any(np.all(t == t_coords, axis=0)):\n",
    "            t_coords = np.hstack((t_coords, t))\n",
    "            lattice[t[0, 0], t[1, 0]] = 1\n",
    "    \n",
    "    # Place B's randomly\n",
    "    b_coords = np.empty((2, 0), dtype=int)  # Initialize as an empty array\n",
    "    while b_coords.shape[1] < B_num:  # Check the number of columns\n",
    "        b = np.array([[np.random.randint(lattice_length)], [np.random.randint(lattice_length)]])\n",
    "        if not np.any(np.all(b == b_coords, axis=0)) and not np.any(np.all(b == t_coords, axis=0)):\n",
    "            b_coords = np.hstack((b_coords, b))\n",
    "            lattice[b[0, 0], b[1, 0]] = 2\n",
    "    \n",
    "    empty_coords = np.argwhere(lattice == 0).T\n",
    "    \n",
    "    return lattice, t_coords, b_coords, empty_coords"
   ]
  },
  {
   "cell_type": "code",
   "execution_count": 3,
   "id": "a4b3c31a",
   "metadata": {},
   "outputs": [],
   "source": [
    "# showing lattices as they evolve \n",
    "\n",
    "def lattice_plots(lattice_history, selected_indices):\n",
    "\n",
    "    cmap = plt.cm.colors.ListedColormap(['white', 'blue', 'red'])\n",
    "\n",
    "    for i in range(len(selected_indices)):\n",
    "\n",
    "        # Create a plot\n",
    "        plt.imshow(lattice_history[i], cmap=cmap, extent=[0, size, 0, size])\n",
    "        plt.colorbar(ticks=[0, 1, 2], label=\"Legend\")\n",
    "        plt.title(\"Lattice with T's (Blue) and B's (Red)\")\n",
    "        plt.show()\n",
    "        "
   ]
  },
  {
   "cell_type": "code",
   "execution_count": 4,
   "id": "b830287b",
   "metadata": {},
   "outputs": [],
   "source": [
    "def position_random(pos): \n",
    "    col = np.random.randint(pos.shape[1]) \n",
    "    p = pos[:,col]\n",
    "    return p, col"
   ]
  },
  {
   "cell_type": "code",
   "execution_count": 5,
   "id": "f5138946",
   "metadata": {},
   "outputs": [],
   "source": [
    "\n",
    "def energy(lattice, ID_in, pos_hypo, interaction_matrix):\n",
    "    s = lattice.shape[0]-1\n",
    "    i = pos_hypo[0] # x coordinate\n",
    "    j = pos_hypo[1] # y coordinate\n",
    "    \n",
    "    if i==0:\n",
    "        up = lattice[s,j]   \n",
    "    else:    \n",
    "        up = lattice[i-1,j]\n",
    "    up = int(up)\n",
    "\n",
    "    if i == s:\n",
    "        down = lattice[0,j]      \n",
    "    else:\n",
    "        down = lattice[i+1,j]\n",
    "    down = int(down)\n",
    "\n",
    "    if j == 0:\n",
    "        left = lattice[i,s]        \n",
    "    else:\n",
    "        left = lattice[i,j-1]    \n",
    "    left = int(left)\n",
    "\n",
    "    if j == s:\n",
    "        right = lattice[i,0]       \n",
    "    else:\n",
    "        right = lattice[i,j+1]\n",
    "    right = int(right)\n",
    "    \n",
    "    \n",
    "    E = -(interaction_matrix[ID_in, up] + interaction_matrix[ID_in, down] + interaction_matrix[ID_in, left] + \n",
    "          interaction_matrix[ID_in, right])\n",
    "    return E"
   ]
  },
  {
   "cell_type": "code",
   "execution_count": 132,
   "id": "78907e38",
   "metadata": {},
   "outputs": [],
   "source": [
    "# total energy of lattice\n",
    "def lattice_energy(lattice, eps):\n",
    "    \n",
    "    # interaction energy\n",
    "    E_total = 0\n",
    "    rows, cols = lattice.shape\n",
    "\n",
    "    for i in range(rows):\n",
    "        for j in range(cols):\n",
    "            val = int(lattice[i, j])\n",
    "            E_total += energy(lattice, val, (i, j), eps)\n",
    "\n",
    "    E_total = E_total / 2\n",
    "    \n",
    "    # chemical ?\n",
    "    \n",
    "    return E_total\n"
   ]
  },
  {
   "cell_type": "code",
   "execution_count": 153,
   "id": "155bbf0f",
   "metadata": {},
   "outputs": [],
   "source": [
    "def lattice_energy2(lattice, eps, muT, muB):\n",
    "    \n",
    "    # interaction energy\n",
    "    E_interaction = 0\n",
    "    rows, cols = lattice.shape\n",
    "\n",
    "    for i in range(rows):\n",
    "        for j in range(cols):\n",
    "            val = int(lattice[i, j])\n",
    "            E_interaction += energy(lattice, val, (i, j), eps)\n",
    "\n",
    "    E_interaction = E_interaction / 2\n",
    "    \n",
    "    # chemical energy\n",
    "    numB = np.argwhere(lattice == 2)\n",
    "    numB = numB.shape[0]\n",
    "    numT = np.argwhere(lattice == 1)\n",
    "    numT = numT.shape[0]\n",
    "    \n",
    "    E_chemical = muB*numB + muT*numT\n",
    "    \n",
    "    E_total = E_interaction + E_chemical\n",
    "    \n",
    "    return E_total"
   ]
  },
  {
   "cell_type": "code",
   "execution_count": 154,
   "id": "204ee1c1",
   "metadata": {},
   "outputs": [],
   "source": [
    "#numB = np.argwhere(lattice == 2)\n",
    "#numB = numB.shape[0]\n",
    "#numB\n",
    "#E_lattice = lattice_energy2(lattice, interaction_matrix, muT, muB)"
   ]
  },
  {
   "cell_type": "code",
   "execution_count": 184,
   "id": "19d8373c",
   "metadata": {},
   "outputs": [],
   "source": [
    "\n",
    "def evaluate_particle_addB(lattice, pos2, pos1, pos0, T, E_total, eps, muT, muB):\n",
    "    #print(\"pos1before\",pos1.shape)\n",
    "    pb, colb = position_random(pos0) #pick a hole to put bacteria\n",
    "    \n",
    "    #ID_in= lattice[pb[0], pb[1]] #change it in the lattice\n",
    "    ID_B = 2\n",
    "    Efin = energy(lattice, ID_B, pb, eps) #evaluate neighbouring energy\n",
    "    #ID_in = lattice[pb[0], pb[1]]\n",
    "    ID_empty = 0\n",
    "    Ein = energy(lattice,ID_empty, pb, eps) #evaluate neighbouring energy before\n",
    "    \n",
    "    #muT, muB = 1, 2\n",
    "    \n",
    "    #print(\"Efin , Ein\", Efin, Ein)\n",
    "    Ediff = Efin - Ein\n",
    "    #print(\"Ediff \", Ediff)\n",
    "\n",
    "    if Ediff < 0 :\n",
    "        add = True\n",
    "    \n",
    "    else:\n",
    "        probability = np.exp(-(Ediff -muB*pos2.shape[1] -muT*pos1.shape[1])/T)\n",
    "       # print('p_B:', probability)\n",
    "        if random.random() < probability: # random.random gives between 0 and 1. Hence higher prob -> more move\n",
    "            add = True \n",
    "        else:\n",
    "            add = False\n",
    "        \n",
    "    if add: \n",
    "        lattice[pb[0], pb[1]] = 2\n",
    "        #print(\"before\",pos2, pb)\n",
    "        pos0 = np.delete(pos0, colb, axis=1)\n",
    "        pos2 = np.hstack((pos2, np.array([pb]).reshape(-1, 1)))\n",
    "        #print(pos0)\n",
    "        E_total = E_total + Ediff + muB\n",
    "        E_total = float(E_total)\n",
    "        #print(E_total)\n",
    "        #print(\"Ediff:\", Ediff)\n",
    "        \n",
    "    else:\n",
    "        lattice[pb[0], pb[1]] = 0\n",
    "    #print(E_total, Ediff)\n",
    "    return lattice, pos2, pos0, E_total"
   ]
  },
  {
   "cell_type": "code",
   "execution_count": 156,
   "id": "03286e12",
   "metadata": {},
   "outputs": [],
   "source": [
    "# check if object moves. pos1 is the coordinates of all objects where one is to be moved. \n",
    "# most likely a Tcell\n",
    "# pos0 are coordinates of holes in the lattice \n",
    "\n",
    "def evaluate_particle_moveT(lattice, pos1, pos0, T, E_total, eps):\n",
    "    #print(\"pos1before\",pos1.shape)\n",
    "    p1, col1 = position_random(pos1)\n",
    "    \n",
    "    ID_in = lattice[p1[0], p1[1]]\n",
    "    ID_in = int(ID_in)\n",
    "    Ein = energy(lattice,ID_in, p1, eps)\n",
    "    \n",
    "    p0, col0 = position_random(pos0)\n",
    "    # seeing what energy would be for particle if it moved the the chosen empty location\n",
    "    lattice[p1[0], p1[1]] = 0 # temporarily moving object so not to be seen as neighbor by itself\n",
    "    Efin = energy(lattice, ID_in, p0, eps)\n",
    "    #print(\"Efin , Ein\", Efin, Ein)\n",
    "    Ediff = Efin - Ein\n",
    "\n",
    "\n",
    "    if Ediff < 0 :\n",
    "        move = True\n",
    "    \n",
    "    else:\n",
    "        probability = np.exp(-Ediff/T)\n",
    "        if random.random() < probability: # random.random gives between 0 and 1. Hence higher prob -> more move\n",
    "            move = True \n",
    "        else:\n",
    "            move = False\n",
    "        \n",
    "    if move: \n",
    "        lattice[p0[0], p0[1]] = 1\n",
    "        # update arrays containing coordinates of 0's and 1's\n",
    "        pos1[:,col1] = [p0[0], p0[1]]\n",
    "        pos0[:,col0] = [p1[0], p1[1]]\n",
    "        #print(pos1)\n",
    "        E_total = E_total + Ediff\n",
    "        E_total = float(E_total)\n",
    "        #print(\"Ediff:\", Ediff)\n",
    "        \n",
    "    else:\n",
    "        lattice[p0[0], p0[1]] = 0\n",
    "        lattice[p1[0], p1[1]] = 1\n",
    "    #print(E_total, Ediff)\n",
    "    return lattice, pos1, pos0, E_total"
   ]
  },
  {
   "cell_type": "code",
   "execution_count": 157,
   "id": "1785c771",
   "metadata": {},
   "outputs": [],
   "source": [
    "def gridprint(lattice,lattice_length):\n",
    "    cmap = plt.cm.colors.ListedColormap(['white', 'blue', 'red'])\n",
    "    plt.imshow(lattice, cmap=cmap, extent=[0, lattice_length, 0, lattice_length])\n",
    "    plt.colorbar(ticks=[0, 1, 2], label=\"Legend\")\n",
    "    plt.title(\"Lattice with T's (Blue) and B's (Red)\")\n",
    "    #plt.grid(True, linewidth=0.5, color='black')\n",
    "    plt.show()\n",
    "  \n",
    "    return 0"
   ]
  },
  {
   "cell_type": "code",
   "execution_count": 191,
   "id": "18514d65",
   "metadata": {},
   "outputs": [],
   "source": [
    "\n",
    "def monte_carlo(Temp, eps, lattice_length, T_num_in, B_num_in, muT, muB, num_runs, num_lattices_to_store=None):\n",
    "    \n",
    "    \n",
    "    \n",
    "    #print('p0:',pos0,'T:',pos1,'B:',pos2)\n",
    "\n",
    "    E_history = {}\n",
    "    #pos0_hist=[]\n",
    "    #pos1_hist=[]\n",
    "    #pos2_hist=[]\n",
    "    Tcell = []\n",
    "    B_num = np.zeros(len(Temp))\n",
    "    pos2t=[]\n",
    "    for ind, t in enumerate(Temp):\n",
    "        #lattice_history = []\n",
    "        E_history_for_Temp = []\n",
    "        #pos0t=[]\n",
    "        #pos1t=[]\n",
    "        lattice, pos1, pos2, pos0 = create_lattice(lattice_length, T_num_in, B_num_in)\n",
    "        #E_lattice = lattice_energy(lattice, eps)\n",
    "        E_lattice = lattice_energy2(lattice, eps, muT, muB)\n",
    "        \n",
    "        #gridprint(lattice,lattice_length)\n",
    "        for i in range(0,num_runs): # change to from one and append initial E and lattice to outisde\n",
    "            E_history_for_Temp.append(E_lattice)\n",
    "            \n",
    "            if any(pos0[1]):\n",
    "                lattice, pos1, pos0, E_lattice = evaluate_particle_moveT(\n",
    "                                                lattice, pos1, pos0, t, E_lattice, eps)\n",
    "            \n",
    "                lattice, pos2, pos0, E_lattice = evaluate_particle_addB(\n",
    "                                                lattice, pos2, pos1, pos0, t, E_lattice, eps, muT, muB)\n",
    "                \n",
    "        pos2t.append(pos2.shape[1])\n",
    "                #gridprint(lattice,lattice_length)\n",
    "            #pos0t.append(pos0)\n",
    "            #pos1t.append(pos1)\n",
    "        \n",
    "            \n",
    "        B_num[ind] = pos2[1].size\n",
    "        Tcell.append(pos1.shape[1])   \n",
    "\n",
    "        E_history[t] = E_history_for_Temp.copy()\n",
    "        #gridprint(lattice,lattice_length)\n",
    "        \n",
    "        #pos0_hist.append(pos0t)\n",
    "        #pos1_hist.append(pos1t)\n",
    "        #pos2_hist.append(pos2t)\n",
    "        \n",
    "    #SAVE ON FILE\n",
    "    current_datetime = datetime.now()\n",
    "    datetime_str = current_datetime.strftime('%Y%m%d-%H-%M')    \n",
    "    run_name = f'{datetime_str}'\n",
    "    \n",
    "    return lattice, E_history, B_num, pos2t, run_name #, pos0_hist, pos1_hist, pos2_hist\n",
    "    #return lattice"
   ]
  },
  {
   "cell_type": "code",
   "execution_count": 192,
   "id": "c4d25c1b",
   "metadata": {
    "scrolled": true
   },
   "outputs": [
    {
     "name": "stderr",
     "output_type": "stream",
     "text": [
      "/var/folders/lp/dfnyzrns3slc8zy7xmm5hnl80000gn/T/ipykernel_29699/1212103221.py:22: RuntimeWarning: overflow encountered in exp\n",
      "  probability = np.exp(-(Ediff -muB*pos2.shape[1] -muT*pos1.shape[1])/T)\n"
     ]
    }
   ],
   "source": [
    "# the interaction matrix can be used to decide how many bacteria are able to multiply. \n",
    "# if surrounded by T cells -> no division\n",
    "# the body is modelled by an N by N lattice\n",
    "\n",
    "num_runs = 10_000\n",
    "#Temp = 0.2\n",
    "T = np.arange(20,0.01,-0.5)\n",
    "#T = np.arange(.1,.01,-0.1) ##Test\n",
    "size = 50\n",
    "\n",
    "T_num_in = int(size**2/2)    # number of initial T-cells\n",
    "B_num_in = 1\n",
    "muT, muB = 1, 2\n",
    "\n",
    "BB_int = 1      # interaction energy between bacterias\n",
    "TT_int = -1      # interaction energy between T-cells\n",
    "BT_int = 4     # interaction energy between bacteria and T-cells\n",
    "interaction_matrix = np.array([\n",
    "    [0, 0, 0],\n",
    "    [0, TT_int, BT_int],\n",
    "    [0, BT_int, BB_int]\n",
    "])\n",
    "\n",
    "lattice, E_history, B_num, pos2t, run_name = monte_carlo(T, interaction_matrix, size, T_num_in, B_num_in, muT, muB, num_runs, num_lattices_to_store=None)\n",
    "#print(pos2t)\n"
   ]
  },
  {
   "cell_type": "code",
   "execution_count": 183,
   "id": "f1f44966",
   "metadata": {},
   "outputs": [
    {
     "data": {
      "text/plain": [
       "array([1250., 1250., 1250., 1250., 1250., 1250., 1250., 1250., 1250.,\n",
       "       1250., 1250., 1250., 1250., 1250., 1250., 1249., 1250., 1250.,\n",
       "       1250., 1250., 1250., 1250., 1250., 1250., 1250., 1250., 1250.,\n",
       "       1250., 1250., 1250., 1250., 1250., 1250., 1250., 1250., 1250.,\n",
       "       1250., 1250., 1250., 1250.])"
      ]
     },
     "execution_count": 183,
     "metadata": {},
     "output_type": "execute_result"
    }
   ],
   "source": [
    "B_num"
   ]
  },
  {
   "cell_type": "code",
   "execution_count": 167,
   "id": "d3fa41f4",
   "metadata": {},
   "outputs": [
    {
     "data": {
      "image/png": "[encoded data removed]",
      "text/plain": [
       "<Figure size 640x480 with 1 Axes>"
      ]
     },
     "metadata": {},
     "output_type": "display_data"
    }
   ],
   "source": [
    "plt.figure()\n",
    "plt.plot(T,B_num,'.')\n",
    "plt.xlabel('T')\n",
    "plt.ylabel('Number of B')\n",
    "plt.show()"
   ]
  },
  {
   "cell_type": "code",
   "execution_count": 181,
   "id": "0f740c34",
   "metadata": {
    "scrolled": true
   },
   "outputs": [],
   "source": [
    "def mean_energy(T, E_history, ind_equilibrium):\n",
    "    \n",
    "    E = E_history\n",
    "    E_mean = np.zeros([len(T)])\n",
    "    E_variance = np.zeros([len(T)])\n",
    "\n",
    "    for ind,t in enumerate(T):\n",
    "        E_mean[ind] = np.mean(E[t][ind_equilibrium:-1])\n",
    "        E_variance[ind] = np.var(E[t][ind_equilibrium:-1])\n",
    "\n",
    "    return E_mean, E_variance\n",
    "\n",
    "#ind_equi = int(0.5*num_runs) \n",
    "ind_equi = int((3/8)*num_runs) # index where equilibrium is assumed. \n",
    "E_mean, E_var = mean_energy(T, E_history, ind_equi)\n"
   ]
  },
  {
   "cell_type": "code",
   "execution_count": 169,
   "id": "b3942c82",
   "metadata": {
    "scrolled": false
   },
   "outputs": [
    {
     "data": {
      "image/png": "[encoded data removed]",
      "text/plain": [
       "<Figure size 640x480 with 1 Axes>"
      ]
     },
     "metadata": {},
     "output_type": "display_data"
    }
   ],
   "source": [
    "plt.figure()\n",
    "plt.plot(T,E_mean,'o')\n",
    "plt.xlabel('T')\n",
    "plt.ylabel('U')\n",
    "plt.title(f'Size: {size} ,Runs: {num_runs}')\n",
    "plt.show()\n",
    "#lattice_plots(lattice, np.arange(0,100,5))"
   ]
  },
  {
   "cell_type": "code",
   "execution_count": 182,
   "id": "ca6ad7cf",
   "metadata": {},
   "outputs": [],
   "source": [
    "# SAVE DATA \n",
    "\n",
    "current_dir = os.getcwd()\n",
    "\n",
    "# directory of Data folder\n",
    "new_dir = f'{current_dir}/'\n",
    "\n",
    "# Save data there\n",
    "file_spec = '1e4'\n",
    "file_name = f'{run_name}_{file_spec}.npz'\n",
    "file_dir = f'{new_dir}{file_name}'\n",
    "\n",
    "np.savez(file_dir, \n",
    "         T = T,\n",
    "         eps = interaction_matrix,\n",
    "         muT = muT,\n",
    "         muB = muB,\n",
    "         Tcell_num = T_num_in,\n",
    "         B_num = pos2t,\n",
    "         size = size,\n",
    "         E_mean = E_mean,\n",
    "         E_variance = E_var,\n",
    "         num_runs = num_runs,        \n",
    "        )\n",
    "#np.savez(file_dir, T = T, num_runs = num_runs, size = size, eps=eps, T_num_in , B_num = B_num, E_mean = E_mean, E_variance=E_var, execution_time=execution_time )\n"
   ]
  },
  {
   "cell_type": "code",
   "execution_count": null,
   "id": "98b20bc8",
   "metadata": {},
   "outputs": [],
   "source": []
  }
 ],
 "metadata": {
  "kernelspec": {
   "display_name": "Python 3 (ipykernel)",
   "language": "python",
   "name": "python3"
  },
  "language_info": {
   "codemirror_mode": {
    "name": "ipython",
    "version": 3
   },
   "file_extension": ".py",
   "mimetype": "text/x-python",
   "name": "python",
   "nbconvert_exporter": "python",
   "pygments_lexer": "ipython3",
   "version": "3.11.4"
  }
 },
 "nbformat": 4,
 "nbformat_minor": 5
}
