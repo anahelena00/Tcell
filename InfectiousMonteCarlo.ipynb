{
 "cells": [
  {
   "cell_type": "code",
<<<<<<< HEAD
   "execution_count": 15,
=======
   "execution_count": 1,
>>>>>>> a9c60f37e8cebff21947ddf1f08d24f2fceb2ca6
   "id": "37b72c85",
   "metadata": {},
   "outputs": [],
   "source": [
    "import numpy as np\n",
    "import random\n",
    "import matplotlib.pyplot as plt\n",
    "import numba\n",
    "import time\n",
    "import os\n",
    "from datetime import datetime\n",
    "from mpmath import mp\n"
   ]
  },
  {
   "cell_type": "code",
<<<<<<< HEAD
   "execution_count": 16,
=======
   "execution_count": 2,
>>>>>>> a9c60f37e8cebff21947ddf1f08d24f2fceb2ca6
   "id": "841ae704",
   "metadata": {},
   "outputs": [],
   "source": [
    "def create_lattice(lattice_length, T_num, B_num):\n",
    "    lattice = np.zeros([lattice_length, lattice_length])\n",
    "    \n",
    "    # Place T's randomly\n",
    "    t_coords = np.empty((2, 0), dtype=int)  # Initialize as an empty array\n",
    "    while t_coords.shape[1] < T_num:  # Check the number of columns\n",
    "        t = np.array([[np.random.randint(lattice_length)], [np.random.randint(lattice_length)]])\n",
    "        if not np.any(np.all(t == t_coords, axis=0)):\n",
    "            t_coords = np.hstack((t_coords, t))\n",
    "            lattice[t[0, 0], t[1, 0]] = 1\n",
    "    \n",
    "    # Place B's randomly\n",
    "    b_coords = np.empty((2, 0), dtype=int)  # Initialize as an empty array\n",
    "    while b_coords.shape[1] < B_num:  # Check the number of columns\n",
    "        b = np.array([[np.random.randint(lattice_length)], [np.random.randint(lattice_length)]])\n",
    "        if not np.any(np.all(b == b_coords, axis=0)) and not np.any(np.all(b == t_coords, axis=0)):\n",
    "            b_coords = np.hstack((b_coords, b))\n",
    "            lattice[b[0, 0], b[1, 0]] = 2\n",
    "    \n",
    "    empty_coords = np.argwhere(lattice == 0).T\n",
    "    \n",
    "    return lattice, t_coords, b_coords, empty_coords"
   ]
  },
  {
   "cell_type": "code",
<<<<<<< HEAD
   "execution_count": 17,
=======
   "execution_count": 3,
>>>>>>> a9c60f37e8cebff21947ddf1f08d24f2fceb2ca6
   "id": "a4b3c31a",
   "metadata": {},
   "outputs": [],
   "source": [
    "# showing lattices as they evolve \n",
    "\n",
    "def lattice_plots(lattice_history, selected_indices):\n",
    "\n",
    "    cmap = plt.cm.colors.ListedColormap(['white', 'blue', 'red'])\n",
    "\n",
    "    for i in range(len(selected_indices)):\n",
    "\n",
    "        # Create a plot\n",
    "        plt.imshow(lattice_history[i], cmap=cmap, extent=[0, size, 0, size])\n",
    "        plt.colorbar(ticks=[0, 1, 2], label=\"Legend\")\n",
    "        plt.title(\"Lattice with T's (Blue) and B's (Red)\")\n",
    "        plt.show()\n",
    "        "
   ]
  },
  {
   "cell_type": "code",
<<<<<<< HEAD
   "execution_count": 18,
=======
   "execution_count": 4,
>>>>>>> a9c60f37e8cebff21947ddf1f08d24f2fceb2ca6
   "id": "b830287b",
   "metadata": {},
   "outputs": [],
   "source": [
    "def position_random(pos): \n",
    "    col = np.random.randint(pos.shape[1]) \n",
    "    p = pos[:,col]\n",
    "    return p, col"
   ]
  },
  {
   "cell_type": "code",
<<<<<<< HEAD
   "execution_count": 19,
=======
   "execution_count": 5,
>>>>>>> a9c60f37e8cebff21947ddf1f08d24f2fceb2ca6
   "id": "f5138946",
   "metadata": {},
   "outputs": [],
   "source": [
    "\n",
    "def energy(lattice, ID_in, pos_hypo, interaction_matrix):\n",
    "    s = lattice.shape[0]-1\n",
    "    i = pos_hypo[0] # x coordinate\n",
    "    j = pos_hypo[1] # y coordinate\n",
    "    \n",
    "    if i==0:\n",
    "        up = lattice[s,j]   \n",
    "    else:    \n",
    "        up = lattice[i-1,j]\n",
    "    up = int(up)\n",
    "\n",
    "    if i == s:\n",
    "        down = lattice[0,j]      \n",
    "    else:\n",
    "        down = lattice[i+1,j]\n",
    "    down = int(down)\n",
    "\n",
    "    if j == 0:\n",
    "        left = lattice[i,s]        \n",
    "    else:\n",
    "        left = lattice[i,j-1]    \n",
    "    left = int(left)\n",
    "\n",
    "    if j == s:\n",
    "        right = lattice[i,0]       \n",
    "    else:\n",
    "        right = lattice[i,j+1]\n",
    "    right = int(right)\n",
    "    \n",
    "    \n",
    "    E = -(interaction_matrix[ID_in, up] + interaction_matrix[ID_in, down] + interaction_matrix[ID_in, left] + \n",
    "          interaction_matrix[ID_in, right])\n",
    "    return E"
   ]
  },
  {
   "cell_type": "code",
<<<<<<< HEAD
   "execution_count": 20,
=======
   "execution_count": 132,
>>>>>>> a9c60f37e8cebff21947ddf1f08d24f2fceb2ca6
   "id": "78907e38",
   "metadata": {},
   "outputs": [],
   "source": [
    "# total energy of lattice\n",
    "def lattice_energy(lattice, eps):\n",
    "    \n",
    "    # interaction energy\n",
    "    E_total = 0\n",
    "    rows, cols = lattice.shape\n",
    "\n",
    "    for i in range(rows):\n",
    "        for j in range(cols):\n",
    "            val = int(lattice[i, j])\n",
    "            E_total += energy(lattice, val, (i, j), eps)\n",
    "\n",
    "    E_total = E_total / 2\n",
    "    \n",
    "    # chemical ?\n",
    "    \n",
    "    return E_total\n"
   ]
  },
  {
   "cell_type": "code",
<<<<<<< HEAD
   "execution_count": 21,
=======
   "execution_count": 153,
>>>>>>> a9c60f37e8cebff21947ddf1f08d24f2fceb2ca6
   "id": "155bbf0f",
   "metadata": {},
   "outputs": [],
   "source": [
    "def lattice_energy2(lattice, eps, muT, muB):\n",
    "    \n",
    "    # interaction energy\n",
    "    E_interaction = 0\n",
    "    rows, cols = lattice.shape\n",
    "\n",
    "    for i in range(rows):\n",
    "        for j in range(cols):\n",
    "            val = int(lattice[i, j])\n",
    "            E_interaction += energy(lattice, val, (i, j), eps)\n",
    "\n",
    "    E_interaction = E_interaction / 2\n",
    "    \n",
    "    # chemical energy\n",
    "    numB = np.argwhere(lattice == 2)\n",
    "    numB = numB.shape[0]\n",
    "    numT = np.argwhere(lattice == 1)\n",
    "    numT = numT.shape[0]\n",
    "    \n",
    "    E_chemical = muB*numB + muT*numT\n",
    "    \n",
    "    E_total = E_interaction + E_chemical\n",
    "    \n",
    "    return E_total"
   ]
  },
  {
   "cell_type": "code",
<<<<<<< HEAD
   "execution_count": 22,
=======
   "execution_count": 154,
>>>>>>> a9c60f37e8cebff21947ddf1f08d24f2fceb2ca6
   "id": "204ee1c1",
   "metadata": {},
   "outputs": [],
   "source": [
    "#numB = np.argwhere(lattice == 2)\n",
    "#numB = numB.shape[0]\n",
    "#numB\n",
    "#E_lattice = lattice_energy2(lattice, interaction_matrix, muT, muB)"
   ]
  },
  {
   "cell_type": "code",
<<<<<<< HEAD
   "execution_count": 23,
=======
   "execution_count": 184,
>>>>>>> a9c60f37e8cebff21947ddf1f08d24f2fceb2ca6
   "id": "19d8373c",
   "metadata": {},
   "outputs": [],
   "source": [
    "\n",
    "def evaluate_particle_addB(lattice, pos2, pos1, pos0, T, E_total, eps, muT, muB):\n",
    "    #print(\"pos1before\",pos1.shape)\n",
    "    pb, colb = position_random(pos0) #pick a hole to put bacteria\n",
    "    \n",
    "    #ID_in= lattice[pb[0], pb[1]] #change it in the lattice\n",
    "    ID_B = 2\n",
    "    Efin = energy(lattice, ID_B, pb, eps) #evaluate neighbouring energy\n",
    "    #ID_in = lattice[pb[0], pb[1]]\n",
    "    ID_empty = 0\n",
    "    Ein = energy(lattice,ID_empty, pb, eps) #evaluate neighbouring energy before\n",
    "    \n",
    "    #muT, muB = 1, 2\n",
    "    \n",
    "    #print(\"Efin , Ein\", Efin, Ein)\n",
    "    Ediff = Efin - Ein\n",
    "    #print(\"Ediff \", Ediff)\n",
    "\n",
    "    if Ediff < 0 :\n",
    "        add = True\n",
    "    \n",
    "    else:\n",
<<<<<<< HEAD
    "        mp.dps = 128\n",
    "        #probability = np.float128(np.exp(-(Ediff -muB*pos2.shape[1] -muT*pos1.shape[1])/T) )\n",
    "        probability = mp.exp(-(Ediff - muB * pos2.shape[1] - muT * pos1.shape[1]) / T)\n",
=======
    "        probability = np.exp(-(Ediff -muB*pos2.shape[1] -muT*pos1.shape[1])/T)\n",
>>>>>>> a9c60f37e8cebff21947ddf1f08d24f2fceb2ca6
    "       # print('p_B:', probability)\n",
    "        if random.random() < probability: # random.random gives between 0 and 1. Hence higher prob -> more move\n",
    "            add = True \n",
    "        else:\n",
    "            add = False\n",
    "        \n",
    "    if add: \n",
    "        lattice[pb[0], pb[1]] = 2\n",
    "        #print(\"before\",pos2, pb)\n",
    "        pos0 = np.delete(pos0, colb, axis=1)\n",
    "        pos2 = np.hstack((pos2, np.array([pb]).reshape(-1, 1)))\n",
    "        #print(pos0)\n",
    "        E_total = E_total + Ediff + muB\n",
    "        E_total = float(E_total)\n",
    "        #print(E_total)\n",
    "        #print(\"Ediff:\", Ediff)\n",
    "        \n",
    "    else:\n",
    "        lattice[pb[0], pb[1]] = 0\n",
    "    #print(E_total, Ediff)\n",
    "    return lattice, pos2, pos0, E_total"
   ]
  },
  {
   "cell_type": "code",
<<<<<<< HEAD
   "execution_count": 24,
=======
   "execution_count": 156,
>>>>>>> a9c60f37e8cebff21947ddf1f08d24f2fceb2ca6
   "id": "03286e12",
   "metadata": {},
   "outputs": [],
   "source": [
    "# check if object moves. pos1 is the coordinates of all objects where one is to be moved. \n",
    "# most likely a Tcell\n",
    "# pos0 are coordinates of holes in the lattice \n",
    "\n",
    "def evaluate_particle_moveT(lattice, pos1, pos0, T, E_total, eps):\n",
    "    #print(\"pos1before\",pos1.shape)\n",
    "    p1, col1 = position_random(pos1)\n",
    "    \n",
    "    ID_in = lattice[p1[0], p1[1]]\n",
    "    ID_in = int(ID_in)\n",
    "    Ein = energy(lattice,ID_in, p1, eps)\n",
    "    \n",
    "    p0, col0 = position_random(pos0)\n",
    "    # seeing what energy would be for particle if it moved the the chosen empty location\n",
    "    lattice[p1[0], p1[1]] = 0 # temporarily moving object so not to be seen as neighbor by itself\n",
    "    Efin = energy(lattice, ID_in, p0, eps)\n",
    "    #print(\"Efin , Ein\", Efin, Ein)\n",
    "    Ediff = Efin - Ein\n",
    "\n",
    "\n",
    "    if Ediff < 0 :\n",
    "        move = True\n",
    "    \n",
    "    else:\n",
    "        probability = np.exp(-Ediff/T)\n",
    "        if random.random() < probability: # random.random gives between 0 and 1. Hence higher prob -> more move\n",
    "            move = True \n",
    "        else:\n",
    "            move = False\n",
    "        \n",
    "    if move: \n",
    "        lattice[p0[0], p0[1]] = 1\n",
    "        # update arrays containing coordinates of 0's and 1's\n",
    "        pos1[:,col1] = [p0[0], p0[1]]\n",
    "        pos0[:,col0] = [p1[0], p1[1]]\n",
    "        #print(pos1)\n",
    "        E_total = E_total + Ediff\n",
    "        E_total = float(E_total)\n",
    "        #print(\"Ediff:\", Ediff)\n",
    "        \n",
    "    else:\n",
    "        lattice[p0[0], p0[1]] = 0\n",
    "        lattice[p1[0], p1[1]] = 1\n",
    "    #print(E_total, Ediff)\n",
    "    return lattice, pos1, pos0, E_total"
   ]
  },
  {
   "cell_type": "code",
<<<<<<< HEAD
   "execution_count": 25,
=======
   "execution_count": 157,
>>>>>>> a9c60f37e8cebff21947ddf1f08d24f2fceb2ca6
   "id": "1785c771",
   "metadata": {},
   "outputs": [],
   "source": [
    "def gridprint(lattice,lattice_length):\n",
    "    cmap = plt.cm.colors.ListedColormap(['white', 'blue', 'red'])\n",
    "    plt.imshow(lattice, cmap=cmap, extent=[0, lattice_length, 0, lattice_length])\n",
    "    plt.colorbar(ticks=[0, 1, 2], label=\"Legend\")\n",
    "    plt.title(\"Lattice with T's (Blue) and B's (Red)\")\n",
    "    #plt.grid(True, linewidth=0.5, color='black')\n",
    "    plt.show()\n",
    "  \n",
    "    return 0"
   ]
  },
  {
   "cell_type": "code",
<<<<<<< HEAD
   "execution_count": 26,
=======
   "execution_count": 191,
>>>>>>> a9c60f37e8cebff21947ddf1f08d24f2fceb2ca6
   "id": "18514d65",
   "metadata": {},
   "outputs": [],
   "source": [
    "\n",
    "def monte_carlo(Temp, eps, lattice_length, T_num_in, B_num_in, muT, muB, num_runs, num_lattices_to_store=None):\n",
    "    \n",
    "    \n",
    "    \n",
    "    #print('p0:',pos0,'T:',pos1,'B:',pos2)\n",
    "\n",
    "    E_history = {}\n",
    "    #pos0_hist=[]\n",
    "    #pos1_hist=[]\n",
    "    #pos2_hist=[]\n",
    "    Tcell = []\n",
    "    B_num = np.zeros(len(Temp))\n",
    "    pos2t=[]\n",
    "    for ind, t in enumerate(Temp):\n",
    "        #lattice_history = []\n",
    "        E_history_for_Temp = []\n",
    "        #pos0t=[]\n",
    "        #pos1t=[]\n",
    "        lattice, pos1, pos2, pos0 = create_lattice(lattice_length, T_num_in, B_num_in)\n",
    "        #E_lattice = lattice_energy(lattice, eps)\n",
    "        E_lattice = lattice_energy2(lattice, eps, muT, muB)\n",
    "        \n",
    "        #gridprint(lattice,lattice_length)\n",
    "        for i in range(0,num_runs): # change to from one and append initial E and lattice to outisde\n",
    "            E_history_for_Temp.append(E_lattice)\n",
    "            \n",
    "            if any(pos0[1]):\n",
    "                lattice, pos1, pos0, E_lattice = evaluate_particle_moveT(\n",
    "                                                lattice, pos1, pos0, t, E_lattice, eps)\n",
    "            \n",
    "                lattice, pos2, pos0, E_lattice = evaluate_particle_addB(\n",
    "                                                lattice, pos2, pos1, pos0, t, E_lattice, eps, muT, muB)\n",
    "                \n",
    "        pos2t.append(pos2.shape[1])\n",
    "                #gridprint(lattice,lattice_length)\n",
    "            #pos0t.append(pos0)\n",
    "            #pos1t.append(pos1)\n",
    "        \n",
    "            \n",
    "        B_num[ind] = pos2[1].size\n",
    "        Tcell.append(pos1.shape[1])   \n",
    "\n",
    "        E_history[t] = E_history_for_Temp.copy()\n",
    "        #gridprint(lattice,lattice_length)\n",
    "        \n",
    "        #pos0_hist.append(pos0t)\n",
    "        #pos1_hist.append(pos1t)\n",
    "        #pos2_hist.append(pos2t)\n",
    "        \n",
    "    #SAVE ON FILE\n",
    "    current_datetime = datetime.now()\n",
    "    datetime_str = current_datetime.strftime('%Y%m%d-%H-%M')    \n",
    "    run_name = f'{datetime_str}'\n",
    "    \n",
    "    return lattice, E_history, B_num, pos2t, run_name #, pos0_hist, pos1_hist, pos2_hist\n",
    "    #return lattice"
   ]
  },
  {
   "cell_type": "code",
<<<<<<< HEAD
   "execution_count": 27,
=======
   "execution_count": 192,
>>>>>>> a9c60f37e8cebff21947ddf1f08d24f2fceb2ca6
   "id": "c4d25c1b",
   "metadata": {
    "scrolled": true
   },
<<<<<<< HEAD
   "outputs": [],
=======
   "outputs": [
    {
     "name": "stderr",
     "output_type": "stream",
     "text": [
      "/var/folders/lp/dfnyzrns3slc8zy7xmm5hnl80000gn/T/ipykernel_29699/1212103221.py:22: RuntimeWarning: overflow encountered in exp\n",
      "  probability = np.exp(-(Ediff -muB*pos2.shape[1] -muT*pos1.shape[1])/T)\n"
     ]
    }
   ],
>>>>>>> a9c60f37e8cebff21947ddf1f08d24f2fceb2ca6
   "source": [
    "# the interaction matrix can be used to decide how many bacteria are able to multiply. \n",
    "# if surrounded by T cells -> no division\n",
    "# the body is modelled by an N by N lattice\n",
    "\n",
    "num_runs = 10_000\n",
    "#Temp = 0.2\n",
    "T = np.arange(20,0.01,-0.5)\n",
    "#T = np.arange(.1,.01,-0.1) ##Test\n",
    "size = 50\n",
    "\n",
    "T_num_in = int(size**2/2)    # number of initial T-cells\n",
    "B_num_in = 1\n",
    "muT, muB = 1, 2\n",
    "\n",
    "BB_int = 1      # interaction energy between bacterias\n",
    "TT_int = -1      # interaction energy between T-cells\n",
    "BT_int = 4     # interaction energy between bacteria and T-cells\n",
    "interaction_matrix = np.array([\n",
    "    [0, 0, 0],\n",
    "    [0, TT_int, BT_int],\n",
    "    [0, BT_int, BB_int]\n",
    "])\n",
    "\n",
    "lattice, E_history, B_num, pos2t, run_name = monte_carlo(T, interaction_matrix, size, T_num_in, B_num_in, muT, muB, num_runs, num_lattices_to_store=None)\n",
    "#print(pos2t)\n"
   ]
  },
  {
   "cell_type": "code",
<<<<<<< HEAD
   "execution_count": 28,
=======
   "execution_count": 183,
>>>>>>> a9c60f37e8cebff21947ddf1f08d24f2fceb2ca6
   "id": "f1f44966",
   "metadata": {},
   "outputs": [
    {
     "data": {
      "text/plain": [
       "array([1250., 1250., 1250., 1250., 1250., 1250., 1250., 1250., 1250.,\n",
<<<<<<< HEAD
       "       1250., 1250., 1250., 1250., 1250., 1250., 1250., 1250., 1250.,\n",
=======
       "       1250., 1250., 1250., 1250., 1250., 1250., 1249., 1250., 1250.,\n",
>>>>>>> a9c60f37e8cebff21947ddf1f08d24f2fceb2ca6
       "       1250., 1250., 1250., 1250., 1250., 1250., 1250., 1250., 1250.,\n",
       "       1250., 1250., 1250., 1250., 1250., 1250., 1250., 1250., 1250.,\n",
       "       1250., 1250., 1250., 1250.])"
      ]
     },
<<<<<<< HEAD
     "execution_count": 28,
=======
     "execution_count": 183,
>>>>>>> a9c60f37e8cebff21947ddf1f08d24f2fceb2ca6
     "metadata": {},
     "output_type": "execute_result"
    }
   ],
   "source": [
    "B_num"
   ]
  },
  {
   "cell_type": "code",
<<<<<<< HEAD
   "execution_count": 29,
=======
   "execution_count": 167,
>>>>>>> a9c60f37e8cebff21947ddf1f08d24f2fceb2ca6
   "id": "d3fa41f4",
   "metadata": {},
   "outputs": [
    {
     "data": {
<<<<<<< HEAD
      "image/png": "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",
=======
      "image/png": "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",
>>>>>>> a9c60f37e8cebff21947ddf1f08d24f2fceb2ca6
      "text/plain": [
       "<Figure size 640x480 with 1 Axes>"
      ]
     },
     "metadata": {},
     "output_type": "display_data"
    }
   ],
   "source": [
    "plt.figure()\n",
    "plt.plot(T,B_num,'.')\n",
    "plt.xlabel('T')\n",
    "plt.ylabel('Number of B')\n",
<<<<<<< HEAD
    "plt.ylim(1240,1260)\n",
=======
>>>>>>> a9c60f37e8cebff21947ddf1f08d24f2fceb2ca6
    "plt.show()"
   ]
  },
  {
   "cell_type": "code",
<<<<<<< HEAD
   "execution_count": 30,
=======
   "execution_count": 181,
>>>>>>> a9c60f37e8cebff21947ddf1f08d24f2fceb2ca6
   "id": "0f740c34",
   "metadata": {
    "scrolled": true
   },
   "outputs": [],
   "source": [
    "def mean_energy(T, E_history, ind_equilibrium):\n",
    "    \n",
    "    E = E_history\n",
    "    E_mean = np.zeros([len(T)])\n",
    "    E_variance = np.zeros([len(T)])\n",
    "\n",
    "    for ind,t in enumerate(T):\n",
    "        E_mean[ind] = np.mean(E[t][ind_equilibrium:-1])\n",
    "        E_variance[ind] = np.var(E[t][ind_equilibrium:-1])\n",
    "\n",
    "    return E_mean, E_variance\n",
    "\n",
    "#ind_equi = int(0.5*num_runs) \n",
    "ind_equi = int((3/8)*num_runs) # index where equilibrium is assumed. \n",
    "E_mean, E_var = mean_energy(T, E_history, ind_equi)\n"
   ]
  },
  {
   "cell_type": "code",
<<<<<<< HEAD
   "execution_count": 31,
=======
   "execution_count": 169,
>>>>>>> a9c60f37e8cebff21947ddf1f08d24f2fceb2ca6
   "id": "b3942c82",
   "metadata": {
    "scrolled": false
   },
   "outputs": [
    {
     "data": {
<<<<<<< HEAD
      "image/png": "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",
=======
      "image/png": "iVBORw0KGgoAAAANSUhEUgAAAlAAAAHFCAYAAAA9occoAAAAOXRFWHRTb2Z0d2FyZQBNYXRwbG90bGliIHZlcnNpb24zLjcuMiwgaHR0cHM6Ly9tYXRwbG90bGliLm9yZy8pXeV/AAAACXBIWXMAAA9hAAAPYQGoP6dpAABNT0lEQVR4nO3de3xU1b338e/kNgNIBkiQSRBI4DmiMVgkEYm3eDkQQPFGtRwKkj4ay622BI4KXkJQwCq1FqrQxyJ4nnDUw0GsEaRBJbRqBCJRCVBQDIqSkAPYhKoJIVnPHzwzZcjkskMmmUk+79drXsfZ85s9a88mZ75da6+1bcYYIwAAADRbSHs3AAAAINgQoAAAACwiQAEAAFhEgAIAALCIAAUAAGARAQoAAMAiAhQAAIBFBCgAAACLCFAAAAAWEaCADmbbtm26/fbb1b9/f9ntdvXp00cpKSmaPXu2V911112n6667rn0aeZbrrrtONput3mP06NH1amtqapSdna24uDjZ7XZddNFFWrZs2Tl9/tmfGxkZqSuvvFIvv/zyOe23PZw4cUIPPPCARo0apd69e8tms2n+/PkN1u/cuVP/+q//qvPOO089evTQHXfcoS+++MJn7bJly3TRRRfJbrcrPj5e2dnZqqmpqVdXXl6u9PR0RUdHq2vXrkpJSdE777zjc59vv/22UlJS1LVrV0VHRys9PV3l5eUtOnagTRkAHcabb75pQkJCzA033GBefvllk5+fb15++WUze/Zs07dvX6/a3bt3m927d7dTS72lpqaagQMHmoKCAq/H3r1769Xee++9xm63m6eeesps2bLFPPTQQ8Zms5mFCxe2+PMlmR//+MemoKDAfPDBB2bNmjXmkksuMZLMmjVrzuXQ2lxJSYlxOp3m2muvNffee6+RZLKysnzW7t2713Tv3t1cc801ZsOGDWbdunXmkksuMbGxsaa8vNyr9oknnjA2m83MnTvXbNmyxTz11FMmIiLCZGRkeNVVVVWZxMREc8EFF5icnByTl5dnbr31VhMWFmby8/O9avPz801YWJi59dZbTV5ensnJyTF9+/Y1iYmJpqqqqlW/F6C1EaCADuTaa681gwYNMjU1NfVeq62tbYcWNU9qaqq55JJLmqwrLi42NpvNLFq0yGt7RkaG6dKlizl27FiLPl+SmTFjhte2gwcPGknm2muvbdE+20tdXZ2pq6szxhjzP//zP40GqDvvvNNER0ebiooKz7aDBw+a8PBw88ADD3i2HT161DgcDnPfffd5vX/hwoXGZrN5BfHnnnvOSDIffPCBZ1tNTY1JSEgww4cP93r/5ZdfbhISErz+vb7//vtGknn++eetHzzQhhjCAzqQY8eOKTo6WmFhYfVeCwnx/nM/ewgvPT3d5zDa2UNAlZWVmjNnjuLj4xUREaG+ffvqV7/6lb777jt/HZbH66+/LmOMfvazn3lt/9nPfqYffvhBmzZtarXPGjBggHr37q0jR454tq1evVo2m00HDx70qs3Pz5fNZlN+fr5n23XXXafExETt2LFD11xzjbp27aqBAwfqySefVF1dnaeurq5OTzzxhAYPHqwuXbqoR48euvTSS/W73/2uRe12n7OmnDp1Sm+++abGjx+vyMhIr+O+/vrrtX79es+2TZs2qaqqyuf3bozR66+/7tm2fv16DR48WCkpKZ5tYWFhmjRpkrZv365vvvlGkvTNN99ox44dmjx5ste/1yuvvFIXXnih1+cDgYgABXQgKSkp2rZtm+6//35t27bN5/UpDXn00UdVUFDg9Zg0aZIkKSEhQZL0/fffKzU1VS+99JLuv/9+vfXWW3rwwQe1evVq3XLLLTLGePY3f/78eqGiMQcOHFCvXr0UFhamQYMG6eGHH9YPP/zgVVNcXKzevXvL5XJ5bb/00ks9r7eWiooKHT9+XBdeeGGL91FWVqaf/vSnmjRpkt544w2NGTNGc+fOVU5Ojqfmqaee0vz58/Vv//Zv2rBhg1599VXdc889+vvf/+61L5vN1qrXrB04cEA//PCD57s706WXXqrPP/9cVVVVkv75vQ4ZMsSrLiYmRtHR0V7fe3FxcYP7lKTdu3d77bOh2tY8l4A/1P+fqQCC1pNPPqm//e1vWrZsmZYtW6bw8HBdfvnlGjdunGbOnKnzzjuvwfcOGjRIgwYN8jxfu3at1qxZo3nz5umuu+6SJC1dulSffvqptm3bpuTkZEnSjTfeqL59++rHP/6xNm3apDFjxkg63eMVGhrarN6Qq6++Wj/5yU900UUX6YcfftBbb72lp556Su+99562bNni6T07duyYevXqVe/93bp1U0REhI4dO9b8L+ssxhidOnVKxhgdPHhQc+bMUdeuXZWVldXifR47dkwbN27U8OHDJUn/+q//qvz8fP3nf/6n7r77bknS+++/ryFDhnj18qWlpdXbV2hoqEJDQ1vcFl9tk+Tz++zVq5eMMfr2228VExOjY8eOyW63q1u3bj5rz/zeGzpH7m3u2qY+/1zOJdAWCFBABxIVFaW//vWvKiws1DvvvKPCwkLl5+dr7ty5+sMf/qAdO3YoOjq6yf1s3bpVkydP1qRJk7Rw4ULP9jfffFOJiYkaOnSoTp065dmelpbm6W1yB6jHHntMjz32WLPa/cQTT3g9Hzt2rOLi4jRnzhz96U9/0u233+55rbFA1pyw1pDnn39ezz//vOd5eHi41q9fr6SkpBbv0+VyecKT26WXXqqPP/7Y83z48OHasGGDpk+frltvvVUpKSleQ2puZ37fram536eV7701as/lXAJtgSE8oANKTk7Wgw8+qLVr1+rw4cOaNWuWDh48qKeeeqrJ9+7evVu33XabrrnmGq1cudLrtSNHjujTTz9VeHi416N79+4yxujo0aOtdgzu4cMPP/zQsy0qKspnz8R3332nkydP+uzNaK677rpLO3bs0AcffKA//OEP6t69uyZMmKDPPvusxfuMioqqt81ut3sNTc6dO1dLlizRhx9+qDFjxigqKko33nijCgsLW/y5Vtrm6/s8fvy4bDabevTo4amtqqrS999/77P2zO+9oXN0/PhxSf/scWrq88/lXAJtgQAFdHDh4eGeYaimriv5+uuvNXr0aPXv31/r1q1TeHi41+vR0dEaMmSIduzY4fPx6KOPtnr7z7z4fciQIfqf//kflZWVedXs2rVLkpSYmNjiz+ndu7eSk5OVkpKi++67T6+//rq+++47zZo1y1PjcDgkSdXV1V7vPZfgGBYWpszMTO3cuVPHjx/Xyy+/rEOHDiktLc1nYGktgwYNUpcuXTzf3Zl27dql//W//pfneN3XPp1dW1ZWpqNHj3p970OGDGlwn9I/z5H7/zZUey7nEmgLBCigAyktLfW5fe/evZKk2NjYBt9bUVGhMWPGyGazaePGjT6HkW6++WYdOHBAUVFRSk5OrveIi4trleOQpJdeekmSNGLECM+2W2+9VTabzfOa2+rVq9WlSxefC2+21DXXXKO7775bGzZsUEFBgSR5ju/TTz/1qn3jjTda5TN79OihH//4x5oxY4aOHz9eb7ZfawoLC9O4ceP02muv6cSJE57tX331lbZs2aI77rjDs2306NFyOBxavXq11z7csxJvu+02z7bbb79df/vb37Rt2zbPtlOnTiknJ0dXXHGF599g3759NXz4cOXk5Ki2ttZT++GHH2rfvn1enw8EpHZcQgFAKxsyZIgZM2aMef755827775r3n77bbNkyRITExNjzjvvPPPpp596alNTU01qaqrn+dixY01ISIj54x//WG9By0OHDhljjPnHP/5hLrvsMnPBBReY3/zmN2bz5s3mz3/+s3nhhRfMnXfeaT788EPP/rKzs01oaGi9xRPP9pe//MWkpaWZFStWmLy8PPPGG2+YadOmmdDQUHPDDTfUW7/KvZDm008/bfLz8828efMsLaQpyeu43dvOXgfKGGO++uor43A4zI033miMMebUqVNm8ODBpn///uY///M/zVtvvWXuu+8+Ex8fbySZLVu2eN7b0NpWU6ZMMQMGDPA8v/nmm81DDz1k/vu//9ts3brV/Md//IeJi4szAwYMMCdPnvTUub+P5ti4caNZu3atefHFF40kc+edd5q1a9eatWvXmu+++85Tt3fvXnPeeeeZa6+91mzcuNG89tprJjExsdGFNOfNm2fy8/PN008/bex2u8+FNC+55BLTr18/s2bNGrN582Zz++23+1xIc8uWLSYsLMzcfvvtZvPmzWbNmjWmX79+LKSJoECAAjqQV1991UycONH8y7/8iznvvPNMeHi46d+/v5k8ebLZs2ePV+3ZAWrAgAFGks/HmQsx/uMf/zCPPPKIGTx4sImIiDBOp9MMGTLEzJo1y5SVlXnqsrKy6oUKXz777DMzduxY07dvX2O3243D4TBDhgwxCxcu9PkjevLkSZOVlWX69+9vIiIizIUXXmiWLl3arO/nxIkTRpKZMGGC1/aGApQxxvz7v/+7kWS2bt1qjDFm//79ZtSoUSYyMtL07t3b/OIXvzAbNmxocYD6zW9+Y6688koTHR1tIiIiTP/+/c0999xjDh48WK+NZwe/hjR2LktKSrxqCwsLzY033mi6du1qIiMjzW233WY+//xzn/v93e9+Zy688EJPO7OysrxCnltZWZm5++67Ta9evYzD4TAjRowwmzdv9rnPvLw8M2LECONwOEyvXr3M3XffbY4cOdKs4wTak82YMxZuAYAObOPGjbr55pv1ySef1FvTCACs4BooAJ3Gli1bNGHCBMITgHNGDxQAAIBF9EABAABYRIACAACwiAAFAABgEQEKAADAIm4m7Ad1dXU6fPiwunfvzg0xAQAIEsYYnThxQrGxsV63kWqoOKhUVVWZH/3oR0aSKSoq8nrtyy+/NDfffLPp2rWriYqKMr/4xS9MdXW1V82nn35qrr32WuNwOExsbKzJzs42dXV1XjX5+flm2LBhxm63m/j4eLN8+XJLbTx06FCDi9jx4MGDBw8ePAL74b77QmOCrgfqgQceUGxsrD755BOv7bW1tbrpppvUu3dvvffeezp27JimTJkiY4yWLVsmSaqsrNTIkSN1/fXXa8eOHdq/f7/S09PVrVs3zZ49W5JUUlKisWPHKiMjQzk5OXr//fc1ffp09e7dW+PHj29WG7t37y5JOnTokM/7iQEAgMBTWVmpfv36eX7HG2Wpa6Wdbdy40Vx00UVm9+7dRvLugdq4caMJCQkx33zzjWfbyy+/bOx2u6moqDDGGPP8888bp9PpdXuIxYsXm9jYWE8v1AMPPGAuuugir8/9+c9/bkaMGNHsdlZUVBhJns8FAACBz8rvd9BcRH7kyBFlZGTo//7f/6uuXbvWe72goECJiYled5tPS0tTdXW1PvroI09Namqq7Ha7V83hw4c9dz0vKCjQqFGjvPadlpamwsJC1dTU+GxbdXW1KisrvR4AAKDjCooAZYxRenq6pk6dquTkZJ81ZWVl6tOnj9e2nj17KiIiQmVlZQ3WuJ83VXPq1CkdPXrU52cvXrxYTqfT8+jXr5/1gwQAAEGjXQPU/PnzZbPZGn0UFhZq2bJlqqys1Ny5cxvdn68Zb8YYr+1n15j/fycbqzVnmjt3rioqKjyPQ4cONdpOAAAQ3Nr1IvKZM2dqwoQJjdbExcXpiSee0Icffug19CZJycnJ+ulPf6qXXnpJLpdL27Zt83r922+/VU1NjadHyeVyeXqa3MrLyyWpyZqwsDBFRUX5bKPdbq/XNgAA0HG1a4CKjo5WdHR0k3VLly7VE0884Xl++PBhpaWl6dVXX9UVV1whSUpJSdHChQtVWlqqmJgYSVJeXp7sdruSkpI8NfPmzdPJkycVERHhqYmNjVVcXJynJjc31+vz8/LylJycrPDw8HM+ZgAAEPyC4hqo/v37KzEx0fO48MILJUmDBg3SBRdcIEkaNWqUEhISNHnyZBUVFemdd97RnDlzlJGR4VlKYOLEibLb7UpPT1dxcbHWr1+vRYsWKTMz0zM8N3XqVH355ZfKzMzU3r179eKLL2rlypWaM2dO+xw8AAAIOEERoJojNDRUGzZskMPh0FVXXaW77rpLt912m5YsWeKpcTqd2rx5s77++mslJydr+vTpyszMVGZmpqcmPj5eGzduVH5+voYOHarHH39cS5cubfYaUAAAoOOzGfcV0mg1lZWVcjqdqqioYCFNAACChJXf7w7TAwUAANBWgu5WLgAA4NzV1hltLzmu8hNVOr+7Q8Pjeyk0xPdyPaiPAAUAQCezqbhU2bl7VFpR5dkW43Qoa1yCRifGtGPLggdDeAAAdCKbiks1LWenV3iSpLKKKk3L2alNxaXt1LLgQoACAKCTqK0zys7dI1+zx9zbsnP3qLaO+WVNIUABANBJbC85Xq/n6UxGUmlFlbaXHG+7RgUpAhQAAJ1E+YmGw1NL6jozAhQAAJ3E+d0drVrXmRGgAADoJIbH91KM06GGFiuw6fRsvOHxvdqyWUGJAAUAQCcRGmJT1rgESaoXotzPs8YlsB5UMxCgAADoREYnxmj5pGFyOb2H6VxOh5ZPGsY6UM3EQpoAAHQyoxNjNDLBxUrk54AABQBAJxQaYlPKoKj2bkbQYggPAADAIgIUAACARQQoAAAAiwhQAAAAFhGgAAAALCJAAQAAWESAAgAAsIh1oAAAQNCorTMBsQAoAQoAAASFTcWlys7do9KKKs+2GKdDWeMS2vwWNAzhAQCAgLepuFTTcnZ6hSdJKquo0rScndpUXNqm7SFAAQCAgFZbZ5Sdu0fGx2vubdm5e1Rb56vCPwhQAAAgoG0vOV6v5+lMRlJpRZW2lxxvszYRoAAAQEArP9FweGpJXWsgQAEAgIB2fndHq9a1BgIUAAAIaMPjeynG6VBDixXYdHo23vD4Xm3WJgIUAAAIaKEhNmWNS5CkeiHK/TxrXEKbrgdFgAIAAAFvdGKMlk8aJpfTe5jO5XRo+aRhbb4OFAtpAgCAoDA6MUYjE1ysRA4AAGBFaIhNKYOi2rsZDOEBAABYRYACAACwiAAFAABgEddAAQA6tNo6ExAXHaNjIUABADqsTcWlys7d43UftRinQ1njEtp82js6FobwAAAd0qbiUk3L2VnvJrRlFVWalrNTm4pL26ll6AgIUACADqe2zig7d4+Mj9fc27Jz96i2zlcF0DQCFACgw9lecrxez9OZjKTSiiptLznedo3ys9o6o4IDx/Snj79RwYFjhEM/4xooAECHU36i4fDUkrpAx7VebY8eKABAh3N+d0fTRRbqGhIIvT5tca1XIBxnoKEHCgDQ4QyP76UYp0NlFVU+r4Oy6fRNaIfH92rxZwRCr09T13rZdPpar5EJrhYv3RAIxxmI6IECAHQ4oSE2ZY1LkHQ6RJzJ/TxrXMI5hYpAmOHn72u9AuU4AxEBCgDQIY1OjNHyScPkcnoP07mcDi2fNKzFvSeBNMPPn9d6BdJxBiKG8AAAHdboxBiNTHC16krkVnp9UgZFtfhzmsOf13oF0nEGoqDrgaqurtbQoUNls9n08ccfe71ms9nqPVasWOFVs2vXLqWmpqpLly7q27evFixYIGO80/PWrVuVlJQkh8OhgQMH1tsHACB4hIbYlDIoSrcO7auUQVHnfBuXQJrh577Wq6Ejsun09UotudYrkI4zEAVdgHrggQcUGxvb4OurVq1SaWmp5zFlyhTPa5WVlRo5cqRiY2O1Y8cOLVu2TEuWLNEzzzzjqSkpKdHYsWN1zTXXqKioSPPmzdP999+vdevW+fW4AADBoa1m+DWHP6/1Opfj7Ayz9oJqCO+tt95SXl6e1q1bp7feestnTY8ePeRyuXy+tmbNGlVVVWn16tWy2+1KTEzU/v379cwzzygzM9PTY9W/f389++yzkqSLL75YhYWFWrJkicaPH++vQwMABIm2mOEnNf8myO5rvc6eKec6x5lyLT3OzjJrz2bOHr8KUEeOHFFSUpJef/11RUdHKz4+XkVFRRo6dKinxmazqW/fvqqqqlJ8fLzuuece3XfffQoJOd3Rdvfdd6uiokJ/+tOfPO8pKirSsGHD9MUXXyg+Pl7XXnutLrvsMv3ud7/z1Kxfv1533XWXvv/+e4WHh9drW3V1taqrqz3PKysr1a9fP1VUVCgyMtIP3wYAoD25Z6dJ8goX7nhzLhepu/dvNYQ0N3BZbYeV43TXnx0sWut78bfKyko5nc5m/X4HxRCeMUbp6emaOnWqkpOTG6x7/PHHtXbtWr399tuaMGGCZs+erUWLFnleLysrU58+fbze435eVlbWaM2pU6d09OhRn5+7ePFiOZ1Oz6Nfv34tOk4AQHDw1ww/qeVLB7T2tV6StePsbLP22nUIb/78+crOzm60ZseOHfrggw9UWVmpuXPnNlr7yCOPeP7b3TO1YMECr+02m/c/KHcH3Jnbm1Nzprlz5yozM9Pz3N0DBQDouFoyw6+pXqK2WBjTquYeZ2ebtdeuAWrmzJmaMGFCozVxcXF64okn9OGHH8put3u9lpycrJ/+9Kd66aWXfL53xIgRqqys1JEjR9SnTx+5XC5PT5NbeXm5pH/2RDVUExYWpqgo3yfcbrfXaxsAoONz9/o0R3OG5QI1hDTnODvbrL12DVDR0dGKjo5usm7p0qV64oknPM8PHz6stLQ0vfrqq7riiisafF9RUZEcDod69OghSUpJSdG8efN08uRJRURESJLy8vIUGxuruLg4T01ubq7XfvLy8pScnOzz+icACCT+uA4G566ha4Pcw3Lu4bBgDiGBNDuxLQTFLLz+/ft7PT/vvPMkSYMGDdIFF1wgScrNzVVZWZlSUlLUpUsXbdmyRQ8//LDuu+8+T+/QxIkTlZ2drfT0dM2bN0+fffaZFi1apMcee8wzPDd16lT9/ve/V2ZmpjIyMlRQUKCVK1fq5ZdfbsMjBgDrOsvsJ39r7RBqZVgumENIW81ODBRBEaCaIzw8XM8//7wyMzNVV1engQMHasGCBZoxY4anxul0avPmzZoxY4aSk5PVs2dPZWZmel2/FB8fr40bN2rWrFl67rnnFBsbq6VLl7KEAYCA1tweDjTOHyHUyrBcMIcQ95pU03J2yibfs/bO5f6DgSZoljEIJlamQQLAuaqtM7r61+82+CPt/tF978EbOsyPlz/4awr+nz7+Rr985eMm6343YahuHdrX70sk+Fsw94Ra+f3uMD1QANBZBeqFx8HEn7PfrA7L+WthzLbij/sPBiICFAAEuWC+8DhQ+DOEtmRYLthDiJXZicGKAAUAQS6YLzwOFP4MoS29NqgzhJBgFhQrkQMAGubu4Wiob8Km09egBOKFx4HC3yHUnyuXo33QAwUAQa6zzX7yh7aY/Rbsw3LwRg8UAHQA9HCcG3cIlVSvJ681Q6g/7leH9sEyBn7AMgYA2gsrkZ+bYJ6Cj3Nn5febAOUHBCgAjSHkBDbOT+fFOlAAEKDo4Wgd/gw5zH5DcxCgAKCNcLuV1kEIRSDgInIAaANNrXQtnV7puraOqyoa4w6hZy966Q6hm4pL26ll6GwIUADQBqysdA3fCKEdU22dUcGBY/rTx9+o4MCxoDl/DOEBQBvgdivnjnv+dTzBPBxLDxQAtAFut3LuCKEdS7APxxKgAKANcLuVxjVnGIcQ2nF0hOFYhvAAoA1wu5WGNXcYpy1ut4K20RGGY+mBAoA2wu1W6rMyjNNWt1uB/3WE4Vh6oACgDXFD2X9qahjHptPDOCMTXJ7vxx1Cz+6xcgXJhcc4rSMMxxKgAKCNWVnpuiPfVqSlwziE0ODXEYZjCVAAEKCCeYp3c5zLMA63WwluHeGaQK6BAoAAFOxTvKWmZ9Z1hGEctFywXxNIDxQABJiWXBvUVu1q7rBZc3rPOsIwDs5NMA/HEqAAIMAE4hRvK8OJzb1pckcYxsG5C9bhWIbwACDABNoUbyvDiVYXSAz2YRx0XvRAAUCACaRrg6wOJ7ak9yyYh3HQeRGgAASljjy9P5CuDbIaiFraexaswzjovAhQAIJOR5/eH0jXBlkNRIHUewb4E9dAAQgqgTi9vzk3wrUqUK4NshqIuGkyOgt6oAAEjUCc3u/P3rBAuDbI6nBiIPWeAf5EDxSAoGHlepy20Ba9Ye5rg24d2lcpg6LaPHi05Aa+gdJ7BvgTPVAAgkYgTe8PxN4wf2nJDXwDofcM8CcCFICgEUgXKAfiYpdWWZnJ2JJAxMw6dGQEKABBI5Cm9wdSb1hLtOTaLQIR8E9cAwUgaLTkehx/CaTeMKsCcSYjEGwIUACCSqBcoBys0/Wt3moFgG8M4QEIOoFwgXKwTtfvCNduAYGAAAUgKAXC9TgtmZ3W3oL92i0gUBCgAOAcBEJvmBXBfO0WEEgIUABwjgKhN6y5AmkmIxDMuIgcADqRQJrJCAQzAhQAdDKBMpMRCGYM4QFAJxRs124BgYYABQCdVDBduwUEGobwAAAALCJAAQAAWESAAgAAsIgABQAAYFHQBKi4uDjZbDavx0MPPeRV89VXX2ncuHHq1q2boqOjdf/99+vkyZNeNbt27VJqaqq6dOmivn37asGCBTLGezm5rVu3KikpSQ6HQwMHDtSKFSv8fnwAACB4BNUsvAULFigjI8Pz/LzzzvP8d21trW666Sb17t1b7733no4dO6YpU6bIGKNly5ZJkiorKzVy5Ehdf/312rFjh/bv36/09HR169ZNs2fPliSVlJRo7NixysjIUE5Ojt5//31Nnz5dvXv31vjx49v2gAEAQEAKqgDVvXt3uVwun6/l5eVpz549OnTokGJjYyVJv/nNb5Senq6FCxcqMjJSa9asUVVVlVavXi273a7ExETt379fzzzzjDIzM2Wz2bRixQr1799fzz77rCTp4osvVmFhoZYsWUKAAiyqrTOW1hmyWg8A7SWoAtSvf/1rPf744+rXr5/uvPNO/fu//7siIiIkSQUFBUpMTPSEJ0lKS0tTdXW1PvroI11//fUqKChQamqq7Ha7V83cuXN18OBBxcfHq6CgQKNGjfL63LS0NK1cuVI1NTUKDw+v167q6mpVV1d7nldWVrb2oQNBZ1NxqbJz96i0osqzLcbpUNa4BJ8rXVutB4D2FDTXQP3yl7/UK6+8oi1btmjmzJl69tlnNX36dM/rZWVl6tOnj9d7evbsqYiICJWVlTVY437eVM2pU6d09OhRn21bvHixnE6n59GvX79zO1ggyG0qLtW0nJ1eYUiSyiqqNC1npzYVl55TPQC0t3YNUPPnz693YfjZj8LCQknSrFmzlJqaqksvvVT33nuvVqxYoZUrV+rYsWOe/dls9bv6jTFe28+ucV9AbrXmTHPnzlVFRYXncejQIStfA9Ch1NYZZefukfHxmntbdu4e1daZFtUDQCBo1yG8mTNnasKECY3WxMXF+dw+YsQISdLnn3+uqKgouVwubdu2zavm22+/VU1NjadHyeVyeXqa3MrLyyWpyZqwsDBFRfm+5YHdbvcaFgQ6s+0lx+v1JJ3JSCqtqNL2kuNKGRRluR4AAkG7Bqjo6GhFR0e36L1FRUWSpJiY09dGpKSkaOHChSotLfVsy8vLk91uV1JSkqdm3rx5OnnypOfaqby8PMXGxnqCWkpKinJzc70+Ky8vT8nJyT6vfwLgrfxEw2HIV53VegAIBEFxDVRBQYF++9vf6uOPP1ZJSYn+67/+Sz//+c91yy23qH///pKkUaNGKSEhQZMnT1ZRUZHeeecdzZkzRxkZGYqMjJQkTZw4UXa7Xenp6SouLtb69eu1aNEizww8SZo6daq+/PJLZWZmau/evXrxxRe1cuVKzZkzp92OHwgm53d3WKqzWg8AgSAoApTdbterr76q6667TgkJCXrssceUkZGhl19+2VMTGhqqDRs2yOFw6KqrrtJdd92l2267TUuWLPHUOJ1Obd68WV9//bWSk5M1ffp0ZWZmKjMz01MTHx+vjRs3Kj8/X0OHDtXjjz+upUuXsoQB0EzD43spxulQQ4sP2HR6dt3w+F4tqgeAQGAzZy/DjXNWWVkpp9OpiooKT+8X0Jm4Z9VJ8ro43B2Slk8a5rU0gdV6APAHK7/fQdEDBSC4jE6M0fJJw+Ryeg+7uZwOn2HIan1L1NYZFRw4pj99/I0KDhxjVh+Ac0IPlB/QAwWcFigrkbNIJ4DmsPL7TYDyAwIUEDjcw4Nn/z86hgcBnI0hPAAQi3QC8B8CFIAOy8oinQBgBQEKQIfFIp0A/KVdVyIHAH86l0U6/XVBO4COgQAFoMNyL9JZVlHl8zoom04vlXD2Ip3M2gPQFIbwAHRYoSE2ZY1LkKR6K527n2eNS/DqWXLP2jv72qmyiipNy9mpTcWlfmwxgGBBgALQoVlZpJNZewCaiyE8AB3e6MQYjUxwNXlNk5VZeymDovzcagCBjAAFoFMIDbE1GXqYtQeguRjCA4D/71xm7QHoXOiBAmBJR57e39JZewA6HwIUgGbr6NP73bP2puXslE3yClENzdoD0DkxhAd0QLV1RgUHjulPH3+jggPHWmXWWGeZ3m9l1h6AzoseKKCD8UcvUVPT+206Pb1/ZIKrQ/TONHfWHoDOix4ooAPxVy9RZ7wpr3vW3q1D+yplUBThCYAXAhTQQfhzEUim9wOANwIU0EH4s5eI6f0A4I0ABXQQ/uwlck/vb2gQy6bT11kxvR9AZ0GAAjoIf/YSteSmvADQkRGggA7C371ETO8HgH9iGQOgg2iLRSCZ3g8Ap9mMMee+wh68VFZWyul0qqKiQpGRke3dHHQAVm6f0tFXCwcAf7Hy+00PFBDgrAYieokAwP/ogfIDeqDQWtwLY579R+qOQlx7BACtx8rvNxeRA+2kqfvV+XNhTADAuWEID2gHzRmWs7IwZsqgKH83GQBwBnqggDbW3PvVcfsUAAhcBCigDVkZluP2KQAQuAhQQBuyMizH7VMAIHARoIA2ZGVYjtunAEDgIkABbcjqsBy3TwGAwMQsPKANuYflyiqqfF4HZdPpcHTmsBwLYwJA4CFAAW2opferCw2xsVQBAAQQhvCANsawHAAEP3qggHbAsBwABDcCFNBOGJYDgODFEB4AAIBFBCgAAACLCFAAAAAWEaAAAAAsIkABAABYRIACAACwiAAFAABgUdAEqLi4ONlsNq/HQw895FVz9us2m00rVqzwqtm1a5dSU1PVpUsX9e3bVwsWLJAx3ncl27p1q5KSkuRwODRw4MB6+wA6kto6o4IDx/Snj79RwYFjqq3zdZc+AMCZgmohzQULFigjI8Pz/LzzzqtXs2rVKo0ePdrz3Ol0ev67srJSI0eO1PXXX68dO3Zo//79Sk9PV7du3TR79mxJUklJicaOHauMjAzl5OTo/fff1/Tp09W7d2+NHz/ej0eHQFNbZzr8SuGbikuVnbtHpRVVnm0xToeyxiVwSxkAaERQBaju3bvL5XI1WtOjR48Ga9asWaOqqiqtXr1adrtdiYmJ2r9/v5555hllZmZ6eqz69++vZ599VpJ08cUXq7CwUEuWLCFAdSKdIVhsKi7VtJydOru/qayiStNydnJfPgBoRNAM4UnSr3/9a0VFRWno0KFauHChTp48Wa9m5syZio6O1uWXX64VK1aorq7O81pBQYFSU1Nlt9s929LS0nT48GEdPHjQUzNq1CivfaalpamwsFA1NTU+21VdXa3KykqvB4KXO1icGZ6kfwaLTcWl7dSy1lNbZ5Sdu6deeJLk2Zadu4fhPABoQNAEqF/+8pd65ZVXtGXLFs2cOVPPPvuspk+f7lXz+OOPa+3atXr77bc1YcIEzZ49W4sWLfK8XlZWpj59+ni9x/28rKys0ZpTp07p6NGjPtu2ePFiOZ1Oz6Nfv37nfLxoH50lWGwvOV4vIJ7JSCqtqNL2kuNt1ygACCLtOoQ3f/58ZWdnN1qzY8cOJScna9asWZ5tl156qXr27Kkf//jHnl4pSXrkkUc8NUOHDpV0+rqpM7fbbN7XsLgvID9ze3NqzjR37lxlZmZ6nldWVhKigpSVYBHMNwIuP9HwMbakDgA6m3YNUDNnztSECRMarYmLi/O5fcSIEZKkzz//3BOgfNVUVlbqyJEj6tOnj1wul6enya28vFzSP3uiGqoJCwtr8HPsdrvXsCCCV2cJFud3d7RqHQB0Nu0aoKKjoxUdHd2i9xYVFUmSYmIavsi1qKhIDodDPXr0kCSlpKRo3rx5OnnypCIiIiRJeXl5io2N9QS1lJQU5ebmeu0nLy9PycnJCg8Pb1FbETw6S7AYHt9LMU6HyiqqfA5X2iS5nKdnHgIA6guKa6AKCgr029/+Vh9//LFKSkr0X//1X/r5z3+uW265Rf3795ck5ebm6oUXXlBxcbEOHDigP/7xj3r44Yd13333eXqHJk6cKLvdrvT0dBUXF2v9+vVatGiRZwaeJE2dOlVffvmlMjMztXfvXr344otauXKl5syZ027Hj7bjDhYNLVZg0+nZeMEeLEJDbMoalyBJ9Y7V/TxrXEKHW7YBAFqLzZy9imQA2rlzp6ZPn66//e1vqq6u1oABAzRhwgQ98MAD6tq1qyRp06ZNmjt3rj7//HPV1dVp4MCBuvfeezVjxgyFhf2zo23Xrl2aMWOGtm/frp49e2rq1Kl67LHHvK5v2rp1q2bNmqXdu3crNjZWDz74oKZOndrs9lZWVsrpdKqiokKRkZGt90WgTbhn4Uny6p1x/wtpaHp/MK4b1RmWawCA5rLy+x0UASrYEKCCn9VgEcxBJBiDHwD4g98CVEhIiM+ZaJGRkRo8eLAeeOAB3XHHHdZb3MEQoDqG5gaLhhakbKrHCgAQWKz8flu6iHz9+vU+t//973/X9u3bNWnSJL300ku68847rewWCEihIbYmlypoat0om06vGzUywUWvDgB0IJYC1K233trga1OmTFFCQoKWLFlCgEKn0VnWjQIAeGvVWXijRo3S/v37W3OXQEDrLOtGAQC8teo6UD/88IMcjuBeHwcdW2tfMN1Z1o0CAHhr1QD1wgsv6LLLLmvNXQKtxh8z5ViQEgA6J0sB6sz7vZ2poqJChYWFOnDggP7617+2SsOA1tTQTLmyiipNy9nZ4ply7gUpp+XslE2+141iQUoA6HgsBSj37VPOFhkZqdGjR2v69OkaMGBAqzQMaC3+nik3OjFGyycNq9e75QqSdaAAANZZClBbtmzxVzsAv2mLmXKjE2M0MsHFgpQA0Em0682EgbbQVjPlmrNuFACgYwiKmwkD54KZcgCA1kaAQofnninX0GCaTadn4zFTDgDQXAQodHjumXKS6oUoZsoBAFqCAIVOwT1TzuX0HqZzOR3c7BcAYBkXkaPTYKYcAKC1EKDQqTBTDgDQGhjCAwAAsIgABQAAYBEBCgAAwCICFAAAgEUEKAAAAIsIUAAAABYRoAAAACwiQAEAAFhEgAIAALCIAAUAAGARAQoAAMAiAhQAAIBFBCgAAACLCFAAAAAWEaAAAAAsIkABAABYRIACAACwiAAFAABgEQEKAADAIgIUAACARQQoAAAAi8LauwHo+GrrjLaXHFf5iSqd392h4fG9FBpiC/h9AwDQEAIU/GpTcamyc/eotKLKsy3G6VDWuASNTowJ2H0DANAYhvDgN5uKSzUtZ6dXwJGksooqTcvZqU3FpQG5bwAAmkKAgl/U1hll5+6R8fGae1t27h7V1vmqaL99AwDQHAQo+MX2kuP1eofOZCSVVlRpe8nxgNo3AADNQYCCX5SfaDjgtKSurfYNAEBzEKDgF+d3d7RqXVvtGwCA5iBAwS+Gx/dSjNOhhhYUsOn0jLnh8b0Cat8AADQHAQp+ERpiU9a4BEmqF3Tcz7PGJbRozSZ/7hsAgOYgQMFvRifGaPmkYXI5vYfSXE6Hlk8adk5rNflz3wAANCWoAtSGDRt0xRVXqEuXLoqOjtYdd9zh9fpXX32lcePGqVu3boqOjtb999+vkydPetXs2rVLqamp6tKli/r27asFCxbIGO/p7lu3blVSUpIcDocGDhyoFStW+P3YOqrRiTF678Eb9HLGCP1uwlC9nDFC7z14Q6sEHH/uGwCAxgTNSuTr1q1TRkaGFi1apBtuuEHGGO3atcvzem1trW666Sb17t1b7733no4dO6YpU6bIGKNly5ZJkiorKzVy5Ehdf/312rFjh/bv36/09HR169ZNs2fPliSVlJRo7NixysjIUE5Ojt5//31Nnz5dvXv31vjx49vl2INdaIhNKYOigm7fAAA0xGbO7n4JQKdOnVJcXJyys7N1zz33+Kx56623dPPNN+vQoUOKjY2VJL3yyitKT09XeXm5IiMjtXz5cs2dO1dHjhyR3W6XJD355JNatmyZvv76a9lsNj344IN64403tHfvXs++p06dqk8++UQFBQXNam9lZaWcTqcqKioUGRl5jkcPAADagpXf76AYwtu5c6e++eYbhYSE6LLLLlNMTIzGjBmj3bt3e2oKCgqUmJjoCU+SlJaWpurqan300UeemtTUVE94ctccPnxYBw8e9NSMGjXK6/PT0tJUWFiompoan+2rrq5WZWWl1wMAAHRcQRGgvvjiC0nS/Pnz9cgjj+jNN99Uz549lZqaquPHT682XVZWpj59+ni9r2fPnoqIiFBZWVmDNe7nTdWcOnVKR48e9dm+xYsXy+l0eh79+vU7xyMGAACBrF0D1Pz582Wz2Rp9FBYWqq6uTpL08MMPa/z48UpKStKqVatks9m0du1az/5stvrT1o0xXtvPrnGPYFqtOdPcuXNVUVHheRw6dMjK1wAAAIJMu15EPnPmTE2YMKHRmri4OJ04cUKSlJCQ4Nlut9s1cOBAffXVV5Ikl8ulbdu2eb3322+/VU1NjadHyeVyeXqa3MrLyyWpyZqwsDBFRfm+WNlut3sNCwIAgI6tXQNUdHS0oqOjm6xLSkqS3W7Xvn37dPXVV0uSampqdPDgQQ0YMECSlJKSooULF6q0tFQxMaensefl5clutyspKclTM2/ePJ08eVIRERGemtjYWMXFxXlqcnNzvT4/Ly9PycnJCg8Pb5XjBgAAwS0oroGKjIzU1KlTlZWVpby8PO3bt0/Tpk2TJN15552SpFGjRikhIUGTJ09WUVGR3nnnHc2ZM0cZGRmeK+knTpwou92u9PR0FRcXa/369Vq0aJEyMzM9w3NTp07Vl19+qczMTO3du1cvvviiVq5cqTlz5rTPwQMAgIATNOtAPf300woLC9PkyZP1ww8/6IorrtC7776rnj17SpJCQ0O1YcMGTZ8+XVdddZW6dOmiiRMnasmSJZ59OJ1Obd68WTNmzFBycrJ69uypzMxMZWZmemri4+O1ceNGzZo1S88995xiY2O1dOlS1oBqQ7V1RttLjqv8RJXO7376nnbclgUAEEiCYh2oYMM6UC23qbhU2bl7VFpR5dkW43Qoa1wCK4wDAPyqw60Dhc5hU3GppuXs9ApPklRWUaVpOTu1qbi0nVoGAIA3AhQCQm2dUXbuHvnqDnVvy87do9o6OkwBAO2PAIWAsL3keL2epzMZSaUVVdpecrztGgUAQAMIUAgI5ScaDk8tqQMAwJ8IUAgI53d3tGodAAD+RIBCQBge30sxTocaWqzAptOz8YbH92rLZgEA4BMBCgEhNMSmrHGnb9VzdohyP88al8B6UACAgECAQsAYnRij5ZOGyeX0HqZzOR1aPmkY60ABAAJG0KxEjs5hdGKMRia4WIkcABDQCFAIOKEhNqUMimrvZgAA0CCG8AAAACwiQAEAAFhEgAIAALCIAAUAAGARAQoAAMAiAhQAAIBFBCgAAACLCFAAAAAWEaAAAAAsIkABAABYRIACAACwiAAFAABgETcTRovU1hltLzmu8hNVOr+7Q8Pjeyk0xNbezQIAoE0QoGDZpuJSZefuUWlFlWdbjNOhrHEJGp0Y044tAwCgbTCEB0s2FZdqWs5Or/AkSWUVVZqWs1ObikvbqWUAALQdAhSarbbOKDt3j4yP19zbsnP3qLbOVwUAAB0HAQrNtr3keL2epzMZSaUVVdpecrztGgUAQDsgQKHZyk80HJ5aUgcAQLAiQKHZzu/uaNU6AACCFQEKzTY8vpdinA41tFiBTadn4w2P79WWzQIAoM0RoNBsoSE2ZY1LkKR6Icr9PGtcAutBAQA6PAIULBmdGKPlk4bJ5fQepnM5HVo+aRjrQAEAOgUW0oRloxNjNDLBxUrkAIBOiwCFFgkNsSllUFR7NwMAgHbBEB4AAIBFBCgAAACLCFAAAAAWEaAAAAAsIkABAABYRIACAACwiAAFAABgEQEKAADAIgIUAACARQQoAAAAiwhQAAAAFhGgAAAALAqqALVhwwZdccUV6tKli6Kjo3XHHXd4vW6z2eo9VqxY4VWza9cupaamqkuXLurbt68WLFggY4xXzdatW5WUlCSHw6GBAwfW2wcAAOjcwtq7Ac21bt06ZWRkaNGiRbrhhhtkjNGuXbvq1a1atUqjR4/2PHc6nZ7/rqys1MiRI3X99ddrx44d2r9/v9LT09WtWzfNnj1bklRSUqKxY8cqIyNDOTk5ev/99zV9+nT17t1b48eP9/+BAgCAgBcUAerUqVP65S9/qaefflr33HOPZ/vgwYPr1fbo0UMul8vnftasWaOqqiqtXr1adrtdiYmJ2r9/v5555hllZmZ6eqz69++vZ599VpJ08cUXq7CwUEuWLCFAAQAASUEyhLdz50598803CgkJ0WWXXaaYmBiNGTNGu3fvrlc7c+ZMRUdH6/LLL9eKFStUV1fnea2goECpqamy2+2ebWlpaTp8+LAOHjzoqRk1apTXPtPS0lRYWKiamhqf7auurlZlZaXXAwAAdFxBEaC++OILSdL8+fP1yCOP6M0331TPnj2Vmpqq48ePe+oef/xxrV27Vm+//bYmTJig2bNna9GiRZ7Xy8rK1KdPH699u5+XlZU1WnPq1CkdPXrUZ/sWL14sp9PpefTr1+/cDxoAAASsdg1Q8+fP93nh95mPwsJCTy/Sww8/rPHjxyspKUmrVq2SzWbT2rVrPft75JFHlJKSoqFDh2r27NlasGCBnn76aa/PtNlsXs/dF5Cfub05NWeaO3euKioqPI9Dhw618BsBAADBoF2vgZo5c6YmTJjQaE1cXJxOnDghSUpISPBst9vtGjhwoL766qsG3ztixAhVVlbqyJEj6tOnj1wul6enya28vFzSP3uiGqoJCwtTVFSUz8+x2+1ew4IAAKBja9cAFR0drejo6CbrkpKSZLfbtW/fPl199dWSpJqaGh08eFADBgxo8H1FRUVyOBzq0aOHJCklJUXz5s3TyZMnFRERIUnKy8tTbGys4uLiPDW5uble+8nLy1NycrLCw8NbcJQAAKCjCYproCIjIzV16lRlZWUpLy9P+/bt07Rp0yRJd955pyQpNzdXL7zwgoqLi3XgwAH98Y9/1MMPP6z77rvP0zs0ceJE2e12paenq7i4WOvXr9eiRYs8M/AkaerUqfryyy+VmZmpvXv36sUXX9TKlSs1Z86c9jl4AAAQcIJiGQNJevrppxUWFqbJkyfrhx9+0BVXXKF3331XPXv2lCSFh4fr+eefV2Zmpurq6jRw4EAtWLBAM2bM8OzD6XRq8+bNmjFjhpKTk9WzZ09lZmYqMzPTUxMfH6+NGzdq1qxZeu655xQbG6ulS5eyhAEAAPCwmbOX4cY5q6yslNPpVEVFhSIjI9u7OQAAoBms/H4HxRAeAABAIAmaITz4V22d0faS4yo/UaXzuzs0PL6XQkN8L9sAAEBnR4CCNhWXKjt3j0orqjzbYpwOZY1L0OjEmHZsGQAAgYkhvE5uU3GppuXs9ApPklRWUaVpOTu1qbi0nVoGAEDgIkB1YrV1Rtm5e+RrFoF7W3buHtXWMc8AAIAzEaA6se0lx+v1PJ3JSCqtqNL2kuMN1gAA0BkRoDqx8hMNh6eW1AEA0FkQoDqx87s7WrUOAIDOggDViQ2P76UYp0MNLVZg0+nZeMPje7VlswAACHgEqE4sNMSmrHEJklQvRLmfZ41LYD0oAADOQoDq5EYnxmj5pGFyOb2H6VxOh5ZPGsY6UAAA+MBCmtDoxBiNTHCxEjkAAM1EgIKk08N5KYOi2rsZAAAEBYbwAAAALCJAAQAAWESAAgAAsIgABQAAYBEBCgAAwCICFAAAgEUEKAAAAIsIUAAAABYRoAAAACwiQAEAAFhEgAIAALCIAAUAAGARAQoAAMAiAhQAAIBFBCgAAACLCFAAAAAWhbV3A9B8tXVG20uOq/xElc7v7tDw+F4KDbG1d7MAAOh0CFBBYlNxqbJz96i0osqzLcbpUNa4BI1OjGnHlgEA0PkwhBcENhWXalrOTq/wJEllFVWalrNTm4pL26llAAB0TgSoAFdbZ5Sdu0fGx2vubdm5e1Rb56sCAAD4AwEqwG0vOV6v5+lMRlJpRZW2lxxvu0YBANDJEaACXPmJhsNTS+oAAMC5I0AFuPO7O1q1DgAAnDsCVIAbHt9LMU6HGlqswKbTs/GGx/dqy2YBANCpEaACXGiITVnjEiSpXohyP88al8B6UAAAtCECVBAYnRij5ZOGyeX0HqZzOR1aPmkY60ABANDGWEgzSIxOjNHIBBcrkQMAEAAIUEEkNMSmlEFR7d0MAAA6PYbwAAAALCJAAQAAWESAAgAAsIgABQAAYBEBCgAAwCICFAAAgEVBEaDy8/Nls9l8Pnbs2OGp++qrrzRu3Dh169ZN0dHRuv/++3Xy5Emvfe3atUupqanq0qWL+vbtqwULFsgY41WzdetWJSUlyeFwaODAgVqxYkWbHCcAAAgOQbEO1JVXXqnS0lKvbY8++qjefvttJScnS5Jqa2t10003qXfv3nrvvfd07NgxTZkyRcYYLVu2TJJUWVmpkSNH6vrrr9eOHTu0f/9+paenq1u3bpo9e7YkqaSkRGPHjlVGRoZycnL0/vvva/r06erdu7fGjx/ftgcOAAACks2c3f0SBGpqanTBBRdo5syZevTRRyVJb731lm6++WYdOnRIsbGxkqRXXnlF6enpKi8vV2RkpJYvX665c+fqyJEjstvtkqQnn3xSy5Yt09dffy2bzaYHH3xQb7zxhvbu3ev5vKlTp+qTTz5RQUFBs9pXWVkpp9OpiooKRUZGtvLRAwAAf7Dy+x0UQ3hne+ONN3T06FGlp6d7thUUFCgxMdETniQpLS1N1dXV+uijjzw1qampnvDkrjl8+LAOHjzoqRk1apTX56WlpamwsFA1NTU+21NdXa3KykqvRyCorTMqOHBMf/r4GxUcOKbauqDLygAABKSgGMI728qVK5WWlqZ+/fp5tpWVlalPnz5edT179lRERITKyso8NXFxcV417veUlZUpPj7e53769OmjU6dO6ejRo4qJqX/j3sWLFys7O7s1Dq3VbCouVXbuHpVWVHm2xTgdyhqXwM2HAQA4R+3aAzV//vwGLw53PwoLC73e8/XXX+vPf/6z7rnnnnr7s9nq31jXGOO1/ewa9wim1ZozzZ07VxUVFZ7HoUOHGjtsv9tUXKppOTu9wpMklVVUaVrOTm0qLm3gnQAAoDnatQdq5syZmjBhQqM1Z/cYrVq1SlFRUbrlllu8trtcLm3bts1r27fffquamhpPj5LL5fL0RrmVl5dLUpM1YWFhioryfSNfu93uNSzYnmrrjLJz98jXYJ2RZJOUnbtHIxNcCg3xHQgBAEDj2jVARUdHKzo6utn1xhitWrVKd999t8LDw71eS0lJ0cKFC1VaWuoZZsvLy5PdbldSUpKnZt68eTp58qQiIiI8NbGxsZ6glpKSotzcXK995+XlKTk5ud5nBqLtJcfr9TydyUgqrajS9pLjShnkOxACAIDGBdVF5O+++65KSkp8Dt+NGjVKCQkJmjx5soqKivTOO+9ozpw5ysjI8FxJP3HiRNntdqWnp6u4uFjr16/XokWLlJmZ6Rmemzp1qr788ktlZmZq7969evHFF7Vy5UrNmTOnTY+1pcpPNByeWlIHAADqC6oAtXLlSl155ZW6+OKL670WGhqqDRs2yOFw6KqrrtJdd92l2267TUuWLPHUOJ1Obd68WV9//bWSk5M1ffp0ZWZmKjMz01MTHx+vjRs3Kj8/X0OHDtXjjz+upUuXBs0aUOd3d7RqHQAAqC8o14EKdO25DlRtndHVv35XZRVVPq+DsklyOR1678EbuAYKAIAzdPh1oNCw0BCbssYlSDodls7kfp41LoHwBADAOSBAdUCjE2O0fNIwuZzew3Qup0PLJw1jHSgAAM5RUC6kiaaNTozRyASXtpccV/mJKp3f3aHh8b3oeQIAoBUQoDqw0BAbSxUAAOAHDOEBAABYRIACAACwiAAFAABgEQEKAADAIgIUAACARQQoAAAAiwhQAAAAFhGgAAAALCJAAQAAWMRK5H5gjJF0+q7OAAAgOLh/t92/440hQPnBiRMnJEn9+vVr55YAAACrTpw4IafT2WiNzTQnZsGSuro6HT58WN27d5fN1vjNeysrK9WvXz8dOnRIkZGRbdTCtsdxdiwcZ8fRGY5R4jg7Gn8dpzFGJ06cUGxsrEJCGr/KiR4oPwgJCdEFF1xg6T2RkZEd+h+7G8fZsXCcHUdnOEaJ4+xo/HGcTfU8uXEROQAAgEUEKAAAAIsIUO3MbrcrKytLdru9vZviVxxnx8Jxdhyd4RgljrOjCYTj5CJyAAAAi+iBAgAAsIgABQAAYBEBCgAAwCICFAAAgEUEqDbw/PPPKz4+Xg6HQ0lJSfrrX//aaP3WrVuVlJQkh8OhgQMHasWKFW3U0pZZvHixLr/8cnXv3l3nn3++brvtNu3bt6/R9+Tn58tms9V7/O1vf2ujVls3f/78eu11uVyNvifYzqUkxcXF+Tw3M2bM8FkfLOfyL3/5i8aNG6fY2FjZbDa9/vrrXq8bYzR//nzFxsaqS5cuuu6667R79+4m97tu3TolJCTIbrcrISFB69ev99MRNK2xY6ypqdGDDz6oIUOGqFu3boqNjdXdd9+tw4cPN7rP1atX+zy/VVVVfj6ahjV1LtPT0+u1d8SIEU3uN5DOpdT0cfo6LzabTU8//XSD+wy089mc349A/dskQPnZq6++ql/96ld6+OGHVVRUpGuuuUZjxozRV1995bO+pKREY8eO1TXXXKOioiLNmzdP999/v9atW9fGLW++rVu3asaMGfrwww+1efNmnTp1SqNGjdJ3333X5Hv37dun0tJSz+Nf/uVf2qDFLXfJJZd4tXfXrl0N1gbjuZSkHTt2eB3j5s2bJUl33nlno+8L9HP53Xff6Uc/+pF+//vf+3z9qaee0jPPPKPf//732rFjh1wul0aOHOm5t6UvBQUF+slPfqLJkyfrk08+0eTJk3XXXXdp27Zt/jqMRjV2jN9//7127typRx99VDt37tRrr72m/fv365Zbbmlyv5GRkV7ntrS0VA6Hwx+H0CxNnUtJGj16tFd7N27c2Og+A+1cSk0f59nn5MUXX5TNZtP48eMb3W8gnc/m/H4E7N+mgV8NHz7cTJ061WvbRRddZB566CGf9Q888IC56KKLvLb9/Oc/NyNGjPBbG1tbeXm5kWS2bt3aYM2WLVuMJPPtt9+2XcPOUVZWlvnRj37U7PqOcC6NMeaXv/ylGTRokKmrq/P5ejCeS0lm/fr1nud1dXXG5XKZJ5980rOtqqrKOJ1Os2LFigb3c9ddd5nRo0d7bUtLSzMTJkxo9TZbdfYx+rJ9+3YjyXz55ZcN1qxatco4nc7WbVwr8nWcU6ZMMbfeequl/QTyuTSmeefz1ltvNTfccEOjNYF+Ps/+/Qjkv016oPzo5MmT+uijjzRq1Civ7aNGjdIHH3zg8z0FBQX16tPS0lRYWKiamhq/tbU1VVRUSJJ69erVZO1ll12mmJgY3XjjjdqyZYu/m3bOPvvsM8XGxio+Pl4TJkzQF1980WBtRziXJ0+eVE5Ojv73//7fTd4YO9jO5ZlKSkpUVlbmdb7sdrtSU1Mb/FuVGj7Hjb0nkFRUVMhms6lHjx6N1v3jH//QgAEDdMEFF+jmm29WUVFR2zTwHOTn5+v888/XhRdeqIyMDJWXlzdaH+zn8siRI9qwYYPuueeeJmsD+Xye/fsRyH+bBCg/Onr0qGpra9WnTx+v7X369FFZWZnP95SVlfmsP3XqlI4ePeq3trYWY4wyMzN19dVXKzExscG6mJgY/Z//83+0bt06vfbaaxo8eLBuvPFG/eUvf2nD1lpzxRVX6D/+4z/05z//WS+88ILKysp05ZVX6tixYz7rg/1cStLrr7+uv//970pPT2+wJhjP5dncf49W/lbd77P6nkBRVVWlhx56SBMnTmz0ZqwXXXSRVq9erTfeeEMvv/yyHA6HrrrqKn322Wdt2FprxowZozVr1ujdd9/Vb37zG+3YsUM33HCDqqurG3xPMJ9LSXrppZfUvXt33XHHHY3WBfL59PX7Ech/m2Gttic06Oz/5W6MafR/zfuq97U9EM2cOVOffvqp3nvvvUbrBg8erMGDB3uep6Sk6NChQ1qyZImuvfZafzezRcaMGeP57yFDhiglJUWDBg3SSy+9pMzMTJ/vCeZzKUkrV67UmDFjFBsb22BNMJ7Lhlj9W23pe9pbTU2NJkyYoLq6Oj3//PON1o4YMcLrAuyrrrpKw4YN07Jly7R06VJ/N7VFfvKTn3j+OzExUcnJyRowYIA2bNjQaMAIxnPp9uKLL+qnP/1pk9cyBfL5bOz3IxD/NumB8qPo6GiFhobWS7zl5eX1krGby+XyWR8WFqaoqCi/tbU1/OIXv9Abb7yhLVu26IILLrD8/hEjRgTE/wpqrm7dumnIkCENtjmYz6Ukffnll3r77bd17733Wn5vsJ1L92xKK3+r7vdZfU97q6mp0V133aWSkhJt3ry50d4nX0JCQnT55ZcH1fmNiYnRgAEDGm1zMJ5Lt7/+9a/at29fi/5WA+V8NvT7Ech/mwQoP4qIiFBSUpJnFpPb5s2bdeWVV/p8T0pKSr36vLw8JScnKzw83G9tPRfGGM2cOVOvvfaa3n33XcXHx7doP0VFRYqJiWnl1vlPdXW19u7d22Cbg/FcnmnVqlU6//zzddNNN1l+b7Cdy/j4eLlcLq/zdfLkSW3durXBv1Wp4XPc2Hvakzs8ffbZZ3r77bdbFOSNMfr444+D6vweO3ZMhw4darTNwXYuz7Ry5UolJSXpRz/6keX3tvf5bOr3I6D/NlvtcnT49Morr5jw8HCzcuVKs2fPHvOrX/3KdOvWzRw8eNAYY8xDDz1kJk+e7Kn/4osvTNeuXc2sWbPMnj17zMqVK014eLj57//+7/Y6hCZNmzbNOJ1Ok5+fb0pLSz2P77//3lNz9nH+9re/NevXrzf79+83xcXF5qGHHjKSzLp169rjEJpl9uzZJj8/33zxxRfmww8/NDfffLPp3r17hzqXbrW1taZ///7mwQcfrPdasJ7LEydOmKKiIlNUVGQkmWeeecYUFRV5ZqA9+eSTxul0mtdee83s2rXL/Nu//ZuJiYkxlZWVnn1MnjzZawbt+++/b0JDQ82TTz5p9u7da5588kkTFhZmPvzwwzY/PmMaP8aamhpzyy23mAsuuMB8/PHHXn+r1dXVnn2cfYzz5883mzZtMgcOHDBFRUXmZz/7mQkLCzPbtm1rj0M0xjR+nCdOnDCzZ882H3zwgSkpKTFbtmwxKSkppm/fvkF1Lo1p+t+sMcZUVFSYrl27muXLl/vcR6Cfz+b8fgTq3yYBqg0899xzZsCAASYiIsIMGzbMa3r/lClTTGpqqld9fn6+ueyyy0xERISJi4tr8A8jUEjy+Vi1apWn5uzj/PWvf20GDRpkHA6H6dmzp7n66qvNhg0b2r7xFvzkJz8xMTExJjw83MTGxpo77rjD7N692/N6RziXbn/+85+NJLNv3756rwXruXQvt3D2Y8qUKcaY09Ols7KyjMvlMna73Vx77bVm165dXvtITU311LutXbvWDB482ISHh5uLLrqoXYNjY8dYUlLS4N/qli1bPPs4+xh/9atfmf79+5uIiAjTu3dvM2rUKPPBBx+0/cGdobHj/P77782oUaNM7969TXh4uOnfv7+ZMmWK+eqrr7z2Eejn0pim/80aY8wf/vAH06VLF/P3v//d5z4C/Xw25/cjUP82bf//AAAAANBMXAMFAABgEQEKAADAIgIUAACARQQoAAAAiwhQAAAAFhGgAAAALCJAAQAAWESAAgAAsIgABQBNsNlsjT7S09Pbu4kA2lhYezcAAAJdaWmp579fffVVPfbYY9q3b59nW5cuXdqjWQDaEQEKAJrgcrk8/+10OmWz2by2Aeh8GMIDAACwiAAFAABgEQEKAADAIgIUAACARQQoAAAAiwhQAAAAFhGgAAAALLIZY0x7NwIAACCY0AMFAABgEQEKAADAIgIUAACARQQoAAAAiwhQAAAAFhGgAAAALCJAAQAAWESAAgAAsIgABQAAYBEBCgAAwCICFAAAgEUEKAAAAIv+Hz5xFQD02kgEAAAAAElFTkSuQmCC",
>>>>>>> a9c60f37e8cebff21947ddf1f08d24f2fceb2ca6
      "text/plain": [
       "<Figure size 640x480 with 1 Axes>"
      ]
     },
     "metadata": {},
     "output_type": "display_data"
    }
   ],
   "source": [
    "plt.figure()\n",
    "plt.plot(T,E_mean,'o')\n",
    "plt.xlabel('T')\n",
    "plt.ylabel('U')\n",
    "plt.title(f'Size: {size} ,Runs: {num_runs}')\n",
    "plt.show()\n",
    "#lattice_plots(lattice, np.arange(0,100,5))"
   ]
  },
  {
   "cell_type": "code",
<<<<<<< HEAD
   "execution_count": 32,
=======
   "execution_count": 182,
>>>>>>> a9c60f37e8cebff21947ddf1f08d24f2fceb2ca6
   "id": "ca6ad7cf",
   "metadata": {},
   "outputs": [],
   "source": [
    "# SAVE DATA \n",
    "\n",
    "current_dir = os.getcwd()\n",
    "\n",
    "# directory of Data folder\n",
    "new_dir = f'{current_dir}/'\n",
    "\n",
    "# Save data there\n",
    "file_spec = '1e4'\n",
    "file_name = f'{run_name}_{file_spec}.npz'\n",
    "file_dir = f'{new_dir}{file_name}'\n",
    "\n",
    "np.savez(file_dir, \n",
    "         T = T,\n",
    "         eps = interaction_matrix,\n",
    "         muT = muT,\n",
    "         muB = muB,\n",
    "         Tcell_num = T_num_in,\n",
    "         B_num = pos2t,\n",
    "         size = size,\n",
    "         E_mean = E_mean,\n",
    "         E_variance = E_var,\n",
    "         num_runs = num_runs,        \n",
    "        )\n",
    "#np.savez(file_dir, T = T, num_runs = num_runs, size = size, eps=eps, T_num_in , B_num = B_num, E_mean = E_mean, E_variance=E_var, execution_time=execution_time )\n"
   ]
  },
  {
   "cell_type": "code",
   "execution_count": null,
   "id": "98b20bc8",
   "metadata": {},
   "outputs": [],
   "source": []
  }
 ],
 "metadata": {
  "kernelspec": {
   "display_name": "Python 3 (ipykernel)",
   "language": "python",
   "name": "python3"
  },
  "language_info": {
   "codemirror_mode": {
    "name": "ipython",
    "version": 3
   },
   "file_extension": ".py",
   "mimetype": "text/x-python",
   "name": "python",
   "nbconvert_exporter": "python",
   "pygments_lexer": "ipython3",
   "version": "3.11.4"
  }
 },
 "nbformat": 4,
 "nbformat_minor": 5
}
