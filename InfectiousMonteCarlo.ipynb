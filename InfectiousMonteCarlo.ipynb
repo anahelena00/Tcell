{
 "cells": [
  {
   "cell_type": "code",
   "execution_count": 406,
   "id": "37b72c85",
   "metadata": {},
   "outputs": [],
   "source": [
    "import numpy as np\n",
    "import random\n",
    "import matplotlib.pyplot as plt\n",
    "import numba\n",
    "import time\n",
    "import os\n",
    "from datetime import datetime\n"
   ]
  },
  {
   "cell_type": "code",
   "execution_count": 407,
   "id": "a21c9645",
   "metadata": {},
   "outputs": [],
   "source": [
    "def create_lattice(lattice_length, T_num, B_num):\n",
    "    lattice = np.zeros([lattice_length, lattice_length])\n",
    "    \n",
    "    # Place T's randomly\n",
    "    t_coords = np.empty((2, 0), dtype=int)  # Initialize as an empty array\n",
    "    while t_coords.shape[1] < T_num:  # Check the number of columns\n",
    "        t = np.array([[np.random.randint(lattice_length)], [np.random.randint(lattice_length)]])\n",
    "        if not np.any(np.all(t == t_coords, axis=0)):\n",
    "            t_coords = np.hstack((t_coords, t))\n",
    "            lattice[t[0, 0], t[1, 0]] = 1\n",
    "    \n",
    "    # Place B's randomly\n",
    "    b_coords = np.empty((2, 0), dtype=int)  # Initialize as an empty array\n",
    "    while b_coords.shape[1] < B_num:  # Check the number of columns\n",
    "        b = np.array([[np.random.randint(lattice_length)], [np.random.randint(lattice_length)]])\n",
    "        if not np.any(np.all(b == b_coords, axis=0)) and not np.any(np.all(b == t_coords, axis=0)):\n",
    "            b_coords = np.hstack((b_coords, b))\n",
    "            lattice[b[0, 0], b[1, 0]] = 2\n",
    "    \n",
    "    empty_coords = np.argwhere(lattice == 0).T\n",
    "    \n",
    "    return lattice, t_coords, b_coords, empty_coords"
   ]
  },
  {
   "cell_type": "code",
   "execution_count": 457,
   "id": "a4b3c31a",
   "metadata": {},
   "outputs": [],
   "source": [
    "# showing lattices as they evolve \n",
    "\n",
    "def lattice_plots(lattice_history, selected_indices):\n",
    "\n",
    "    cmap = plt.cm.colors.ListedColormap(['white', 'blue', 'red'])\n",
    "\n",
    "    for i in range(len(selected_indices)):\n",
    "\n",
    "        # Create a plot\n",
    "        plt.imshow(lattice_history[i], cmap=cmap, extent=[0, size, 0, size])\n",
    "        plt.colorbar(ticks=[0, 1, 2], label=\"Legend\")\n",
    "        plt.title(\"Lattice with T's (Blue) and B's (Red)\")\n",
    "\n",
    "  \n",
    "\n",
    "        #plt.title(f\"Lattice at Iteration {selected_indices[i]}\")  # Add a title with the iteration number\n",
    "\n",
    "        #fig_name = f\"Plot\\Lattice_iter{selected_indices[i]}\"\n",
    "        # plt.savefig(fig_name)\n",
    "        plt.show()\n",
    "        "
   ]
  },
  {
   "cell_type": "code",
   "execution_count": 621,
   "id": "8cb88d36",
   "metadata": {},
   "outputs": [],
   "source": [
    "def position_random(pos):\n",
    "    col = np.random.randint(pos.shape[1])\n",
    "    p = pos[:,col]\n",
    "    #print(pos)\n",
    "    #print(p)\n",
    "    return p, col"
   ]
  },
  {
   "cell_type": "code",
   "execution_count": 622,
   "id": "f5138946",
   "metadata": {},
   "outputs": [],
   "source": [
    "\n",
    "def energy(lattice, ID_in, pos_hypo, interaction_matrix):\n",
    "    s = lattice.shape[0]-1\n",
    "    i = pos_hypo[0] # x coordinate\n",
    "    j = pos_hypo[1] # y coordinate\n",
    "    \n",
    "    if i==0:\n",
    "        up = lattice[s,j]   \n",
    "    else:    \n",
    "        up = lattice[i-1,j]\n",
    "    up = int(up)\n",
    "\n",
    "    if i == s:\n",
    "        down = lattice[0,j]      \n",
    "    else:\n",
    "        down = lattice[i+1,j]\n",
    "    down = int(down)\n",
    "\n",
    "    if j == 0:\n",
    "        left = lattice[i,s]        \n",
    "    else:\n",
    "        left = lattice[i,j-1]    \n",
    "    left = int(left)\n",
    "\n",
    "    if j == s:\n",
    "        right = lattice[i,0]       \n",
    "    else:\n",
    "        right = lattice[i,j+1]\n",
    "    right = int(right)\n",
    "    \n",
    "    \n",
    "    E = -(interaction_matrix[ID_in, up] + interaction_matrix[ID_in, down] + interaction_matrix[ID_in, left] + \n",
    "          interaction_matrix[ID_in, right])\n",
    "    return E"
   ]
  },
  {
   "cell_type": "code",
   "execution_count": 623,
   "id": "22ada84c",
   "metadata": {},
   "outputs": [],
   "source": [
    "# total energy of lattice\n",
    "def lattice_energy(lattice, eps):\n",
    "    \n",
    "    E_total = 0\n",
    "    rows, cols = lattice.shape\n",
    "\n",
    "    for i in range(rows):\n",
    "        for j in range(cols):\n",
    "            val = int(lattice[i, j])\n",
    "            E_total += energy(lattice, val, (i, j), eps)\n",
    "\n",
    "    E_total = E_total / 2\n",
    "    \n",
    "    return E_total\n"
   ]
  },
  {
   "cell_type": "code",
   "execution_count": 624,
   "id": "9ced95a9",
   "metadata": {},
   "outputs": [],
   "source": [
    "# check if object moves. pos1 is the coordinates of all objects where one is to be moved. \n",
    "# most likely a Tcell\n",
    "# pos0 are coordinates of holes in the lattice \n",
    "\n",
    "def evaluate_particle_move(lattice, pos1, pos0, T, E_total, eps):\n",
    "    \n",
    "    p1, col1 = position_random(pos1)\n",
    "    ID_in = lattice[p1[0], p1[1]]\n",
    "    ID_in = int(ID_in)\n",
    "    Ein = energy(lattice,ID_in, p1, eps)\n",
    "    #print(\"Ein\",Ein)\n",
    "    p0, col0 = position_random(pos0)\n",
    "    # seeing what energy would be for particle if it moved the the chosen empty location\n",
    "    lattice[p1[0], p1[1]] = 0 # temporarily moving object so not to be seen as neighbor by itself\n",
    "    Efin = energy(lattice, ID_in, p0, eps)\n",
    "    #print(,\"Efin:\",Efin)   \n",
    "    Ediff = Efin - Ein\n",
    "\n",
    "\n",
    "    if Ediff < 0 :\n",
    "        move = True\n",
    "    \n",
    "    else:\n",
    "        probability = np.exp(-Ediff/T)\n",
    "        if random.random() < probability: # random.random gives between 0 and 1. Hence higher prob -> more move\n",
    "            move = True \n",
    "        else:\n",
    "            move = False\n",
    "        \n",
    "    if move: \n",
    "        lattice[p0[0], p0[1]] = 1\n",
    "        # update arrays containing coordinates of 0's and 1's\n",
    "        pos1[:,col1] = [p0[0], p0[1]]\n",
    "        pos0[:,col0] = [p1[0], p1[1]]\n",
    "        E_total = E_total + Ediff\n",
    "        E_total = float(E_total)\n",
    "        \n",
    "    else:\n",
    "        lattice[p0[0], p0[1]] = 0\n",
    "        lattice[p1[0], p1[1]] = 1\n",
    "    #print(E_total, Ediff)\n",
    "    return lattice, pos1, pos0, E_total"
   ]
  },
  {
   "cell_type": "code",
   "execution_count": 729,
   "id": "18514d65",
   "metadata": {},
   "outputs": [],
   "source": [
    "\n",
    "def monte_carlo(Temp, eps, lattice_length, T_num, B_num, num_runs, num_lattices_to_store=None):\n",
    "    lattice, pos1, b_coords, pos0 = create_lattice(lattice_length, T_num, B_num)\n",
    "    E_lattice = lattice_energy(lattice, eps)\n",
    "   \n",
    "    # Create a colormap for red (B) and blue (T)\n",
    "    cmap = plt.cm.colors.ListedColormap(['white', 'blue', 'red'])\n",
    "\n",
    "    # Plot the lattice\n",
    "    plt.imshow(lattice, cmap=cmap, extent=[0, lattice_length, 0, lattice_length])\n",
    "    plt.colorbar(ticks=[0, 1, 2], label=\"Legend\")\n",
    "    plt.title(\"Lattice with T's (Blue) and B's (Red)\")\n",
    "    #plt.grid(True, linewidth=0.5, color='black')\n",
    "    plt.show()\n",
    "    \n",
    "    E_history = {}\n",
    "    for ind, t in enumerate(Temp):\n",
    "        #lattice_history = []\n",
    "        E_history_for_Temp = []\n",
    "        #for temperature in T:\n",
    "\n",
    "        for i in range(0,num_runs): # change to from one and append initial E and lattice to outisde\n",
    "            E_history_for_Temp.append(E_lattice)\n",
    "            \n",
    "            lattice, pos1, pos0, E_lattice = evaluate_particle_move(\n",
    "                                             lattice, pos1, pos0, t, E_lattice, eps)\n",
    "            #lattice_history.append(lattice.copy())\n",
    "            \n",
    "        E_history[t] = E_history_for_Temp.copy()\n",
    "        \n",
    "    current_datetime = datetime.now()\n",
    "    datetime_str = current_datetime.strftime('%Y%m%d-%H-%M')    \n",
    "    run_name = f'{datetime_str}'\n",
    "    \n",
    "    return lattice, E_history, run_name"
   ]
  },
  {
   "cell_type": "code",
   "execution_count": 730,
   "id": "c4d25c1b",
   "metadata": {
    "scrolled": false
   },
   "outputs": [
    {
     "data": {
      "image/png": "[encoded data removed]",
      "text/plain": [
       "<Figure size 640x480 with 2 Axes>"
      ]
     },
     "metadata": {},
     "output_type": "display_data"
    }
   ],
   "source": [
    "# the interaction matrix can be used to decide how many bacteria are able to multiply. \n",
    "# if surrounded by T cells -> no division\n",
    "# the body is modelled by an N by N lattice\n",
    "\n",
    "num_runs = 100\n",
    "Temp = np.arange(3,0.1,-0.1)\n",
    "\n",
    "size = 10\n",
    "\n",
    "T_num_in = 30    # number of initial T-cells\n",
    "B_num_in = 5\n",
    "\n",
    "BB_int = 0      # interaction energy between bacterias\n",
    "TT_int = 0      # interaction energy between T-cells\n",
    "BT_int = 1     # interaction energy between bacteria and T-cells\n",
    "interaction_matrix = np.array([\n",
    "    [0, 0, 0],\n",
    "    [0, TT_int, BT_int],\n",
    "    [0, BT_int, BB_int]\n",
    "])\n",
    "\n",
    "lattice, E_history, run_name = monte_carlo(\n",
    "    Temp, interaction_matrix, size, T_num_in, B_num_in, num_runs, num_lattices_to_store=None)\n",
    "\n"
   ]
  },
  {
   "cell_type": "code",
   "execution_count": 731,
   "id": "8661f45b",
   "metadata": {},
   "outputs": [
    {
     "data": {
      "image/png": "[encoded data removed]",
      "text/plain": [
       "<Figure size 640x480 with 1 Axes>"
      ]
     },
     "metadata": {},
     "output_type": "display_data"
    }
   ],
   "source": [
    "plt.figure()\n",
    "plt.plot(E_lattice,'.', )\n",
    "plt.show()"
   ]
  },
  {
   "cell_type": "code",
   "execution_count": 732,
   "id": "c851fc4c",
   "metadata": {
    "scrolled": false
   },
   "outputs": [
    {
     "data": {
      "image/png": "[encoded data removed]",
      "text/plain": [
       "<Figure size 640x480 with 2 Axes>"
      ]
     },
     "metadata": {},
     "output_type": "display_data"
    }
   ],
   "source": [
    "# Create a colormap for red (B) and blue (T)\n",
    "cmap = plt.cm.colors.ListedColormap(['white', 'blue', 'red'])\n",
    "\n",
    "# Plot the lattice\n",
    "plt.imshow(lattice, cmap=cmap, extent=[0, size, 0, size])\n",
    "plt.colorbar(ticks=[0, 1, 2], label=\"Legend\")\n",
    "plt.title(\"Lattice with T's (Blue) and B's (Red)\")\n",
    "#plt.grid(True, linewidth=0.5, color='black')\n",
    "plt.show()"
   ]
  },
  {
   "cell_type": "code",
   "execution_count": 733,
   "id": "5dcacf84",
   "metadata": {},
   "outputs": [
    {
     "data": {
      "image/png": "[encoded data removed]",
      "text/plain": [
       "<Figure size 640x480 with 2 Axes>"
      ]
     },
     "metadata": {},
     "output_type": "display_data"
    }
   ],
   "source": [
    "# Create a colormap for red (B) and blue (T)\n",
    "cmap = plt.cm.colors.ListedColormap(['white', 'blue', 'red'])\n",
    "\n",
    "# Plot the lattice\n",
    "plt.imshow(lattice, cmap=cmap, extent=[0, size, 0, size])\n",
    "plt.colorbar(ticks=[0, 1, 2], label=\"Legend\")\n",
    "plt.title(\"Lattice with T's (Blue) and B's (Red)\")\n",
    "#plt.grid(True, linewidth=0.5, color='black')\n",
    "plt.show()"
   ]
  },
  {
   "cell_type": "code",
   "execution_count": 734,
   "id": "b2652b40",
   "metadata": {},
   "outputs": [],
   "source": [
    "# mean energy and variance hereof of lattice\n",
    "\n",
    "def mean_energyWITHDENSITY(T, density, E_history, ind_equilibrium):\n",
    "\n",
    "    E_mean = np.zeros([len(T),len(density)])\n",
    "    E_variance = np.zeros([len(T),len(density)])\n",
    "\n",
    "    for j in density:\n",
    "        E = E_history[j]\n",
    "        for i in T:\n",
    "            E_mean[i][j] = np.mean(E[i][ind_equilibrium:-1])\n",
    "            E_variance[i][j] = np.var(E[i][ind_equilibrium:-1])\n",
    "\n",
    "    return E_mean, E_variance\n"
   ]
  },
  {
   "cell_type": "code",
   "execution_count": 737,
   "id": "0fd9daf0",
   "metadata": {},
   "outputs": [
    {
     "data": {
      "text/plain": [
       "array([ -6.57575758,  -7.18181818,  -4.96969697,  -8.63636364,\n",
       "        -6.87878788,  -8.33333333,  -9.39393939,  -9.81818182,\n",
       "       -11.93939394, -10.63636364, -13.75757576, -13.54545455,\n",
       "       -12.63636364, -13.06060606, -14.36363636, -17.33333333,\n",
       "       -18.        , -19.63636364, -17.45454545, -20.        ,\n",
       "       -20.33333333, -20.51515152, -22.42424242, -23.51515152,\n",
       "       -22.66666667, -25.81818182, -32.45454545, -40.3030303 ,\n",
       "       -47.33333333])"
      ]
     },
     "execution_count": 737,
     "metadata": {},
     "output_type": "execute_result"
    }
   ],
   "source": [
    "def mean_energy(T, E_history, ind_equilibrium):\n",
    "    \n",
    "    E = E_history\n",
    "    E_mean = np.zeros([len(T)])\n",
    "    E_variance = np.zeros([len(T)])\n",
    "\n",
    "    for ind,t in enumerate(T):\n",
    "        E_mean[ind] = np.mean(E[t][ind_equilibrium:-1])\n",
    "        E_variance[ind] = np.var(E[t][ind_equilibrium:-1])\n",
    "\n",
    "    return E_mean, E_variance\n",
    "\n",
    "ind_equi = int(2/3*num_runs) # index where equilibrium is assumed. \n",
    "E_mean, E_var = mean_energy(Temp, E_history, ind_equi)\n",
    "\n",
    "E_mean"
   ]
  },
  {
   "cell_type": "code",
   "execution_count": 738,
   "id": "2c019ace",
   "metadata": {},
   "outputs": [
    {
     "data": {
      "image/png": "[encoded data removed]",
      "text/plain": [
       "<Figure size 640x480 with 1 Axes>"
      ]
     },
     "metadata": {},
     "output_type": "display_data"
    }
   ],
   "source": [
    "plt.figure()\n",
    "plt.plot(Temp,E_mean)\n",
    "plt.xlabel('T')\n",
    "plt.ylabel('U')\n",
    "plt.show()"
   ]
  },
  {
   "cell_type": "code",
   "execution_count": 740,
   "id": "6356f321",
   "metadata": {},
   "outputs": [],
   "source": [
    "# SAVE DATA \n",
    "\n",
    "current_dir = os.getcwd()\n",
    "\n",
    "# directory of Data folder\n",
    "new_dir = f'{current_dir}/Data/'\n",
    "\n",
    "# Save data there\n",
    "file_spec = 'test'\n",
    "file_name = f'{run_name}_{file_spec}.npz'\n",
    "file_dir = f'{new_dir}{file_name}'\n",
    "\n",
    "np.savez(file_dir, \n",
    "         T = Temp,\n",
    "         E_mean = E_mean,\n",
    "         E_variance = E_var,\n",
    "         num_runs = num_runs,\n",
    "         eps = interaction_matrix,\n",
    "        )\n",
    "#np.savez(file_dir, T = T, density = density, E_mean = E_mean, E_variance=E_var, num_runs = num_runs, MinLatticeSize = size_mini, eps=eps, execution_time=execution_time )\n"
   ]
  },
  {
   "cell_type": "code",
   "execution_count": null,
   "id": "44a3de72",
   "metadata": {},
   "outputs": [],
   "source": []
  }
 ],
 "metadata": {
  "kernelspec": {
   "display_name": "Python 3 (ipykernel)",
   "language": "python",
   "name": "python3"
  },
  "language_info": {
   "codemirror_mode": {
    "name": "ipython",
    "version": 3
   },
   "file_extension": ".py",
   "mimetype": "text/x-python",
   "name": "python",
   "nbconvert_exporter": "python",
   "pygments_lexer": "ipython3",
   "version": "3.11.4"
  }
 },
 "nbformat": 4,
 "nbformat_minor": 5
}
