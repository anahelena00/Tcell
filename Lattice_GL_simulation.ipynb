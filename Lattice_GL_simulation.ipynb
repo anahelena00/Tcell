{
 "cells": [
  {
   "cell_type": "code",
   "execution_count": 138,
   "id": "8ab435cd",
   "metadata": {},
   "outputs": [],
   "source": [
    "import numpy as np\n",
    "import random\n",
    "import matplotlib.pyplot as plt\n",
    "import numba\n",
    "import time\n",
    "import os\n",
    "from datetime import datetime\n"
   ]
  },
  {
   "cell_type": "code",
   "execution_count": 139,
   "id": "9c85b796",
   "metadata": {},
   "outputs": [],
   "source": [
    "# Creating lattice in specified size by size and ratio of 1's\n",
    "\n",
    "def create_lattice(size, number_of_particles):\n",
    "    num_ones = int(number_of_particles)\n",
    "    num_zeros = size * size - num_ones\n",
    "\n",
    "    lattice = np.concatenate((np.ones(num_ones, dtype=int), np.zeros(num_zeros, dtype=int)),axis=0)\n",
    "\n",
    "    # Shuffle the array to distribute 1s and 0s randomly\n",
    "    np.random.shuffle(lattice)\n",
    "\n",
    "    # Reshape the 1D array into a 2D lattice\n",
    "    lattice = lattice.reshape(size, size)\n",
    "    \n",
    "    pos1 = np.where(lattice == 1)\n",
    "    pos1 = np.array(pos1)           # coordinates of 1's\n",
    "\n",
    "    pos0 = np.where(lattice == 0)   \n",
    "    pos0 = np.array(pos0)           # coordinates of 0's\n",
    "    \n",
    "    density = number_of_particles/size**2\n",
    "\n",
    "    return lattice, pos1, pos0, density"
   ]
  },
  {
   "cell_type": "code",
   "execution_count": 140,
   "id": "653160e3",
   "metadata": {},
   "outputs": [],
   "source": [
    "# showing lattices as they evolve \n",
    "\n",
    "def lattice_plots(lattice_history, selected_indices):\n",
    "\n",
    "    cmap = plt.get_cmap(\"binary\", 2)\n",
    "\n",
    "    for i in range(len(selected_indices)):\n",
    "\n",
    "        # Create a plot\n",
    "        plt.matshow(lattice_history[i], cmap=cmap)\n",
    "       # plt.xticks(range(lattice.shape[1]))\n",
    "        #plt.yticks(range(lattice.shape[0]))\n",
    "\n",
    "        plt.grid(visible=False)\n",
    "\n",
    "        plt.title(f\"Lattice at Iteration {selected_indices[i]}\")  # Add a title with the iteration number\n",
    "\n",
    "        fig_name = f\"Plot\\Lattice_iter{selected_indices[i]}\"\n",
    "       # plt.savefig(fig_name)\n",
    "        plt.show()"
   ]
  },
  {
   "cell_type": "code",
   "execution_count": 151,
   "id": "82752f4b",
   "metadata": {},
   "outputs": [],
   "source": [
    "# randomly choose lattice site from array storing coordinates of 1's or 0's\n",
    "\n",
    "def position_random2(pos):\n",
    "    #print(pos)\n",
    "    col = np.random.choice(pos[0,:],1)\n",
    "    p = pos[:,col]\n",
    "    #print('p:',p,'col:',col)\n",
    "    return p, col \n",
    "\n",
    "def position_random(pos):\n",
    "    col = np.random.randint(pos.shape[1])\n",
    "    p = pos[:,col]\n",
    "    #print(pos)\n",
    "    #print(p)\n",
    "    return p, col"
   ]
  },
  {
   "cell_type": "code",
   "execution_count": 152,
   "id": "6f1635cd",
   "metadata": {},
   "outputs": [],
   "source": [
    "#lattice, pos1, pos0, density = create_lattice(4, 8)\n"
   ]
  },
  {
   "cell_type": "code",
   "execution_count": 153,
   "id": "5bba02bf",
   "metadata": {},
   "outputs": [],
   "source": [
    "#for i in range(10):\n",
    "#    p, col = position_random(pos1)\n",
    "    #print(p, col)\n",
    "    \n",
    "#print(pos1)"
   ]
  },
  {
   "cell_type": "code",
   "execution_count": 154,
   "id": "4211195b",
   "metadata": {},
   "outputs": [],
   "source": [
    "# find energy a particle has or would have at specified position\n",
    "\n",
    "def energy(lattice,p,eps):\n",
    "    s = lattice.shape[0]-1\n",
    "    i = p[0]\n",
    "    j = p[1]\n",
    "    \n",
    "    if i==0:\n",
    "        up = lattice[s,j]   \n",
    "    else:    \n",
    "        up = lattice[i-1,j]\n",
    "\n",
    "    if i == s:\n",
    "        down = lattice[0,j]      \n",
    "    else:\n",
    "        down = lattice[i+1,j]\n",
    "\n",
    "    if j == 0:\n",
    "        left = lattice[i,s]        \n",
    "    else:\n",
    "        left = lattice[i,j-1]     \n",
    "\n",
    "    if j == s:\n",
    "        right = lattice[i,0]       \n",
    "    else:\n",
    "        right = lattice[i,j+1]\n",
    "        \n",
    "    E = -eps * 1 *(up+down+left+right) # 1 added because their /is/ or /hypothetically is/ a particle\n",
    "    return E"
   ]
  },
  {
   "cell_type": "code",
   "execution_count": 155,
   "id": "5a558fed",
   "metadata": {},
   "outputs": [],
   "source": [
    "# total energy of lattice\n",
    "def lattice_energy(lattice, p, eps):\n",
    "    E_total = 0\n",
    "    for i in range(np.shape(p)[1]):\n",
    "        E_total = E_total + energy(lattice,p[:,i],eps)\n",
    "    \n",
    "    E_total = E_total/2\n",
    "    \n",
    "    return E_total"
   ]
  },
  {
   "cell_type": "code",
   "execution_count": 156,
   "id": "3fc9db72",
   "metadata": {},
   "outputs": [],
   "source": [
    "# evaluate whether or not to move partice \n",
    "\n",
    "def evaluate_particle_move(lattice, pos1, pos0, T, E_total, eps):\n",
    "    \n",
    "    p1, col1 = position_random(pos1)\n",
    "    Ein = energy(lattice,p1,eps)\n",
    "    \n",
    "    p0, col0 = position_random(pos0)\n",
    "    \n",
    "    # seeing what energy would be for particle if it moved the the chosen empty location\n",
    "    lattice[p1[0], p1[1]] = 0 # removing particle temporarily\n",
    "    Efin = energy(lattice,p0,eps)\n",
    "       \n",
    "    Ediff = Efin - Ein\n",
    "\n",
    "\n",
    "    if Ediff < 0 :\n",
    "        move = True\n",
    "    \n",
    "    else:\n",
    "        probability = np.exp(-Ediff/T)\n",
    "        if random.random() < probability: # random.random gives between 0 and 1. Hence higher prob -> more move\n",
    "            move = True \n",
    "        else:\n",
    "            move = False\n",
    "        \n",
    "    if move: \n",
    "        lattice[p0[0], p0[1]] = 1\n",
    "        # update arrays containing coordinates of 0's and 1's\n",
    "        pos1[:,col1] = [p0[0], p0[1]]\n",
    "        pos0[:,col0] = [p1[0], p1[1]]\n",
    "        E_total = E_total + Ediff\n",
    "        E_total = float(E_total)\n",
    "        \n",
    "    else:\n",
    "        lattice[p0[0], p0[1]] = 0\n",
    "        lattice[p1[0], p1[1]] = 1 # move particle back to restore original lattice\n",
    "\n",
    "    return lattice, pos1, pos0, E_total"
   ]
  },
  {
   "cell_type": "code",
   "execution_count": 157,
   "id": "032be745",
   "metadata": {},
   "outputs": [],
   "source": [
    "\n",
    "def monte_carlo(T, eps, lattice_length, number_of_particles, num_runs, num_lattices_to_store):\n",
    "    \n",
    "    # initiate lattice and find 0's and 1's\n",
    "    lattice, pos1, pos0, density = create_lattice(lattice_length, number_of_particles)    \n",
    "\n",
    "    E_lattice = lattice_energy(lattice, pos1, eps)\n",
    "\n",
    "    if num_lattices_to_store is not None:\n",
    "        # Calculate the step size to evenly space the lattices\n",
    "        step_size = max(1, num_runs // (num_lattices_to_store - 2))\n",
    "\n",
    "        # Create a list to store the indices of the selected lattices\n",
    "        selected_indices = [0] + [i for i in range(step_size, num_runs - step_size, step_size)] + [num_runs - 1]\n",
    "\n",
    "\n",
    "    lattice_history = {}\n",
    "    E_history = {}\n",
    "\n",
    "    for j in range(len(T)):\n",
    "\n",
    "        lattice_history_for_T = []\n",
    "        E_history_for_T = []\n",
    "\n",
    "        for i in range(0,num_runs): # change to from one and append initial E and lattice to outisde\n",
    "            \n",
    "            E_history_for_T.append(E_lattice)\n",
    "            \n",
    "            if num_lattices_to_store is not None:\n",
    "            \n",
    "                if i in selected_indices:\n",
    "                    lattice_history_for_T.append(lattice)\n",
    "\n",
    "\n",
    "            lattice, pos1, pos0, E_lattice = evaluate_particle_move(lattice, pos1, pos0, T[j], E_lattice, eps)\n",
    "\n",
    "\n",
    "        E_history[j] = E_history_for_T\n",
    "        if num_lattices_to_store is not None:\n",
    "            lattice_history[j] = lattice_history_for_T\n",
    "        else:\n",
    "            lattice_history = 'No lattices stored'\n",
    "    \n",
    "    current_datetime = datetime.now()\n",
    "    datetime_str = current_datetime.strftime('%Y%m%d-%H-%M')    \n",
    "    run_name = f'{datetime_str}'\n",
    "\n",
    "   # if num_lattices_to_store:\n",
    "    return E_history, density, run_name, lattice_history, selected_indices\n",
    "    #else:\n",
    "    #    return E_history, density, run_name\n",
    "\n",
    "\n"
   ]
  },
  {
   "cell_type": "markdown",
   "id": "a94130b7",
   "metadata": {},
   "source": [
    "## Run Monte Carlo"
   ]
  },
  {
   "cell_type": "code",
   "execution_count": 158,
   "id": "c7824c3a",
   "metadata": {},
   "outputs": [
    {
     "name": "stderr",
     "output_type": "stream",
     "text": [
      "/var/folders/lp/dfnyzrns3slc8zy7xmm5hnl80000gn/T/ipykernel_9651/1818675071.py:1: NumbaDeprecationWarning: The 'nopython' keyword argument was not supplied to the 'numba.jit' decorator. The implicit default value for this argument is currently False, but it will be changed to True in Numba 0.59.0. See https://numba.readthedocs.io/en/stable/reference/deprecation.html#deprecation-of-object-mode-fall-back-behaviour-when-using-jit for details.\n",
      "  @numba.jit\n"
     ]
    }
   ],
   "source": [
    "@numba.jit\n",
    "def process_loop(T, eps, density_approx, number_of_particles, num_runs, num_lattices_to_store):    \n",
    "\n",
    "    E_history_list=[]\n",
    "    density_list=[]\n",
    "    lattice_list = []\n",
    "    for i, d in enumerate(density_approx):\n",
    "        size = int(np.sqrt(number_of_particles / d))\n",
    "        E_history, density, run_name, lattice_history, selected_indices = monte_carlo(T,\n",
    "                                                                            eps, size, number_of_particles,\n",
    "                                                                            num_runs, num_lattices_to_store)\n",
    "        E_history_list.append(E_history)\n",
    "        density_list.append(density)\n",
    "        lattice_list.append(lattice_history)\n",
    "\n",
    "        \n",
    "    return E_history_list, density_list, size, run_name, lattice_list, selected_indices"
   ]
  },
  {
   "cell_type": "markdown",
   "id": "731a3fea",
   "metadata": {},
   "source": [
    "## Running"
   ]
  },
  {
   "cell_type": "code",
   "execution_count": 162,
   "id": "2c4ba434",
   "metadata": {},
   "outputs": [],
   "source": [
    "# Iterations per temperature step\n",
    "num_runs = 10000\n",
    "# Temperature range\n",
    "T = np.arange(3,0.01,-0.1)\n",
    "#T = np.arange(3,0.1,-1)\n",
    "# Density range\n",
    "density_approx = [0.02, 0.05, 0.1, 0.2, 0.3, 0.35, 0.4, 0.45, 0.5, 0.55, 0.6, 0.65, 0.7, 0.8, 0.9, 0.95, 0.98]\n",
    "\n",
    "#density_approx = [0.50, 0.6]\n",
    "\n",
    "eps = 1 \n",
    "\n",
    "size_mini = 50 # minimum lattice size\n",
    "density_max = density_approx[-1]           \n",
    "number_of_particles = density_max * size_mini**2 # this number of particles gives max density\n",
    "                                                 # in the smallets lattice"
   ]
  },
  {
   "cell_type": "code",
   "execution_count": 163,
   "id": "7a580bbe",
   "metadata": {
    "scrolled": false
   },
   "outputs": [],
   "source": [
    "# Measure execution time\n",
    "start_time = time.time()\n",
    "\n",
    "# Process the loop\n",
    "E_history, density, size, run_name, lattice_history, selected_indices = process_loop(T, eps, density_approx,\n",
    "                                                          number_of_particles, num_runs,\n",
    "                                                          num_lattices_to_store=5)\n",
    "\n",
    "# Calculate execution time\n",
    "execution_time = time.time() - start_time\n",
    "\n",
    "\n",
    "density = np.array(density)"
   ]
  },
  {
   "cell_type": "code",
   "execution_count": 164,
   "id": "1aba8bb2",
   "metadata": {},
   "outputs": [],
   "source": [
    "\n",
    "def mean_energy(T, density, E_history, ind_equilibrium):\n",
    "\n",
    "    E_mean = np.zeros([len(T),len(density)])\n",
    "    E_variance = np.zeros([len(T),len(density)])\n",
    "\n",
    "    for j in range(len(density)):\n",
    "        E = E_history[j]\n",
    "        for i in range(len(T)):\n",
    "            E_mean[i][j] = np.mean(E[i][ind_equilibrium:-1])\n",
    "            E_variance[i][j] = np.var(E[i][ind_equilibrium:-1])\n",
    "            \n",
    "    return E_mean, E_variance\n",
    " \n",
    "ind_equi = int(2/3*num_runs)\n",
    "E_mean, E_var = mean_energy(T, density, E_history, ind_equi)"
   ]
  },
  {
   "cell_type": "markdown",
   "id": "c1610a1a",
   "metadata": {},
   "source": [
    "## Check data"
   ]
  },
  {
   "cell_type": "markdown",
   "id": "7fcb640b",
   "metadata": {},
   "source": [
    "### Lattice plot"
   ]
  },
  {
   "cell_type": "code",
   "execution_count": 80,
   "id": "3179c188",
   "metadata": {},
   "outputs": [
    {
     "name": "stdout",
     "output_type": "stream",
     "text": [
      "2450.0 2500\n"
     ]
    },
    {
     "data": {
      "text/plain": [
       "0.98"
      ]
     },
     "execution_count": 80,
     "metadata": {},
     "output_type": "execute_result"
    }
   ],
   "source": [
    "\n",
    "density_max = density_approx[-1]           \n",
    "number_of_particles = density_max * size_mini**2\n",
    "print(number_of_particles, size_mini**2)\n",
    "density_max"
   ]
  },
  {
   "cell_type": "code",
   "execution_count": 81,
   "id": "fdb1f0aa",
   "metadata": {},
   "outputs": [
    {
     "data": {
      "image/png": "[encoded data removed]",
      "text/plain": [
       "<Figure size 640x480 with 1 Axes>"
      ]
     },
     "metadata": {},
     "output_type": "display_data"
    },
    {
     "data": {
      "image/png": "[encoded data removed]",
      "text/plain": [
       "<Figure size 640x480 with 1 Axes>"
      ]
     },
     "metadata": {},
     "output_type": "display_data"
    },
    {
     "data": {
      "text/plain": [
       "50"
      ]
     },
     "execution_count": 81,
     "metadata": {},
     "output_type": "execute_result"
    }
   ],
   "source": [
    "plt.figure()\n",
    "plt.plot(density_approx,'*')\n",
    "plt.plot(density,'*')\n",
    "\n",
    "sizes = []\n",
    "for i, d in enumerate(density_approx):\n",
    "        size = int(np.sqrt(number_of_particles / d))\n",
    "        sizes.append(size)\n",
    "        \n",
    "plt.figure()\n",
    "plt.plot(sizes,'*')\n",
    "plt.show()\n",
    "sizes[-1]"
   ]
  },
  {
   "cell_type": "code",
   "execution_count": 82,
   "id": "1442965d",
   "metadata": {},
   "outputs": [
    {
     "name": "stdout",
     "output_type": "stream",
     "text": [
      "T length: 30 , density length: 17\n"
     ]
    }
   ],
   "source": [
    "print(f'T length: {len(T)} , density length: {len(density)}')\n"
   ]
  },
  {
   "cell_type": "code",
   "execution_count": 83,
   "id": "5ebe8d5d",
   "metadata": {},
   "outputs": [],
   "source": [
    "size = 50          \n",
    "number_of_particles = 0.99 * size**2\n",
    "\n",
    "\n",
    "num_ones = int(number_of_particles)\n",
    "num_zeros = size * size - num_ones\n",
    "\n",
    "lattice = np.concatenate((np.ones(num_ones, dtype=int), np.zeros(num_zeros, dtype=int)),axis=0)\n",
    "\n",
    "# Shuffle the array to distribute 1s and 0s randomly\n",
    "np.random.shuffle(lattice)\n",
    "\n",
    "# Reshape the 1D array into a 2D lattice\n",
    "lattice = lattice.reshape(size, size)\n",
    "\n",
    "pos1 = np.where(lattice == 1)\n",
    "pos1 = np.array(pos1)           # coordinates of 1's\n",
    "\n",
    "pos0 = np.where(lattice == 0)   \n",
    "pos0 = np.array(pos0)           # coordinates of 0's\n",
    "\n",
    "density = number_of_particles/size**2"
   ]
  },
  {
   "cell_type": "code",
   "execution_count": 84,
   "id": "ffb37604",
   "metadata": {},
   "outputs": [
    {
     "data": {
      "text/plain": [
       "array([[ 4,  7,  9, 15, 16, 17, 17, 17, 21, 21, 24, 28, 31, 32, 35, 37,\n",
       "        37, 38, 40, 40, 42, 43, 44, 46, 48],\n",
       "       [36,  9,  5, 35, 14,  5, 15, 17,  2, 15, 49, 22, 19, 34, 11,  7,\n",
       "        27, 28, 30, 40, 40, 10,  1, 48, 38]])"
      ]
     },
     "execution_count": 84,
     "metadata": {},
     "output_type": "execute_result"
    }
   ],
   "source": [
    "pos0"
   ]
  },
  {
   "cell_type": "code",
   "execution_count": 88,
   "id": "35916c7a",
   "metadata": {
    "scrolled": false
   },
   "outputs": [
    {
     "ename": "TypeError",
     "evalue": "'float' object is not subscriptable",
     "output_type": "error",
     "traceback": [
      "\u001b[0;31m---------------------------------------------------------------------------\u001b[0m",
      "\u001b[0;31mTypeError\u001b[0m                                 Traceback (most recent call last)",
      "Cell \u001b[0;32mIn[88], line 24\u001b[0m\n\u001b[1;32m     21\u001b[0m     plt\u001b[38;5;241m.\u001b[39mshow()\n\u001b[1;32m     23\u001b[0m \u001b[38;5;66;03m#d = 0\u001b[39;00m\n\u001b[0;32m---> 24\u001b[0m energy_history_plot(T, E_history[\u001b[38;5;241m0\u001b[39m], size, density[\u001b[38;5;241m0\u001b[39m], num_runs)\n",
      "\u001b[0;31mTypeError\u001b[0m: 'float' object is not subscriptable"
     ]
    }
   ],
   "source": [
    "def energy_history_plot(T, E_history, size, ratio, num_runs):\n",
    "    yMin = min(E_history[len(T)-1])-4\n",
    "    yMax = max(E_history[0])\n",
    "\n",
    "    # Create subplots\n",
    "    fig, axes = plt.subplots(len(T), 1, figsize=(8, 2*len(T)))\n",
    "    fig.suptitle(f'{size} by {size}, density={ratio}')\n",
    "\n",
    "    for i in range(len(T)):\n",
    "        ax = axes[i]\n",
    "\n",
    "        T_formatted = f'{T[i]:.2f}'\n",
    "        ax.plot(np.arange(0, num_runs), E_history[i], '.', markersize = '1')\n",
    "        ax.set_yticks(np.arange(yMin, yMax, step = 20))\n",
    "        ax.set_ylabel(f'Energy (T = {T_formatted})')\n",
    "        #ax.set_xlabel('Iteration')\n",
    "        #ax.set_title()\n",
    "\n",
    "    #plt.tight_layout()\n",
    "    #plt.savefig('Runs_data/1e6_100x100.svg', format ='svg')\n",
    "    plt.show()\n",
    "\n",
    "#d = 0\n",
    "energy_history_plot(T, E_history[0], size, density[0], num_runs)"
   ]
  },
  {
   "cell_type": "code",
   "execution_count": 55,
   "id": "fdc6ebe9",
   "metadata": {},
   "outputs": [
    {
     "data": {
      "text/plain": [
       "0.99"
      ]
     },
     "execution_count": 55,
     "metadata": {},
     "output_type": "execute_result"
    }
   ],
   "source": [
    "E_history[0]\n",
    "density"
   ]
  },
  {
   "cell_type": "markdown",
   "id": "ef137a45",
   "metadata": {},
   "source": [
    "## Save data"
   ]
  },
  {
   "cell_type": "code",
   "execution_count": 165,
   "id": "26cf746f",
   "metadata": {},
   "outputs": [],
   "source": [
    "# SAVE DATA \n",
    "\n",
    "current_dir = os.getcwd()\n",
    "\n",
    "# directory of Data folder\n",
    "new_dir = f'{current_dir}/Data/'\n",
    "\n",
    "# Save data there\n",
    "file_spec = 'run10000'\n",
    "file_name = f'{run_name}_{file_spec}.npz'\n",
    "file_dir = f'{new_dir}{file_name}'\n",
    "\n",
    "np.savez(file_dir, T = T, density = density, E_mean = E_mean, E_variance=E_var, num_runs = num_runs, MinLatticeSize = size_mini, eps=eps, execution_time=execution_time )\n",
    "\n"
   ]
  },
  {
   "cell_type": "code",
   "execution_count": null,
   "id": "15ebbac6",
   "metadata": {},
   "outputs": [
    {
     "data": {
      "text/plain": [
       "array([4, 3, 2])"
      ]
     },
     "execution_count": 39,
     "metadata": {},
     "output_type": "execute_result"
    }
   ],
   "source": [
    "# TRY AND LOAD FILE AGAIN\n",
    "\n",
    "npzfile = np.load(file_dir)\n",
    "\n",
    "npzfile.files\n",
    "\n",
    "lala = npzfile['T']\n"
   ]
  }
 ],
 "metadata": {
  "kernelspec": {
   "display_name": "Python 3 (ipykernel)",
   "language": "python",
   "name": "python3"
  },
  "language_info": {
   "codemirror_mode": {
    "name": "ipython",
    "version": 3
   },
   "file_extension": ".py",
   "mimetype": "text/x-python",
   "name": "python",
   "nbconvert_exporter": "python",
   "pygments_lexer": "ipython3",
   "version": "3.11.4"
  }
 },
 "nbformat": 4,
 "nbformat_minor": 5
}
