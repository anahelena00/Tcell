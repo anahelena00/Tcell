{
 "cells": [
  {
   "cell_type": "markdown",
   "id": "763d9885",
   "metadata": {},
   "source": [
    "# Introduction\n",
    "\n",
    "In this project we seek to construct a simple model of the inate immune response of humans. The evolution af antigens and white blood cells are evaluated through Monte Carlo simulations. \n",
    "\n",
    "# Theory\n",
    "## Immuniology \n",
    "The first line of defense of the human immune system is the innate immune response. This can be divided into three different phases. Initially, when a pathogen enters the body, the macrophages, which are a type of white blood cell flowing around in the bloodstream, encounter the intruder and eats it. They then retain a part of the pathogen and bring it to another type of white blood cell, the T-cells. The T-cells then gather to fight the attackers. They flow out into the bloodstream and kill all elements that present the antigen introduced by the macrophages. Some T-cells travel to the lymph nodes and provide the B-cells with information on the new intruders. The B-cells start producing antibodies and release them into the bloodstream, where they attach to the antigen, serving as a marker for all remaining types of white blood cells, which then start contributing in fending off the attack. (This podcast will kill you, Episode 26) \n",
    "\n",
    "## The model\n",
    "We seek to create a simple model of an infection and the immune response. We introduce a generic white blood cell which serves the purpose of both the macrofagues and the T-cells"
   ]
  },
  {
   "cell_type": "code",
   "execution_count": 1,
   "id": "37b72c85",
   "metadata": {},
   "outputs": [],
   "source": [
    "import numpy as np\n",
    "import random\n",
    "import matplotlib.pyplot as plt\n",
    "import numba\n",
    "import time\n",
    "import os\n",
    "from datetime import datetime"
   ]
  },
  {
   "cell_type": "code",
   "execution_count": 41,
   "id": "86a48c47",
   "metadata": {},
   "outputs": [],
   "source": [
    "\n",
    "# the body is modelled by an N by N lattice\n",
    "size = 10\n",
    "lattice = np.zeros([size,size])\n",
    "\n",
    "T_num_in = 3\n",
    "B_num_in = 10\n",
    "\n",
    "# interaction matrix\n",
    "BB_int = 1\n",
    "TT_int = 2\n",
    "BT_int = 4\n",
    "eps = ([0,      0,      0], \n",
    "       [0, BB_int, BT_int],\n",
    "       [0, BT_int, TT_int])"
   ]
  },
  {
   "cell_type": "code",
   "execution_count": 43,
   "id": "e2cc0a84",
   "metadata": {},
   "outputs": [
    {
     "data": {
      "image/png": "[encoded data removed]",
      "text/plain": [
       "<Figure size 640x480 with 2 Axes>"
      ]
     },
     "metadata": {},
     "output_type": "display_data"
    }
   ],
   "source": [
    "# Place T cells and bacteria\n",
    "\n",
    "# Place T's randomly\n",
    "t_coords = set()\n",
    "while len(t_coords) < T_num_in:\n",
    "    t = (np.random.randint(size), np.random.randint(size))\n",
    "    if t not in t_coords:\n",
    "        t_coords.add(t)\n",
    "        lattice[t[0], t[1]] = 1\n",
    "\n",
    "# Place B's randomly\n",
    "b_coords = set()\n",
    "while len(b_coords) < B_num_in:\n",
    "    b = (np.random.randint(size), np.random.randint(size))\n",
    "    if b not in b_coords and b not in t_coords:\n",
    "        b_coords.add(b)\n",
    "        lattice[b[0], b[1]] = 2\n",
    "\n",
    "# Create a colormap for red (B) and blue (T)\n",
    "cmap = plt.cm.colors.ListedColormap(['white', 'blue', 'red'])\n",
    "\n",
    "# Plot the lattice\n",
    "plt.imshow(lattice, cmap=cmap, extent=[0, size, 0, size])\n",
    "plt.colorbar(ticks=[0, 1, 2], label=\"Legend\")\n",
    "plt.title(\"Lattice with T's (Blue) and B's (Red)\")\n",
    "\n",
    "#plt.grid(True, linewidth=0.5, color='black')\n",
    "\n",
    "plt.show()"
   ]
  },
  {
   "cell_type": "code",
   "execution_count": null,
   "id": "2e07d5b9",
   "metadata": {},
   "outputs": [],
   "source": []
  },
  {
   "cell_type": "code",
   "execution_count": 26,
   "id": "a4b3c31a",
   "metadata": {},
   "outputs": [],
   "source": [
    "# showing lattices as they evolve \n",
    "\n",
    "def lattice_plots(lattice_history, selected_indices):\n",
    "\n",
    "    cmap = plt.get_cmap(\"binary\", 2)\n",
    "\n",
    "    for i in range(len(selected_indices)):\n",
    "\n",
    "        # Create a plot\n",
    "        plt.matshow(lattice_history[i], cmap=cmap)\n",
    "       # plt.xticks(range(lattice.shape[1]))\n",
    "        #plt.yticks(range(lattice.shape[0]))\n",
    "\n",
    "        plt.grid(visible=False)\n",
    "\n",
    "        plt.title(f\"Lattice at Iteration {selected_indices[i]}\")  # Add a title with the iteration number\n",
    "\n",
    "        fig_name = f\"Plot\\Lattice_iter{selected_indices[i]}\"\n",
    "       # plt.savefig(fig_name)\n",
    "        plt.show()"
   ]
  },
  {
   "cell_type": "code",
   "execution_count": null,
   "id": "18514d65",
   "metadata": {},
   "outputs": [],
   "source": []
  },
  {
   "cell_type": "code",
   "execution_count": null,
   "id": "c4d25c1b",
   "metadata": {},
   "outputs": [],
   "source": [
    "# the interaction matrix can be used to decide how many bacteria are able to multiply. \n",
    "# if surrounded by T cells -> no division"
   ]
  }
 ],
 "metadata": {
  "kernelspec": {
   "display_name": "Python 3 (ipykernel)",
   "language": "python",
   "name": "python3"
  },
  "language_info": {
   "codemirror_mode": {
    "name": "ipython",
    "version": 3
   },
   "file_extension": ".py",
   "mimetype": "text/x-python",
   "name": "python",
   "nbconvert_exporter": "python",
   "pygments_lexer": "ipython3",
   "version": "3.11.4"
  }
 },
 "nbformat": 4,
 "nbformat_minor": 5
}
